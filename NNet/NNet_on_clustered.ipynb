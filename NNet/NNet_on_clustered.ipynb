{
 "cells": [
  {
   "cell_type": "code",
   "execution_count": 7,
   "metadata": {},
   "outputs": [],
   "source": [
    "import numpy as np\n",
    "import pandas as pd\n",
    "import sklearn\n",
    "from sklearn.model_selection import train_test_split\n",
    "import seaborn as sns\n",
    "from matplotlib import pyplot as plt\n",
    "from sklearn.preprocessing import StandardScaler, MinMaxScaler\n",
    "from sklearn.model_selection import train_test_split\n",
    "from sklearn.neighbors import KNeighborsClassifier\n",
    "\n",
    "import time\n",
    "from datetime import datetime\n",
    "import xgboost as xgb\n",
    "from xgboost import plot_importance\n",
    "from sklearn.metrics import mean_squared_error, mean_absolute_error, mean_squared_log_error, r2_score"
   ]
  },
  {
   "cell_type": "code",
   "execution_count": 3,
   "metadata": {},
   "outputs": [],
   "source": [
    "df = pd.read_csv(\"../Unsupervised_learning/train1_clustered.csv\", header=0, index_col=0)\n",
    "df_test = pd.read_csv(\"../test1.csv\")\n",
    "df_test = df_test.drop(['Unnamed: 0'], axis=1)"
   ]
  },
  {
   "cell_type": "code",
   "execution_count": 4,
   "metadata": {},
   "outputs": [],
   "source": [
    "x_train = df.drop(['price', 'cluster', 'price_category'], axis=1)\n",
    "y_train = df['cluster']"
   ]
  },
  {
   "cell_type": "code",
   "execution_count": 5,
   "metadata": {},
   "outputs": [],
   "source": [
    "x_test = df_test.drop(['price'], axis=1)"
   ]
  },
  {
   "cell_type": "code",
   "execution_count": 8,
   "metadata": {},
   "outputs": [],
   "source": [
    "knn = KNeighborsClassifier().fit(x_train, y_train)\n",
    "y_test = knn.predict(x_test)\n",
    "df_test['cluster'] = y_test"
   ]
  },
  {
   "cell_type": "code",
   "execution_count": 9,
   "metadata": {},
   "outputs": [],
   "source": [
    "xgb_reg = xgb.XGBRegressor()\n",
    "xgb_reg.fit(x_train, y_train)\n",
    "training_preds_xgb_reg = xgb_reg.predict(x_train)\n",
    "val_preds_xgb_reg = xgb_reg.predict(x_test)"
   ]
  },
  {
   "cell_type": "code",
   "execution_count": 11,
   "metadata": {},
   "outputs": [
    {
     "name": "stdout",
     "output_type": "stream",
     "text": [
      "\n",
      "Training MSE: 0.0\n",
      "Validation MSE: 0.0018\n",
      "\n",
      "Training RMSE: 0.0\n",
      "Validation RMSE: 0.0419\n",
      "\n",
      " Training MAE:  0.0\n",
      "Validation MAE: 0.0018\n",
      "\n",
      " Training MES-log:  0.0\n",
      "Validation MES-log: 0.0005\n",
      "\n",
      "Training r2: 1.0\n",
      "Validation r2: 0.9974\n"
     ]
    }
   ],
   "source": [
    "print(\"\\nTraining MSE:\", round(mean_squared_error(y_train, training_preds_xgb_reg),4))\n",
    "print(\"Validation MSE:\", round(mean_squared_error(y_test, val_preds_xgb_reg),4))\n",
    "print(\"\\nTraining RMSE:\", round(mean_squared_error(y_train, training_preds_xgb_reg, squared=False),4))\n",
    "print(\"Validation RMSE:\", round(mean_squared_error(y_test, val_preds_xgb_reg, squared=False),4))\n",
    "print(\"\\n Training MAE: \", round(mean_absolute_error(y_train, training_preds_xgb_reg),4))\n",
    "print(\"Validation MAE:\", round(mean_absolute_error(y_test, val_preds_xgb_reg),4))\n",
    "print(\"\\n Training MES-log: \", round(mean_squared_log_error(y_train, training_preds_xgb_reg),4))\n",
    "print(\"Validation MES-log:\", round(mean_squared_log_error(y_test, val_preds_xgb_reg),4))\n",
    "print(\"\\nTraining r2:\", round(r2_score(y_train, training_preds_xgb_reg),4))\n",
    "print(\"Validation r2:\", round(r2_score(y_test, val_preds_xgb_reg),4))"
   ]
  },
  {
   "cell_type": "code",
   "execution_count": null,
   "metadata": {},
   "outputs": [],
   "source": []
  }
 ],
 "metadata": {
  "kernelspec": {
   "display_name": "Python 3",
   "language": "python",
   "name": "python3"
  },
  "language_info": {
   "codemirror_mode": {
    "name": "ipython",
    "version": 3
   },
   "file_extension": ".py",
   "mimetype": "text/x-python",
   "name": "python",
   "nbconvert_exporter": "python",
   "pygments_lexer": "ipython3",
   "version": "3.8.3"
  }
 },
 "nbformat": 4,
 "nbformat_minor": 4
}
