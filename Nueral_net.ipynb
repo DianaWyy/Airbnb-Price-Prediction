{
  "nbformat": 4,
  "nbformat_minor": 0,
  "metadata": {
    "colab": {
      "name": "Nueral_net.ipynb",
      "provenance": []
    },
    "kernelspec": {
      "name": "python3",
      "display_name": "Python 3"
    }
  },
  "cells": [
    {
      "cell_type": "code",
      "metadata": {
        "id": "Kz9wGmdSVxV5"
      },
      "source": [
        "import numpy as np\n",
        "import pandas as pd\n",
        "from sklearn.neural_network import MLPRegressor\n",
        "from sklearn.metrics import mean_absolute_error\n",
        "from sklearn.metrics import mean_squared_error\n",
        "from sklearn.metrics import mean_squared_log_error\n",
        "from sklearn.metrics import r2_score"
      ],
      "execution_count": 1,
      "outputs": []
    },
    {
      "cell_type": "code",
      "metadata": {
        "id": "noe5mL1-WMWn"
      },
      "source": [
        "train = pd.read_csv(\"train1.csv\", index_col=0)\n",
        "test = pd.read_csv(\"test1.csv\", index_col=0)"
      ],
      "execution_count": 2,
      "outputs": []
    },
    {
      "cell_type": "code",
      "metadata": {
        "id": "KRJO7XgxWN_G"
      },
      "source": [
        "xtrain = train.iloc[:, :-1]\n",
        "ytrain = train.iloc[:, -1]\n",
        "xtest = test.iloc[:, :-1]\n",
        "ytest = test.iloc[:, -1]"
      ],
      "execution_count": 3,
      "outputs": []
    },
    {
      "cell_type": "code",
      "metadata": {
        "colab": {
          "base_uri": "https://localhost:8080/"
        },
        "id": "yP2Af3l9WYNZ",
        "outputId": "0380262f-1067-43c3-b92c-db2908b4faed"
      },
      "source": [
        "mlp = MLPRegressor(hidden_layer_sizes = (128, 256, 256, 512), activation='relu', solver='adam', learning_rate_init=0.01, max_iter=150)\n",
        "mlp.fit(xtrain, ytrain)\n",
        "predictions = mlp.predict(xtest)\n",
        "rmse = np.sqrt(mean_squared_error(predictions, ytest))\n",
        "mae = mean_absolute_error(predictions, ytest)\n",
        "log_mse = mean_squared_log_error(predictions, ytest)\n",
        "r2 = r2_score(ytest, predictions)\n",
        "print(\"rmse is: \", rmse)\n",
        "print(\"mae is: \", mae)\n",
        "print(\"log_mse is: \", log_mse)\n",
        "print('r2_Score is: ', r2)"
      ],
      "execution_count": 7,
      "outputs": [
        {
          "output_type": "stream",
          "text": [
            "/usr/local/lib/python3.6/dist-packages/sklearn/neural_network/_multilayer_perceptron.py:571: ConvergenceWarning: Stochastic Optimizer: Maximum iterations (150) reached and the optimization hasn't converged yet.\n",
            "  % self.max_iter, ConvergenceWarning)\n"
          ],
          "name": "stderr"
        },
        {
          "output_type": "stream",
          "text": [
            "rmse is:  38.61089821946372\n",
            "mae is:  30.213768380234562\n",
            "log_mse is:  0.15517899486624043\n",
            "r2_Score is:  0.4811694317689126\n"
          ],
          "name": "stdout"
        }
      ]
    }
  ]
}