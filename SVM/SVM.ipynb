{
 "cells": [
  {
   "cell_type": "code",
   "execution_count": 1,
   "metadata": {},
   "outputs": [],
   "source": [
    "import numpy as np\n",
    "import pandas as pd\n",
    "import sklearn\n",
    "from matplotlib import pyplot as plt"
   ]
  },
  {
   "cell_type": "code",
   "execution_count": 2,
   "metadata": {},
   "outputs": [],
   "source": [
    "from sklearn.svm import LinearSVC, SVR, SVC\n",
    "# For Storing Models\n",
    "import pickle\n",
    "# For timing\n",
    "import time\n",
    "from datetime import timedelta\n",
    "from sklearn.metrics import mean_squared_error"
   ]
  },
  {
   "cell_type": "code",
   "execution_count": 3,
   "metadata": {},
   "outputs": [],
   "source": [
    "# SMAPE\n",
    "def symmetric_mean_absolute_percentage_error(y_true, y_pred): \n",
    "    y_true, y_pred = np.array(y_true), np.array(y_pred)\n",
    "    return 100/len(y_true) * np.sum(2 * np.abs(y_pred - y_true) / (np.abs(y_true) + np.abs(y_pred)))"
   ]
  },
  {
   "cell_type": "code",
   "execution_count": 4,
   "metadata": {},
   "outputs": [],
   "source": [
    "df = pd.read_csv(\"../train1.csv\")\n",
    "df_test = pd.read_csv(\"../test1.csv\")"
   ]
  },
  {
   "cell_type": "code",
   "execution_count": 5,
   "metadata": {},
   "outputs": [],
   "source": [
    "x_train = df[['pca_component 0', 'pca_component 1', 'pca_component 2', 'pca_component 3', 'pca_component 4', \"pca_component 5\", \"pca_component 6\", \"pca_component 7\", \"pca_component 8\", \"pca_component 9\", \"pca_component 10\"]]\n",
    "y_train = df['price']\n",
    "x_test = df_test[['pca_component 0', 'pca_component 1', 'pca_component 2', 'pca_component 3', 'pca_component 4', \"pca_component 5\", \"pca_component 6\", \"pca_component 7\", \"pca_component 8\", \"pca_component 9\", \"pca_component 10\"]]\n",
    "y_test = df_test['price']"
   ]
  },
  {
   "cell_type": "code",
   "execution_count": 6,
   "metadata": {
    "scrolled": true
   },
   "outputs": [],
   "source": [
    "#Min Max Scaling\n",
    "from sklearn.preprocessing import MinMaxScaler\n",
    "scaler = MinMaxScaler()\n",
    "x_train_svr = scaler.fit_transform(x_train)\n",
    "x_test_svr = scaler.transform(x_test)\n",
    "y_train_svr = y_train.ravel()\n",
    "y_test_svr = y_test.ravel()"
   ]
  },
  {
   "cell_type": "code",
   "execution_count": 7,
   "metadata": {},
   "outputs": [
    {
     "name": "stdout",
     "output_type": "stream",
     "text": [
      "Training Started for 1 model\n",
      "Training Done for 1 model\n",
      "Time Taken:  0:00:21.259041\n",
      "Training Started for 1 model\n",
      "Training Done for 1 model\n",
      "Time Taken:  0:00:32.608808\n",
      "Training Started for 1 model\n",
      "Training Done for 1 model\n",
      "Time Taken:  0:00:24.382730\n"
     ]
    }
   ],
   "source": [
    "#Train the SVRs with different kernels\n",
    "clf = [SVR(kernel='linear'),\n",
    "       SVR(kernel='rbf'),\n",
    "       SVR(kernel='poly')]\n",
    "for i in range(3):\n",
    "    print(\"Training Started for 1 model\")\n",
    "    start_time = time.monotonic()\n",
    "    clf[i].fit(x_train_svr, y_train)\n",
    "    end_time = time.monotonic()\n",
    "    print(\"Training Done for 1 model\")\n",
    "    print(\"Time Taken: \",timedelta(seconds=end_time - start_time) )\n",
    "# save the model\n",
    "model = clf\n",
    "filename = '../SVM/svr_models.sav'\n",
    "pickle.dump(model, open(filename, 'wb'))"
   ]
  },
  {
   "cell_type": "code",
   "execution_count": 9,
   "metadata": {},
   "outputs": [
    {
     "name": "stdout",
     "output_type": "stream",
     "text": [
      "Training Data\n",
      "R^2 value using score fn: 0.427\n",
      "Mean Squared Log Error : 1662.667\n",
      "Root Mean Squared Error : 40.776\n",
      "SMAPE : 193.587 \n",
      "Training Data\n",
      "R^2 value using score fn: 0.453\n",
      "Mean Squared Log Error : 1586.478\n",
      "Root Mean Squared Error : 39.831\n",
      "SMAPE : 193.017 \n",
      "Training Data\n",
      "R^2 value using score fn: 0.450\n",
      "Mean Squared Log Error : 1594.346\n",
      "Root Mean Squared Error : 39.929\n",
      "SMAPE : 192.699 \n"
     ]
    }
   ],
   "source": [
    "for i in range(3):\n",
    "    # Use the model to predict values\n",
    "    y_pred_svr = clf[i].predict(x_train_svr)\n",
    "\n",
    "    # Calculate the Mean Squared Error using the mean_squared_error function.\n",
    "    print(\"Training Data\")\n",
    "    print(\"R^2 value using score fn: %.3f\" % clf[i].score(x_train_svr,y_train_svr))\n",
    "    print(\"Mean Squared Log Error : %0.3f\" % mean_squared_error(y_train_svr,y_pred_svr))\n",
    "    print(\"Root Mean Squared Error : %0.3f\" % mean_squared_error(y_train_svr,y_pred_svr, squared=False))\n",
    "    print(\"SMAPE : %0.3f \" % symmetric_mean_absolute_percentage_error(np.exp(y_train_svr),np.exp(y_pred_svr)))"
   ]
  },
  {
   "cell_type": "code",
   "execution_count": 10,
   "metadata": {},
   "outputs": [
    {
     "name": "stdout",
     "output_type": "stream",
     "text": [
      "Test Data\n",
      "R^2 value using score fn: 0.440\n",
      "Mean Squared Log Error : 1609.601\n",
      "Root Mean Squared Error : 40.120\n",
      "SMAPE : 193.670 \n",
      "Test Data\n",
      "R^2 value using score fn: 0.466\n",
      "Mean Squared Log Error : 1535.585\n",
      "Root Mean Squared Error : 39.187\n",
      "SMAPE : 192.794 \n",
      "Test Data\n",
      "R^2 value using score fn: 0.459\n",
      "Mean Squared Log Error : 1553.307\n",
      "Root Mean Squared Error : 39.412\n",
      "SMAPE : 192.860 \n"
     ]
    }
   ],
   "source": [
    "for i in range(3):\n",
    "    # Use the model to predict values\n",
    "    y_pred_svr = clf[i].predict(x_test_svr)\n",
    "\n",
    "    # Calculate the Mean Squared Error using the mean_squared_error function.\n",
    "    print(\"Test Data\")\n",
    "    print(\"R^2 value using score fn: %.3f\" % clf[i].score(x_test_svr,y_test_svr))\n",
    "    print(\"Mean Squared Log Error : %0.3f\" % mean_squared_error(y_test_svr,y_pred_svr))\n",
    "    print(\"Root Mean Squared Error : %0.3f\" % mean_squared_error(y_test_svr,y_pred_svr, squared=False))\n",
    "    print(\"SMAPE : %0.3f \" % symmetric_mean_absolute_percentage_error(np.exp(y_test_svr),np.exp(y_pred_svr)))\n"
   ]
  },
  {
   "cell_type": "code",
   "execution_count": null,
   "metadata": {},
   "outputs": [],
   "source": []
  }
 ],
 "metadata": {
  "kernelspec": {
   "display_name": "Python 3",
   "language": "python",
   "name": "python3"
  },
  "language_info": {
   "codemirror_mode": {
    "name": "ipython",
    "version": 3
   },
   "file_extension": ".py",
   "mimetype": "text/x-python",
   "name": "python",
   "nbconvert_exporter": "python",
   "pygments_lexer": "ipython3",
   "version": "3.8.3"
  }
 },
 "nbformat": 4,
 "nbformat_minor": 4
}
