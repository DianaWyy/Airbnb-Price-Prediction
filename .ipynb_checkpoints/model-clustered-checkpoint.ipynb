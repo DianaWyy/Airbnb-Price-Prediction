{
 "cells": [
  {
   "cell_type": "code",
   "execution_count": 1,
   "metadata": {
    "executionInfo": {
     "elapsed": 828,
     "status": "ok",
     "timestamp": 1606784537783,
     "user": {
      "displayName": "Hongrui Lyu",
      "photoUrl": "",
      "userId": "17415443092015708328"
     },
     "user_tz": 300
    },
    "id": "fbJ5Q3WxtKUX"
   },
   "outputs": [],
   "source": [
    "import numpy as np\n",
    "import pandas as pd\n",
    "from sklearn.neighbors import KNeighborsClassifier\n",
    "from sklearn.ensemble import RandomForestRegressor\n",
    "from sklearn.ensemble import AdaBoostRegressor\n",
    "from sklearn.tree import DecisionTreeRegressor\n",
    "import matplotlib.pyplot as plt\n",
    "from sklearn.metrics import mean_absolute_error\n",
    "from sklearn.metrics import mean_squared_error\n",
    "from sklearn.metrics import mean_squared_log_error\n",
    "from sklearn.model_selection import GridSearchCV"
   ]
  },
  {
   "cell_type": "code",
   "execution_count": 17,
   "metadata": {
    "colab": {
     "base_uri": "https://localhost:8080/",
     "height": 232
    },
    "executionInfo": {
     "elapsed": 587,
     "status": "ok",
     "timestamp": 1606785206478,
     "user": {
      "displayName": "Hongrui Lyu",
      "photoUrl": "",
      "userId": "17415443092015708328"
     },
     "user_tz": 300
    },
    "id": "dW8Ixcz90lam",
    "outputId": "9b708ad2-d7db-47f2-afd6-b51910ad94a4"
   },
   "outputs": [
    {
     "data": {
      "text/html": [
       "<div>\n",
       "<style scoped>\n",
       "    .dataframe tbody tr th:only-of-type {\n",
       "        vertical-align: middle;\n",
       "    }\n",
       "\n",
       "    .dataframe tbody tr th {\n",
       "        vertical-align: top;\n",
       "    }\n",
       "\n",
       "    .dataframe thead th {\n",
       "        text-align: right;\n",
       "    }\n",
       "</style>\n",
       "<table border=\"1\" class=\"dataframe\">\n",
       "  <thead>\n",
       "    <tr style=\"text-align: right;\">\n",
       "      <th></th>\n",
       "      <th>pca_component 0</th>\n",
       "      <th>pca_component 1</th>\n",
       "      <th>pca_component 2</th>\n",
       "      <th>pca_component 3</th>\n",
       "      <th>pca_component 4</th>\n",
       "      <th>pca_component 5</th>\n",
       "      <th>pca_component 6</th>\n",
       "      <th>pca_component 7</th>\n",
       "      <th>pca_component 8</th>\n",
       "      <th>pca_component 9</th>\n",
       "      <th>pca_component 10</th>\n",
       "      <th>price</th>\n",
       "      <th>price_category</th>\n",
       "      <th>cluster</th>\n",
       "    </tr>\n",
       "  </thead>\n",
       "  <tbody>\n",
       "    <tr>\n",
       "      <th>0</th>\n",
       "      <td>111.257356</td>\n",
       "      <td>-19.034748</td>\n",
       "      <td>4.862769</td>\n",
       "      <td>5.177924</td>\n",
       "      <td>4.656782</td>\n",
       "      <td>-1.921391</td>\n",
       "      <td>-0.183095</td>\n",
       "      <td>-0.501683</td>\n",
       "      <td>0.228178</td>\n",
       "      <td>0.155032</td>\n",
       "      <td>-0.045540</td>\n",
       "      <td>42.0</td>\n",
       "      <td>low</td>\n",
       "      <td>2</td>\n",
       "    </tr>\n",
       "    <tr>\n",
       "      <th>1</th>\n",
       "      <td>83.044684</td>\n",
       "      <td>-16.618402</td>\n",
       "      <td>-1.045081</td>\n",
       "      <td>-27.007275</td>\n",
       "      <td>1.369359</td>\n",
       "      <td>-1.257543</td>\n",
       "      <td>1.601341</td>\n",
       "      <td>-0.070470</td>\n",
       "      <td>0.348136</td>\n",
       "      <td>0.057967</td>\n",
       "      <td>-0.059666</td>\n",
       "      <td>70.0</td>\n",
       "      <td>low</td>\n",
       "      <td>2</td>\n",
       "    </tr>\n",
       "    <tr>\n",
       "      <th>2</th>\n",
       "      <td>-40.735853</td>\n",
       "      <td>-16.486288</td>\n",
       "      <td>8.230134</td>\n",
       "      <td>2.939946</td>\n",
       "      <td>-0.154164</td>\n",
       "      <td>3.420576</td>\n",
       "      <td>-1.148351</td>\n",
       "      <td>0.267577</td>\n",
       "      <td>-0.051632</td>\n",
       "      <td>0.067243</td>\n",
       "      <td>-0.002725</td>\n",
       "      <td>120.0</td>\n",
       "      <td>medium</td>\n",
       "      <td>0</td>\n",
       "    </tr>\n",
       "    <tr>\n",
       "      <th>3</th>\n",
       "      <td>52.478668</td>\n",
       "      <td>-20.196244</td>\n",
       "      <td>19.246323</td>\n",
       "      <td>40.140551</td>\n",
       "      <td>6.309285</td>\n",
       "      <td>2.801438</td>\n",
       "      <td>-0.923490</td>\n",
       "      <td>0.266367</td>\n",
       "      <td>-0.188993</td>\n",
       "      <td>0.018491</td>\n",
       "      <td>0.047119</td>\n",
       "      <td>120.0</td>\n",
       "      <td>medium</td>\n",
       "      <td>2</td>\n",
       "    </tr>\n",
       "    <tr>\n",
       "      <th>4</th>\n",
       "      <td>-2.510515</td>\n",
       "      <td>-18.811422</td>\n",
       "      <td>-2.803176</td>\n",
       "      <td>16.615282</td>\n",
       "      <td>-20.676484</td>\n",
       "      <td>2.069589</td>\n",
       "      <td>-0.209310</td>\n",
       "      <td>0.216395</td>\n",
       "      <td>-0.523536</td>\n",
       "      <td>-0.190009</td>\n",
       "      <td>0.008872</td>\n",
       "      <td>120.0</td>\n",
       "      <td>medium</td>\n",
       "      <td>1</td>\n",
       "    </tr>\n",
       "  </tbody>\n",
       "</table>\n",
       "</div>"
      ],
      "text/plain": [
       "   pca_component 0  pca_component 1  ...  price_category  cluster\n",
       "0       111.257356       -19.034748  ...             low        2\n",
       "1        83.044684       -16.618402  ...             low        2\n",
       "2       -40.735853       -16.486288  ...          medium        0\n",
       "3        52.478668       -20.196244  ...          medium        2\n",
       "4        -2.510515       -18.811422  ...          medium        1\n",
       "\n",
       "[5 rows x 14 columns]"
      ]
     },
     "execution_count": 17,
     "metadata": {
      "tags": []
     },
     "output_type": "execute_result"
    }
   ],
   "source": [
    "train_data = pd.read_csv(\"train1_clustered.csv\", header=0, index_col=0)\n",
    "train_data.head()"
   ]
  },
  {
   "cell_type": "code",
   "execution_count": 18,
   "metadata": {
    "executionInfo": {
     "elapsed": 582,
     "status": "ok",
     "timestamp": 1606785209699,
     "user": {
      "displayName": "Hongrui Lyu",
      "photoUrl": "",
      "userId": "17415443092015708328"
     },
     "user_tz": 300
    },
    "id": "ufoCie3C1Oj1"
   },
   "outputs": [],
   "source": [
    "train_x = train_data.drop(['price', 'cluster', 'price_category'], axis=1)\n",
    "train_category = train_data['cluster']"
   ]
  },
  {
   "cell_type": "code",
   "execution_count": 19,
   "metadata": {
    "colab": {
     "base_uri": "https://localhost:8080/",
     "height": 232
    },
    "executionInfo": {
     "elapsed": 517,
     "status": "ok",
     "timestamp": 1606785215777,
     "user": {
      "displayName": "Hongrui Lyu",
      "photoUrl": "",
      "userId": "17415443092015708328"
     },
     "user_tz": 300
    },
    "id": "C6ptgvps1tlx",
    "outputId": "d6bf0d8a-d551-4c5e-a54c-770c3e4b1e01"
   },
   "outputs": [
    {
     "data": {
      "text/html": [
       "<div>\n",
       "<style scoped>\n",
       "    .dataframe tbody tr th:only-of-type {\n",
       "        vertical-align: middle;\n",
       "    }\n",
       "\n",
       "    .dataframe tbody tr th {\n",
       "        vertical-align: top;\n",
       "    }\n",
       "\n",
       "    .dataframe thead th {\n",
       "        text-align: right;\n",
       "    }\n",
       "</style>\n",
       "<table border=\"1\" class=\"dataframe\">\n",
       "  <thead>\n",
       "    <tr style=\"text-align: right;\">\n",
       "      <th></th>\n",
       "      <th>pca_component 0</th>\n",
       "      <th>pca_component 1</th>\n",
       "      <th>pca_component 2</th>\n",
       "      <th>pca_component 3</th>\n",
       "      <th>pca_component 4</th>\n",
       "      <th>pca_component 5</th>\n",
       "      <th>pca_component 6</th>\n",
       "      <th>pca_component 7</th>\n",
       "      <th>pca_component 8</th>\n",
       "      <th>pca_component 9</th>\n",
       "      <th>pca_component 10</th>\n",
       "      <th>price</th>\n",
       "    </tr>\n",
       "  </thead>\n",
       "  <tbody>\n",
       "    <tr>\n",
       "      <th>0</th>\n",
       "      <td>108.926041</td>\n",
       "      <td>27.386655</td>\n",
       "      <td>6.421149</td>\n",
       "      <td>-14.615405</td>\n",
       "      <td>-3.498109</td>\n",
       "      <td>0.131333</td>\n",
       "      <td>-0.102821</td>\n",
       "      <td>0.474863</td>\n",
       "      <td>-0.030184</td>\n",
       "      <td>0.034442</td>\n",
       "      <td>-0.020059</td>\n",
       "      <td>185.0</td>\n",
       "    </tr>\n",
       "    <tr>\n",
       "      <th>1</th>\n",
       "      <td>-75.767410</td>\n",
       "      <td>29.599789</td>\n",
       "      <td>-18.121252</td>\n",
       "      <td>14.259126</td>\n",
       "      <td>4.108675</td>\n",
       "      <td>-0.400869</td>\n",
       "      <td>-0.484841</td>\n",
       "      <td>-0.533457</td>\n",
       "      <td>0.513539</td>\n",
       "      <td>-0.183396</td>\n",
       "      <td>-0.009645</td>\n",
       "      <td>65.0</td>\n",
       "    </tr>\n",
       "    <tr>\n",
       "      <th>2</th>\n",
       "      <td>85.211003</td>\n",
       "      <td>-18.074420</td>\n",
       "      <td>4.772577</td>\n",
       "      <td>-0.946582</td>\n",
       "      <td>5.378793</td>\n",
       "      <td>-1.653010</td>\n",
       "      <td>1.458139</td>\n",
       "      <td>-0.109237</td>\n",
       "      <td>0.222179</td>\n",
       "      <td>0.048921</td>\n",
       "      <td>-0.061030</td>\n",
       "      <td>100.0</td>\n",
       "    </tr>\n",
       "    <tr>\n",
       "      <th>3</th>\n",
       "      <td>-10.862716</td>\n",
       "      <td>-15.880150</td>\n",
       "      <td>3.203471</td>\n",
       "      <td>-13.939000</td>\n",
       "      <td>1.920309</td>\n",
       "      <td>1.620542</td>\n",
       "      <td>2.286855</td>\n",
       "      <td>0.066728</td>\n",
       "      <td>0.680827</td>\n",
       "      <td>-0.272484</td>\n",
       "      <td>-0.062163</td>\n",
       "      <td>199.0</td>\n",
       "    </tr>\n",
       "    <tr>\n",
       "      <th>4</th>\n",
       "      <td>22.114263</td>\n",
       "      <td>27.336957</td>\n",
       "      <td>11.271736</td>\n",
       "      <td>10.756515</td>\n",
       "      <td>-3.451199</td>\n",
       "      <td>-0.873701</td>\n",
       "      <td>-0.727680</td>\n",
       "      <td>0.325945</td>\n",
       "      <td>0.262835</td>\n",
       "      <td>-0.080813</td>\n",
       "      <td>0.005097</td>\n",
       "      <td>170.0</td>\n",
       "    </tr>\n",
       "  </tbody>\n",
       "</table>\n",
       "</div>"
      ],
      "text/plain": [
       "   pca_component 0  pca_component 1  ...  pca_component 10  price\n",
       "0       108.926041        27.386655  ...         -0.020059  185.0\n",
       "1       -75.767410        29.599789  ...         -0.009645   65.0\n",
       "2        85.211003       -18.074420  ...         -0.061030  100.0\n",
       "3       -10.862716       -15.880150  ...         -0.062163  199.0\n",
       "4        22.114263        27.336957  ...          0.005097  170.0\n",
       "\n",
       "[5 rows x 12 columns]"
      ]
     },
     "execution_count": 19,
     "metadata": {
      "tags": []
     },
     "output_type": "execute_result"
    }
   ],
   "source": [
    "test_data = pd.read_csv('test1.csv', header=0, index_col=0)\n",
    "test_data.head()"
   ]
  },
  {
   "cell_type": "code",
   "execution_count": 20,
   "metadata": {
    "executionInfo": {
     "elapsed": 857,
     "status": "ok",
     "timestamp": 1606785217340,
     "user": {
      "displayName": "Hongrui Lyu",
      "photoUrl": "",
      "userId": "17415443092015708328"
     },
     "user_tz": 300
    },
    "id": "iHgKVQOa16H1"
   },
   "outputs": [],
   "source": [
    "knn = KNeighborsClassifier().fit(train_x, train_category)"
   ]
  },
  {
   "cell_type": "code",
   "execution_count": 21,
   "metadata": {
    "executionInfo": {
     "elapsed": 909,
     "status": "ok",
     "timestamp": 1606785219732,
     "user": {
      "displayName": "Hongrui Lyu",
      "photoUrl": "",
      "userId": "17415443092015708328"
     },
     "user_tz": 300
    },
    "id": "mvinvOTj2cHQ"
   },
   "outputs": [],
   "source": [
    "test_category = knn.predict(test_data.drop(['price'], axis=1))"
   ]
  },
  {
   "cell_type": "code",
   "execution_count": 23,
   "metadata": {
    "executionInfo": {
     "elapsed": 526,
     "status": "ok",
     "timestamp": 1606785300481,
     "user": {
      "displayName": "Hongrui Lyu",
      "photoUrl": "",
      "userId": "17415443092015708328"
     },
     "user_tz": 300
    },
    "id": "MSb80SQg3MQn"
   },
   "outputs": [],
   "source": [
    "test_data['cluster'] = test_category"
   ]
  },
  {
   "cell_type": "code",
   "execution_count": 24,
   "metadata": {
    "colab": {
     "base_uri": "https://localhost:8080/",
     "height": 232
    },
    "executionInfo": {
     "elapsed": 565,
     "status": "ok",
     "timestamp": 1606785308451,
     "user": {
      "displayName": "Hongrui Lyu",
      "photoUrl": "",
      "userId": "17415443092015708328"
     },
     "user_tz": 300
    },
    "id": "qiN-FyeB3f9T",
    "outputId": "cd78433b-5c23-4210-ff7e-a01db205254c"
   },
   "outputs": [
    {
     "data": {
      "text/html": [
       "<div>\n",
       "<style scoped>\n",
       "    .dataframe tbody tr th:only-of-type {\n",
       "        vertical-align: middle;\n",
       "    }\n",
       "\n",
       "    .dataframe tbody tr th {\n",
       "        vertical-align: top;\n",
       "    }\n",
       "\n",
       "    .dataframe thead th {\n",
       "        text-align: right;\n",
       "    }\n",
       "</style>\n",
       "<table border=\"1\" class=\"dataframe\">\n",
       "  <thead>\n",
       "    <tr style=\"text-align: right;\">\n",
       "      <th></th>\n",
       "      <th>pca_component 0</th>\n",
       "      <th>pca_component 1</th>\n",
       "      <th>pca_component 2</th>\n",
       "      <th>pca_component 3</th>\n",
       "      <th>pca_component 4</th>\n",
       "      <th>pca_component 5</th>\n",
       "      <th>pca_component 6</th>\n",
       "      <th>pca_component 7</th>\n",
       "      <th>pca_component 8</th>\n",
       "      <th>pca_component 9</th>\n",
       "      <th>pca_component 10</th>\n",
       "      <th>price</th>\n",
       "      <th>cluster</th>\n",
       "    </tr>\n",
       "  </thead>\n",
       "  <tbody>\n",
       "    <tr>\n",
       "      <th>0</th>\n",
       "      <td>108.926041</td>\n",
       "      <td>27.386655</td>\n",
       "      <td>6.421149</td>\n",
       "      <td>-14.615405</td>\n",
       "      <td>-3.498109</td>\n",
       "      <td>0.131333</td>\n",
       "      <td>-0.102821</td>\n",
       "      <td>0.474863</td>\n",
       "      <td>-0.030184</td>\n",
       "      <td>0.034442</td>\n",
       "      <td>-0.020059</td>\n",
       "      <td>185.0</td>\n",
       "      <td>2</td>\n",
       "    </tr>\n",
       "    <tr>\n",
       "      <th>1</th>\n",
       "      <td>-75.767410</td>\n",
       "      <td>29.599789</td>\n",
       "      <td>-18.121252</td>\n",
       "      <td>14.259126</td>\n",
       "      <td>4.108675</td>\n",
       "      <td>-0.400869</td>\n",
       "      <td>-0.484841</td>\n",
       "      <td>-0.533457</td>\n",
       "      <td>0.513539</td>\n",
       "      <td>-0.183396</td>\n",
       "      <td>-0.009645</td>\n",
       "      <td>65.0</td>\n",
       "      <td>0</td>\n",
       "    </tr>\n",
       "    <tr>\n",
       "      <th>2</th>\n",
       "      <td>85.211003</td>\n",
       "      <td>-18.074420</td>\n",
       "      <td>4.772577</td>\n",
       "      <td>-0.946582</td>\n",
       "      <td>5.378793</td>\n",
       "      <td>-1.653010</td>\n",
       "      <td>1.458139</td>\n",
       "      <td>-0.109237</td>\n",
       "      <td>0.222179</td>\n",
       "      <td>0.048921</td>\n",
       "      <td>-0.061030</td>\n",
       "      <td>100.0</td>\n",
       "      <td>2</td>\n",
       "    </tr>\n",
       "    <tr>\n",
       "      <th>3</th>\n",
       "      <td>-10.862716</td>\n",
       "      <td>-15.880150</td>\n",
       "      <td>3.203471</td>\n",
       "      <td>-13.939000</td>\n",
       "      <td>1.920309</td>\n",
       "      <td>1.620542</td>\n",
       "      <td>2.286855</td>\n",
       "      <td>0.066728</td>\n",
       "      <td>0.680827</td>\n",
       "      <td>-0.272484</td>\n",
       "      <td>-0.062163</td>\n",
       "      <td>199.0</td>\n",
       "      <td>1</td>\n",
       "    </tr>\n",
       "    <tr>\n",
       "      <th>4</th>\n",
       "      <td>22.114263</td>\n",
       "      <td>27.336957</td>\n",
       "      <td>11.271736</td>\n",
       "      <td>10.756515</td>\n",
       "      <td>-3.451199</td>\n",
       "      <td>-0.873701</td>\n",
       "      <td>-0.727680</td>\n",
       "      <td>0.325945</td>\n",
       "      <td>0.262835</td>\n",
       "      <td>-0.080813</td>\n",
       "      <td>0.005097</td>\n",
       "      <td>170.0</td>\n",
       "      <td>1</td>\n",
       "    </tr>\n",
       "  </tbody>\n",
       "</table>\n",
       "</div>"
      ],
      "text/plain": [
       "   pca_component 0  pca_component 1  ...  price  cluster\n",
       "0       108.926041        27.386655  ...  185.0        2\n",
       "1       -75.767410        29.599789  ...   65.0        0\n",
       "2        85.211003       -18.074420  ...  100.0        2\n",
       "3       -10.862716       -15.880150  ...  199.0        1\n",
       "4        22.114263        27.336957  ...  170.0        1\n",
       "\n",
       "[5 rows x 13 columns]"
      ]
     },
     "execution_count": 24,
     "metadata": {
      "tags": []
     },
     "output_type": "execute_result"
    }
   ],
   "source": [
    "test_data.head()"
   ]
  },
  {
   "cell_type": "code",
   "execution_count": 27,
   "metadata": {
    "executionInfo": {
     "elapsed": 842701,
     "status": "ok",
     "timestamp": 1606786722349,
     "user": {
      "displayName": "Hongrui Lyu",
      "photoUrl": "",
      "userId": "17415443092015708328"
     },
     "user_tz": 300
    },
    "id": "BfvpYket3udz"
   },
   "outputs": [],
   "source": [
    "original_price = []\n",
    "predicted_price = []\n",
    "for i in range(3):\n",
    "  train = train_data[train_data['cluster'] == i]\n",
    "  test = test_data[test_data['cluster'] == i]\n",
    "  train_x = train.drop(['cluster', 'price', 'price_category'], axis=1)\n",
    "  train_y = train['price']\n",
    "  original_price.append(test['price'])\n",
    "  test_x = test.drop(['cluster', 'price'], axis=1)\n",
    "  rf = RandomForestRegressor()\n",
    "  rf_params = {'n_estimators':[i for i in range(50, 101, 10)], 'max_depth':[i for i in range(6,11, 2)]}\n",
    "  grid_rf = GridSearchCV(estimator=rf, param_grid=rf_params, n_jobs=-1).fit(train_x, train_y)\n",
    "  predicted_price.append(grid_rf.predict(test_x))"
   ]
  },
  {
   "cell_type": "code",
   "execution_count": 28,
   "metadata": {
    "colab": {
     "base_uri": "https://localhost:8080/"
    },
    "executionInfo": {
     "elapsed": 527,
     "status": "ok",
     "timestamp": 1606786862219,
     "user": {
      "displayName": "Hongrui Lyu",
      "photoUrl": "",
      "userId": "17415443092015708328"
     },
     "user_tz": 300
    },
    "id": "vYbst-ra9G7-",
    "outputId": "77d93c5e-12bc-4b8c-a039-c3fa543d9125"
   },
   "outputs": [
    {
     "name": "stdout",
     "output_type": "stream",
     "text": [
      "rmse is:  35.434480824918225\n",
      "mae is:  26.89096631217333\n",
      "log_mse is:  0.12596604233245537\n"
     ]
    }
   ],
   "source": [
    "original = np.concatenate(original_price)\n",
    "predicted = np.concatenate(predicted_price)\n",
    "rmse = np.sqrt(mean_squared_error(predicted, original))\n",
    "mae = mean_absolute_error(predicted, original)\n",
    "log_mse = mean_squared_log_error(predicted, original)\n",
    "print(\"rmse is: \", rmse)\n",
    "print(\"mae is: \", mae)\n",
    "print(\"log_mse is: \", log_mse)"
   ]
  },
  {
   "cell_type": "code",
   "execution_count": 29,
   "metadata": {
    "executionInfo": {
     "elapsed": 1472996,
     "status": "ok",
     "timestamp": 1606788504858,
     "user": {
      "displayName": "Hongrui Lyu",
      "photoUrl": "",
      "userId": "17415443092015708328"
     },
     "user_tz": 300
    },
    "id": "058hoFtJ9xAW"
   },
   "outputs": [],
   "source": [
    "original_price = []\n",
    "predicted_price = []\n",
    "for i in range(3):\n",
    "  train = train_data[train_data['cluster'] == i]\n",
    "  test = test_data[test_data['cluster'] == i]\n",
    "  train_x = train.drop(['cluster', 'price', 'price_category'], axis=1)\n",
    "  train_y = train['price']\n",
    "  original_price.append(test['price'])\n",
    "  test_x = test.drop(['cluster', 'price'], axis=1)\n",
    "  ad = AdaBoostRegressor(DecisionTreeRegressor(max_depth=10))\n",
    "  ad_params = {'n_estimators':[i for i in range(50, 101, 10)], 'loss':['linear',  'exponential'], 'learning_rate':[0.5, 1]}\n",
    "  grid_ad = GridSearchCV(estimator=ad, param_grid=ad_params, n_jobs=-1).fit(train_x, train_y)\n",
    "  predicted_price.append(grid_ad.predict(test_x))"
   ]
  },
  {
   "cell_type": "code",
   "execution_count": 30,
   "metadata": {
    "colab": {
     "base_uri": "https://localhost:8080/"
    },
    "executionInfo": {
     "elapsed": 854,
     "status": "ok",
     "timestamp": 1606788505718,
     "user": {
      "displayName": "Hongrui Lyu",
      "photoUrl": "",
      "userId": "17415443092015708328"
     },
     "user_tz": 300
    },
    "id": "T-fEZv4W-Flb",
    "outputId": "96b38f13-f7c0-4877-add2-c10b583df873"
   },
   "outputs": [
    {
     "name": "stdout",
     "output_type": "stream",
     "text": [
      "rmse is:  36.612450676084144\n",
      "mae is:  28.720934080211617\n",
      "log_mse is:  0.14253645477671623\n"
     ]
    }
   ],
   "source": [
    "original = np.concatenate(original_price)\n",
    "predicted = np.concatenate(predicted_price)\n",
    "rmse = np.sqrt(mean_squared_error(predicted, original))\n",
    "mae = mean_absolute_error(predicted, original)\n",
    "log_mse = mean_squared_log_error(predicted, original)\n",
    "print(\"rmse is: \", rmse)\n",
    "print(\"mae is: \", mae)\n",
    "print(\"log_mse is: \", log_mse)"
   ]
  }
 ],
 "metadata": {
  "colab": {
   "authorship_tag": "ABX9TyMM+7udl+UKz/47mcOtjIx4",
   "name": "model-clustered.ipynb",
   "provenance": []
  },
  "kernelspec": {
   "display_name": "Python 3",
   "language": "python",
   "name": "python3"
  },
  "language_info": {
   "codemirror_mode": {
    "name": "ipython",
    "version": 3
   },
   "file_extension": ".py",
   "mimetype": "text/x-python",
   "name": "python",
   "nbconvert_exporter": "python",
   "pygments_lexer": "ipython3",
   "version": "3.8.3"
  }
 },
 "nbformat": 4,
 "nbformat_minor": 1
}
