{
 "cells": [
  {
   "cell_type": "markdown",
   "metadata": {
    "id": "e06kLxDw6722"
   },
   "source": [
    "TO DO LIST:\n",
    "1. Train test split<br>\n",
    "We need to use about 80% of the data to discover patterns and train our model, and use the rest to test the performance of our models and feature selection steps. \n",
    "2. Log transform for continuous features. \n",
    "As notes in Sifei Lu et al, 2017, \"A hybrid regression technique for house prices prediction\" (https://ieeexplore.ieee.org/abstract/document/8289904?casa_token=5PM1GErvd1kAAAAA:6cmVTKBnJLFo0nKD6Rdywz3oFSOnpNmRoImRTfZFGcCH46m9X0zomUi4lfq3iCxmzOZeAb2_yg). In house price prediction, log transformation on continuous features may improve our models.<br>\n",
    "3. Sequential feature selection: a common methods for posterior feature selection, as mentioned by \"A survey on feature selection methods\" (https://www.sciencedirect.com/science/article/pii/S0045790613003066?casa_token=RIVX1QVHWPoAAAAA:gHtK3StTaL7NXeRDQec6qG7zH6AYrt5VF2kUTAnS54yhn1I8fQUtBITL9xB8Yjm-RXhtCFhwEpA)<br>\n",
    "4. PCA Analysis:<br>\n",
    "\n",
    "For methods 2, we will verify the improvement through correlation via heatmap plot<br>\n",
    "For methods 3, we will test on keeping 80%, 90%, whole features and compare performance of simple models for these features on train/test dataset. <br>\n",
    "For methods 4, we will do the test again to show if PCA is effective. <br>"
   ]
  },
  {
   "cell_type": "code",
   "execution_count": 1,
   "metadata": {
    "id": "yK7eCZhn5bnD"
   },
   "outputs": [],
   "source": [
    "import numpy as np\n",
    "import pandas as pd\n",
    "import sklearn\n",
    "from sklearn.model_selection import train_test_split\n",
    "import seaborn as sns\n",
    "import matplotlib.pyplot as plt\n",
    "from sklearn import linear_model\n",
    "from sklearn.feature_selection import RFE\n",
    "from sklearn.metrics import mean_squared_error\n",
    "from sklearn.decomposition import PCA\n",
    "# from sklearn.preprocessing import StandardScaler"
   ]
  },
  {
   "cell_type": "markdown",
   "metadata": {
    "id": "CGB2rg5x8_Se"
   },
   "source": [
    "## Load the cleaned dataset"
   ]
  },
  {
   "cell_type": "code",
   "execution_count": 4,
   "metadata": {
    "colab": {
     "base_uri": "https://localhost:8080/",
     "height": 215
    },
    "id": "SQcsqdXx5jXM",
    "outputId": "52373695-4a74-4849-fb82-23afe9a57a6f"
   },
   "outputs": [
    {
     "data": {
      "text/html": [
       "<div>\n",
       "<style scoped>\n",
       "    .dataframe tbody tr th:only-of-type {\n",
       "        vertical-align: middle;\n",
       "    }\n",
       "\n",
       "    .dataframe tbody tr th {\n",
       "        vertical-align: top;\n",
       "    }\n",
       "\n",
       "    .dataframe thead th {\n",
       "        text-align: right;\n",
       "    }\n",
       "</style>\n",
       "<table border=\"1\" class=\"dataframe\">\n",
       "  <thead>\n",
       "    <tr style=\"text-align: right;\">\n",
       "      <th></th>\n",
       "      <th>neighbourhood_group</th>\n",
       "      <th>neighbourhood</th>\n",
       "      <th>latitude</th>\n",
       "      <th>longitude</th>\n",
       "      <th>room_type</th>\n",
       "      <th>price</th>\n",
       "      <th>minimum_nights</th>\n",
       "      <th>number_of_reviews</th>\n",
       "      <th>reviews_per_month</th>\n",
       "      <th>calculated_host_listings_count</th>\n",
       "      <th>availability_365</th>\n",
       "      <th>name_length</th>\n",
       "      <th>minumum_nights</th>\n",
       "    </tr>\n",
       "  </thead>\n",
       "  <tbody>\n",
       "    <tr>\n",
       "      <th>0</th>\n",
       "      <td>0.0</td>\n",
       "      <td>107</td>\n",
       "      <td>0.000297</td>\n",
       "      <td>-0.000541</td>\n",
       "      <td>0.0</td>\n",
       "      <td>149</td>\n",
       "      <td>1</td>\n",
       "      <td>0.000002</td>\n",
       "      <td>0.000044</td>\n",
       "      <td>0.002668</td>\n",
       "      <td>0.999992</td>\n",
       "      <td>34</td>\n",
       "      <td>0.002740</td>\n",
       "    </tr>\n",
       "    <tr>\n",
       "      <th>1</th>\n",
       "      <td>0.0</td>\n",
       "      <td>126</td>\n",
       "      <td>0.000312</td>\n",
       "      <td>-0.000567</td>\n",
       "      <td>1.0</td>\n",
       "      <td>225</td>\n",
       "      <td>1</td>\n",
       "      <td>0.000003</td>\n",
       "      <td>0.000015</td>\n",
       "      <td>0.002720</td>\n",
       "      <td>0.999992</td>\n",
       "      <td>21</td>\n",
       "      <td>0.002817</td>\n",
       "    </tr>\n",
       "    <tr>\n",
       "      <th>2</th>\n",
       "      <td>0.0</td>\n",
       "      <td>93</td>\n",
       "      <td>0.000298</td>\n",
       "      <td>-0.000541</td>\n",
       "      <td>0.0</td>\n",
       "      <td>150</td>\n",
       "      <td>3</td>\n",
       "      <td>0.000000</td>\n",
       "      <td>0.000007</td>\n",
       "      <td>0.002669</td>\n",
       "      <td>0.999962</td>\n",
       "      <td>35</td>\n",
       "      <td>0.008219</td>\n",
       "    </tr>\n",
       "    <tr>\n",
       "      <th>3</th>\n",
       "      <td>0.0</td>\n",
       "      <td>41</td>\n",
       "      <td>0.000611</td>\n",
       "      <td>-0.001111</td>\n",
       "      <td>1.0</td>\n",
       "      <td>89</td>\n",
       "      <td>1</td>\n",
       "      <td>0.000070</td>\n",
       "      <td>0.000015</td>\n",
       "      <td>0.002915</td>\n",
       "      <td>0.999982</td>\n",
       "      <td>31</td>\n",
       "      <td>0.005155</td>\n",
       "    </tr>\n",
       "    <tr>\n",
       "      <th>4</th>\n",
       "      <td>0.0</td>\n",
       "      <td>61</td>\n",
       "      <td>0.047474</td>\n",
       "      <td>-0.086042</td>\n",
       "      <td>1.0</td>\n",
       "      <td>80</td>\n",
       "      <td>10</td>\n",
       "      <td>0.000116</td>\n",
       "      <td>0.001164</td>\n",
       "      <td>0.000000</td>\n",
       "      <td>0.000000</td>\n",
       "      <td>48</td>\n",
       "      <td>0.995159</td>\n",
       "    </tr>\n",
       "  </tbody>\n",
       "</table>\n",
       "</div>"
      ],
      "text/plain": [
       "   neighbourhood_group  neighbourhood  latitude  longitude  room_type  price  \\\n",
       "0                  0.0            107  0.000297  -0.000541        0.0    149   \n",
       "1                  0.0            126  0.000312  -0.000567        1.0    225   \n",
       "2                  0.0             93  0.000298  -0.000541        0.0    150   \n",
       "3                  0.0             41  0.000611  -0.001111        1.0     89   \n",
       "4                  0.0             61  0.047474  -0.086042        1.0     80   \n",
       "\n",
       "   minimum_nights  number_of_reviews  reviews_per_month  \\\n",
       "0               1           0.000002           0.000044   \n",
       "1               1           0.000003           0.000015   \n",
       "2               3           0.000000           0.000007   \n",
       "3               1           0.000070           0.000015   \n",
       "4              10           0.000116           0.001164   \n",
       "\n",
       "   calculated_host_listings_count  availability_365  name_length  \\\n",
       "0                        0.002668          0.999992           34   \n",
       "1                        0.002720          0.999992           21   \n",
       "2                        0.002669          0.999962           35   \n",
       "3                        0.002915          0.999982           31   \n",
       "4                        0.000000          0.000000           48   \n",
       "\n",
       "   minumum_nights  \n",
       "0        0.002740  \n",
       "1        0.002817  \n",
       "2        0.008219  \n",
       "3        0.005155  \n",
       "4        0.995159  "
      ]
     },
     "execution_count": 4,
     "metadata": {},
     "output_type": "execute_result"
    }
   ],
   "source": [
    "data = pd.read_csv(\"cleaned_data_1.csv\", header=0, index_col=0)\n",
    "data.head(5)"
   ]
  },
  {
   "cell_type": "markdown",
   "metadata": {
    "id": "FsQUd3c09FJq"
   },
   "source": [
    "## Log transformation, shuffle the data and do train - test split"
   ]
  },
  {
   "cell_type": "code",
   "execution_count": 5,
   "metadata": {
    "id": "sDIVTKcGFMJQ"
   },
   "outputs": [],
   "source": [
    "\n",
    "data[\"log_minimum_night\"] = np.log(data[\"minimum_nights\"] + 10**-15)\n",
    "data[\"log_number_of_reviews\"] = np.log(data[\"number_of_reviews\"] + 10**-15)\n",
    "data[\"log_review_per_month\"] = np.log(data[\"reviews_per_month\"] + 10**-15)\n",
    "data[\"log_calculated_host_count\"] = np.log(data[\"calculated_host_listings_count\"] + 10**-15)\n",
    "data[\"log_availability\"] = np.log(data[\"availability_365\"] + 10**-15)\n",
    "data[\"log_name_length\"] = np.log(data[\"name_length\"] + 10**-15)\n",
    "data[\"log_minumum_night\"] = np.log(data[\"minumum_nights\"] + 10**-15)\n",
    "data = data.sample(n=data.shape[0])\n"
   ]
  },
  {
   "cell_type": "code",
   "execution_count": 6,
   "metadata": {
    "colab": {
     "base_uri": "https://localhost:8080/",
     "height": 215
    },
    "id": "G2ZQ_JvkHNcL",
    "outputId": "545f6d39-fa49-4f2f-a5f3-fa298574f958"
   },
   "outputs": [
    {
     "data": {
      "text/html": [
       "<div>\n",
       "<style scoped>\n",
       "    .dataframe tbody tr th:only-of-type {\n",
       "        vertical-align: middle;\n",
       "    }\n",
       "\n",
       "    .dataframe tbody tr th {\n",
       "        vertical-align: top;\n",
       "    }\n",
       "\n",
       "    .dataframe thead th {\n",
       "        text-align: right;\n",
       "    }\n",
       "</style>\n",
       "<table border=\"1\" class=\"dataframe\">\n",
       "  <thead>\n",
       "    <tr style=\"text-align: right;\">\n",
       "      <th></th>\n",
       "      <th>neighbourhood_group</th>\n",
       "      <th>neighbourhood</th>\n",
       "      <th>latitude</th>\n",
       "      <th>longitude</th>\n",
       "      <th>room_type</th>\n",
       "      <th>price</th>\n",
       "      <th>minimum_nights</th>\n",
       "      <th>number_of_reviews</th>\n",
       "      <th>reviews_per_month</th>\n",
       "      <th>calculated_host_listings_count</th>\n",
       "      <th>availability_365</th>\n",
       "      <th>name_length</th>\n",
       "      <th>minumum_nights</th>\n",
       "      <th>log_minimum_night</th>\n",
       "      <th>log_number_of_reviews</th>\n",
       "      <th>log_review_per_month</th>\n",
       "      <th>log_calculated_host_count</th>\n",
       "      <th>log_availability</th>\n",
       "      <th>log_name_length</th>\n",
       "      <th>log_minumum_night</th>\n",
       "    </tr>\n",
       "  </thead>\n",
       "  <tbody>\n",
       "    <tr>\n",
       "      <th>27657</th>\n",
       "      <td>0.0</td>\n",
       "      <td>93</td>\n",
       "      <td>0.036629</td>\n",
       "      <td>-0.066367</td>\n",
       "      <td>0.0</td>\n",
       "      <td>50</td>\n",
       "      <td>13</td>\n",
       "      <td>0.000000</td>\n",
       "      <td>0.000897</td>\n",
       "      <td>0.000000</td>\n",
       "      <td>0.000000</td>\n",
       "      <td>29</td>\n",
       "      <td>0.997122</td>\n",
       "      <td>2.564949e+00</td>\n",
       "      <td>-34.538776</td>\n",
       "      <td>-7.015978</td>\n",
       "      <td>-34.538776</td>\n",
       "      <td>-34.538776</td>\n",
       "      <td>3.367296</td>\n",
       "      <td>-0.002882</td>\n",
       "    </tr>\n",
       "    <tr>\n",
       "      <th>38177</th>\n",
       "      <td>0.0</td>\n",
       "      <td>90</td>\n",
       "      <td>0.001839</td>\n",
       "      <td>-0.003339</td>\n",
       "      <td>0.0</td>\n",
       "      <td>85</td>\n",
       "      <td>1</td>\n",
       "      <td>0.000087</td>\n",
       "      <td>0.000226</td>\n",
       "      <td>0.006187</td>\n",
       "      <td>0.999947</td>\n",
       "      <td>30</td>\n",
       "      <td>0.007299</td>\n",
       "      <td>1.110223e-15</td>\n",
       "      <td>-9.352931</td>\n",
       "      <td>-8.395818</td>\n",
       "      <td>-5.085275</td>\n",
       "      <td>-0.000053</td>\n",
       "      <td>3.401197</td>\n",
       "      <td>-4.920034</td>\n",
       "    </tr>\n",
       "    <tr>\n",
       "      <th>17890</th>\n",
       "      <td>0.0</td>\n",
       "      <td>74</td>\n",
       "      <td>0.000312</td>\n",
       "      <td>-0.000567</td>\n",
       "      <td>0.0</td>\n",
       "      <td>49</td>\n",
       "      <td>2</td>\n",
       "      <td>0.000009</td>\n",
       "      <td>0.000008</td>\n",
       "      <td>0.002723</td>\n",
       "      <td>0.999980</td>\n",
       "      <td>27</td>\n",
       "      <td>0.005634</td>\n",
       "      <td>6.931472e-01</td>\n",
       "      <td>-11.638279</td>\n",
       "      <td>-11.778041</td>\n",
       "      <td>-5.905924</td>\n",
       "      <td>-0.000020</td>\n",
       "      <td>3.295837</td>\n",
       "      <td>-5.178990</td>\n",
       "    </tr>\n",
       "    <tr>\n",
       "      <th>39255</th>\n",
       "      <td>0.0</td>\n",
       "      <td>93</td>\n",
       "      <td>0.001163</td>\n",
       "      <td>-0.002107</td>\n",
       "      <td>0.0</td>\n",
       "      <td>95</td>\n",
       "      <td>2</td>\n",
       "      <td>0.000023</td>\n",
       "      <td>0.000114</td>\n",
       "      <td>0.005072</td>\n",
       "      <td>0.999921</td>\n",
       "      <td>37</td>\n",
       "      <td>0.011235</td>\n",
       "      <td>6.931472e-01</td>\n",
       "      <td>-10.701505</td>\n",
       "      <td>-9.079489</td>\n",
       "      <td>-5.284000</td>\n",
       "      <td>-0.000079</td>\n",
       "      <td>3.610918</td>\n",
       "      <td>-4.488715</td>\n",
       "    </tr>\n",
       "    <tr>\n",
       "      <th>4191</th>\n",
       "      <td>0.0</td>\n",
       "      <td>34</td>\n",
       "      <td>0.018484</td>\n",
       "      <td>-0.033573</td>\n",
       "      <td>1.0</td>\n",
       "      <td>110</td>\n",
       "      <td>25</td>\n",
       "      <td>0.000000</td>\n",
       "      <td>0.000454</td>\n",
       "      <td>0.000000</td>\n",
       "      <td>0.000000</td>\n",
       "      <td>28</td>\n",
       "      <td>0.999265</td>\n",
       "      <td>3.218876e+00</td>\n",
       "      <td>-34.538776</td>\n",
       "      <td>-7.698054</td>\n",
       "      <td>-34.538776</td>\n",
       "      <td>-34.538776</td>\n",
       "      <td>3.332205</td>\n",
       "      <td>-0.000735</td>\n",
       "    </tr>\n",
       "  </tbody>\n",
       "</table>\n",
       "</div>"
      ],
      "text/plain": [
       "       neighbourhood_group  neighbourhood  latitude  longitude  room_type  \\\n",
       "27657                  0.0             93  0.036629  -0.066367        0.0   \n",
       "38177                  0.0             90  0.001839  -0.003339        0.0   \n",
       "17890                  0.0             74  0.000312  -0.000567        0.0   \n",
       "39255                  0.0             93  0.001163  -0.002107        0.0   \n",
       "4191                   0.0             34  0.018484  -0.033573        1.0   \n",
       "\n",
       "       price  minimum_nights  number_of_reviews  reviews_per_month  \\\n",
       "27657     50              13           0.000000           0.000897   \n",
       "38177     85               1           0.000087           0.000226   \n",
       "17890     49               2           0.000009           0.000008   \n",
       "39255     95               2           0.000023           0.000114   \n",
       "4191     110              25           0.000000           0.000454   \n",
       "\n",
       "       calculated_host_listings_count  availability_365  name_length  \\\n",
       "27657                        0.000000          0.000000           29   \n",
       "38177                        0.006187          0.999947           30   \n",
       "17890                        0.002723          0.999980           27   \n",
       "39255                        0.005072          0.999921           37   \n",
       "4191                         0.000000          0.000000           28   \n",
       "\n",
       "       minumum_nights  log_minimum_night  log_number_of_reviews  \\\n",
       "27657        0.997122       2.564949e+00             -34.538776   \n",
       "38177        0.007299       1.110223e-15              -9.352931   \n",
       "17890        0.005634       6.931472e-01             -11.638279   \n",
       "39255        0.011235       6.931472e-01             -10.701505   \n",
       "4191         0.999265       3.218876e+00             -34.538776   \n",
       "\n",
       "       log_review_per_month  log_calculated_host_count  log_availability  \\\n",
       "27657             -7.015978                 -34.538776        -34.538776   \n",
       "38177             -8.395818                  -5.085275         -0.000053   \n",
       "17890            -11.778041                  -5.905924         -0.000020   \n",
       "39255             -9.079489                  -5.284000         -0.000079   \n",
       "4191              -7.698054                 -34.538776        -34.538776   \n",
       "\n",
       "       log_name_length  log_minumum_night  \n",
       "27657         3.367296          -0.002882  \n",
       "38177         3.401197          -4.920034  \n",
       "17890         3.295837          -5.178990  \n",
       "39255         3.610918          -4.488715  \n",
       "4191          3.332205          -0.000735  "
      ]
     },
     "execution_count": 6,
     "metadata": {},
     "output_type": "execute_result"
    }
   ],
   "source": [
    "data.head(5)"
   ]
  },
  {
   "cell_type": "code",
   "execution_count": 7,
   "metadata": {
    "id": "WELmSbGtOsq1"
   },
   "outputs": [],
   "source": [
    "#featureX = data[[\"neighbourhood_group\", \"neighbourhood\", \"latitude\", \"longitude\", \"room_type\", \"minimum_nights\", \"number_of_reviews\", \"reviews_per_month\", \"calculated_host_listings_count\", \"availability_365\", \"name_length\", \"minimum_nights\", \"log_minimum_night\", \"log_number_of_reviews\", \"log_number_of_reviews\", \"log_review_per_month\", \"log_calculated_host_count\", \"log_calculated_host_count\", \"log_availability\", \"log_name_length\"]]\n",
    "featureY = data[[\"price\"]]\n",
    "featureX = data.drop(columns = \"price\")\n",
    "x_train, x_test, y_train, y_test = train_test_split(featureX, featureY, test_size=0.2, random_state=42)\n"
   ]
  },
  {
   "cell_type": "code",
   "execution_count": 8,
   "metadata": {
    "colab": {
     "base_uri": "https://localhost:8080/",
     "height": 195
    },
    "id": "NFr5RAQiRrcY",
    "outputId": "db63ddf6-9c45-49e6-a645-fe58542fda26"
   },
   "outputs": [
    {
     "data": {
      "text/html": [
       "<div>\n",
       "<style scoped>\n",
       "    .dataframe tbody tr th:only-of-type {\n",
       "        vertical-align: middle;\n",
       "    }\n",
       "\n",
       "    .dataframe tbody tr th {\n",
       "        vertical-align: top;\n",
       "    }\n",
       "\n",
       "    .dataframe thead th {\n",
       "        text-align: right;\n",
       "    }\n",
       "</style>\n",
       "<table border=\"1\" class=\"dataframe\">\n",
       "  <thead>\n",
       "    <tr style=\"text-align: right;\">\n",
       "      <th></th>\n",
       "      <th>price</th>\n",
       "    </tr>\n",
       "  </thead>\n",
       "  <tbody>\n",
       "    <tr>\n",
       "      <th>31497</th>\n",
       "      <td>60</td>\n",
       "    </tr>\n",
       "    <tr>\n",
       "      <th>26932</th>\n",
       "      <td>150</td>\n",
       "    </tr>\n",
       "    <tr>\n",
       "      <th>2059</th>\n",
       "      <td>200</td>\n",
       "    </tr>\n",
       "    <tr>\n",
       "      <th>5142</th>\n",
       "      <td>65</td>\n",
       "    </tr>\n",
       "    <tr>\n",
       "      <th>37814</th>\n",
       "      <td>120</td>\n",
       "    </tr>\n",
       "  </tbody>\n",
       "</table>\n",
       "</div>"
      ],
      "text/plain": [
       "       price\n",
       "31497     60\n",
       "26932    150\n",
       "2059     200\n",
       "5142      65\n",
       "37814    120"
      ]
     },
     "execution_count": 8,
     "metadata": {},
     "output_type": "execute_result"
    }
   ],
   "source": [
    "y_train.head()\n"
   ]
  },
  {
   "cell_type": "markdown",
   "metadata": {
    "id": "ud6olgSr9LY7"
   },
   "source": [
    "## Heatmap on correlation for train data"
   ]
  },
  {
   "cell_type": "code",
   "execution_count": null,
   "metadata": {
    "colab": {
     "base_uri": "https://localhost:8080/",
     "height": 646
    },
    "id": "j_r1_urOQVBs",
    "outputId": "e8ddbf9b-d2ce-415f-f4a4-2c4c06db408f"
   },
   "outputs": [
    {
     "data": {
      "text/plain": [
       "<matplotlib.axes._subplots.AxesSubplot at 0x1a2182afd0>"
      ]
     },
     "execution_count": 9,
     "metadata": {},
     "output_type": "execute_result"
    }
   ],
   "source": [
    "frame = [y_train, x_train]\n",
    "traindata = pd.concat(frame, axis = 1)\n",
    "traindata.head(5)\n",
    "corr = traindata.corr(method='pearson')\n",
    "plt.figure(figsize=(15,8))\n",
    "sns.heatmap(corr, annot=True)"
   ]
  },
  {
   "cell_type": "markdown",
   "metadata": {
    "id": "gXmg8qvsVpC0"
   },
   "source": [
    "### We notice that after applying log transformation, the absolute value of correlation may increase for some features. The features that performs better on log transformation are different for different train-test-split runs. However, Common features that performs better on log_transformations are \"minimum_night\", \"calculated_host_litings_count\" and \"name_length\""
   ]
  },
  {
   "cell_type": "markdown",
   "metadata": {
    "id": "DAq3byF691rI"
   },
   "source": [
    "## Sequential feature selection from sklearn by lasso regression: \n",
    "test on 75%, 90%, 100% of features on train and test data. The result can be shown in table. \n"
   ]
  },
  {
   "cell_type": "code",
   "execution_count": 36,
   "metadata": {
    "colab": {
     "base_uri": "https://localhost:8080/",
     "height": 104
    },
    "id": "NUQvU0qLWa63",
    "outputId": "a1f95708-f800-495a-e755-31381bf721a7"
   },
   "outputs": [
    {
     "name": "stderr",
     "output_type": "stream",
     "text": [
      "/usr/local/lib/python3.6/dist-packages/sklearn/utils/validation.py:760: DataConversionWarning: A column-vector y was passed when a 1d array was expected. Please change the shape of y to (n_samples, ), for example using ravel().\n",
      "  y = column_or_1d(y, warn=True)\n",
      "/usr/local/lib/python3.6/dist-packages/sklearn/utils/validation.py:760: DataConversionWarning: A column-vector y was passed when a 1d array was expected. Please change the shape of y to (n_samples, ), for example using ravel().\n",
      "  y = column_or_1d(y, warn=True)\n"
     ]
    }
   ],
   "source": [
    "\n",
    "# Construct of selector models\n",
    "lasso = linear_model.Lasso(alpha=0.5)\n",
    "sfs1 = RFE(lasso, n_features_to_select=int(0.9*x_train.shape[1]))\n",
    "sfs2 = RFE(lasso, n_features_to_select=int(0.75*x_train.shape[1]))\n",
    "sfs1.fit(x_train, y_train)\n",
    "sfs2.fit(x_train, y_train)\n",
    "\n",
    "# transform\n",
    "xtrain_90 = sfs1.transform(x_train)\n",
    "xtrain_75 = sfs2.transform(x_train)\n"
   ]
  },
  {
   "cell_type": "code",
   "execution_count": 37,
   "metadata": {
    "colab": {
     "base_uri": "https://localhost:8080/",
     "height": 67
    },
    "id": "sKuT5Konbc0W",
    "outputId": "98bc544d-0174-4001-d19c-94ea5b6fff16"
   },
   "outputs": [
    {
     "data": {
      "text/plain": [
       "array([ True,  True,  True,  True,  True,  True,  True,  True, False,\n",
       "       False,  True,  True,  True,  True,  True,  True,  True,  True,\n",
       "        True])"
      ]
     },
     "execution_count": 37,
     "metadata": {
      "tags": []
     },
     "output_type": "execute_result"
    }
   ],
   "source": [
    "sfs1.support_"
   ]
  },
  {
   "cell_type": "code",
   "execution_count": 38,
   "metadata": {
    "colab": {
     "base_uri": "https://localhost:8080/",
     "height": 67
    },
    "id": "QYchXJJPbnTT",
    "outputId": "e1940b12-4591-4066-8179-6f279ff37fc5"
   },
   "outputs": [
    {
     "data": {
      "text/plain": [
       "array([ True,  True, False, False,  True,  True, False,  True, False,\n",
       "       False,  True,  True,  True,  True,  True,  True,  True,  True,\n",
       "        True])"
      ]
     },
     "execution_count": 38,
     "metadata": {
      "tags": []
     },
     "output_type": "execute_result"
    }
   ],
   "source": [
    "sfs2.support_"
   ]
  },
  {
   "cell_type": "code",
   "execution_count": 39,
   "metadata": {
    "id": "mRRV8uOKhPxM"
   },
   "outputs": [],
   "source": [
    "x_test_75 = sfs2.transform(x_test)\n",
    "x_test_90 = sfs1.transform(x_test)"
   ]
  },
  {
   "cell_type": "code",
   "execution_count": 40,
   "metadata": {
    "colab": {
     "base_uri": "https://localhost:8080/",
     "height": 34
    },
    "id": "y1rV8Ny_gxCZ",
    "outputId": "c4151e0c-6ea8-4024-cc99-5e10704f7f7f"
   },
   "outputs": [
    {
     "data": {
      "text/plain": [
       "1643.3550607321804"
      ]
     },
     "execution_count": 40,
     "metadata": {
      "tags": []
     },
     "output_type": "execute_result"
    }
   ],
   "source": [
    "# Testing on 75% of the data\n",
    "lasso1 = linear_model.Lasso(alpha=0.5).fit(xtrain_75, y_train)\n",
    "predicted_75 = lasso1.predict(x_test_75)\n",
    "loss_75 = mean_squared_error(predicted_75, y_test)\n",
    "loss_75"
   ]
  },
  {
   "cell_type": "code",
   "execution_count": 41,
   "metadata": {
    "colab": {
     "base_uri": "https://localhost:8080/",
     "height": 34
    },
    "id": "t583C5djh9Iu",
    "outputId": "b726b9c2-4525-4a8e-b6b9-118937cb2cdc"
   },
   "outputs": [
    {
     "data": {
      "text/plain": [
       "1643.3550430672497"
      ]
     },
     "execution_count": 41,
     "metadata": {
      "tags": []
     },
     "output_type": "execute_result"
    }
   ],
   "source": [
    "# Testing on 90% of the data\n",
    "lasso2 = linear_model.Lasso(alpha=0.5).fit(xtrain_90, y_train)\n",
    "predicted_90 = lasso2.predict(x_test_90)\n",
    "loss_90 = mean_squared_error(predicted_90, y_test)\n",
    "loss_90"
   ]
  },
  {
   "cell_type": "code",
   "execution_count": 42,
   "metadata": {
    "colab": {
     "base_uri": "https://localhost:8080/",
     "height": 34
    },
    "id": "edtEDEj7i8NW",
    "outputId": "448beba2-660b-4ee0-8454-b2b214380f79"
   },
   "outputs": [
    {
     "data": {
      "text/plain": [
       "1643.3549894392668"
      ]
     },
     "execution_count": 42,
     "metadata": {
      "tags": []
     },
     "output_type": "execute_result"
    }
   ],
   "source": [
    "# Test on the whole data\n",
    "lasso3 = linear_model.Lasso(alpha=0.5).fit(x_train, y_train)\n",
    "predicted = lasso3.predict(x_test)\n",
    "loss = mean_squared_error(predicted, y_test)\n",
    "loss"
   ]
  },
  {
   "cell_type": "markdown",
   "metadata": {
    "id": "ECHqJV6Z2o0U"
   },
   "source": [
    "### We notice that the mse loss is different for different train-test-split runs. Thus, we make the table for our sampled 5 runs to get which might be better:\n",
    "<table>\n",
    "<tr>\n",
    "  <th>Trial</th><th>75% of feature (mse error)</th><th>90% of feature (mse error)</th><th>100% of feature (mse error)</th><th>best(percent retained)</th></tr>\n",
    "\n",
    "<tr>\n",
    "<th>1</th>\n",
    "<th>1650.5907500207677</th>\n",
    "<th>1650.5908190303974</th>\n",
    "<th>1650.5910735995328</th>\n",
    "<th>75</th></tr><tr>\n",
    "<th>2</th>\n",
    "<th>1598.7247182731764</th>\n",
    "<th>1598.724711739087</th>\n",
    "<th>1598.7246732934193</th>\n",
    "<th>100</th></tr><tr>\n",
    "<th>3</th>\n",
    "<th>1651.2238928651923</th>\n",
    "<th>1651.2238679102115</th>\n",
    "<th>1651.2237966863613</th>\n",
    "<th>100</th></tr><tr>\n",
    "<th>4</th>\n",
    "<th>1649.2040389298475</th>\n",
    "<th>1649.2040272837903</th>\n",
    "<th>1649.2040161540663</th>\n",
    "<th>100</th></tr><tr>\n",
    "<th>5</th>\n",
    "<th>1630.9719244553812</th>\n",
    "<th>1630.9718826369053</th>\n",
    "<th>1630.971763588842</th>\n",
    "<th>100</th></tr></table>\n",
    "Thus, eliminate any feature might be harmful to lasso regression model. We could also assume and guess that eliminate any features will lead to bad performance of other models as well. "
   ]
  },
  {
   "cell_type": "markdown",
   "metadata": {
    "id": "3gtcSKNx-Ix_"
   },
   "source": [
    "## PCA Analysis\n",
    "test on test data for keeping whole dimension, 60% of the dimension 80% of the dimension and do not applied transformation. The result can be shown in a table\n"
   ]
  },
  {
   "cell_type": "code",
   "execution_count": 43,
   "metadata": {
    "colab": {
     "base_uri": "https://localhost:8080/",
     "height": 34
    },
    "id": "k_sYibBGDQog",
    "outputId": "f7850d95-fef1-4d2e-bdab-ffad1a79339f"
   },
   "outputs": [
    {
     "data": {
      "text/plain": [
       "1648.7566654420489"
      ]
     },
     "execution_count": 43,
     "metadata": {
      "tags": []
     },
     "output_type": "execute_result"
    }
   ],
   "source": [
    "# The principal components are chosen such that 50% of the variance is retained\n",
    "pca_5 = PCA(n_components = int(0.5*(x_train.shape[1]))).fit(x_train)\n",
    "\n",
    "# Transform on the train and testing data, do a simple regression on testing\n",
    "x_train_5_p = pca_5.transform(x_train)\n",
    "x_test_5_p = pca_5.transform(x_test)\n",
    "lasso_5_p = linear_model.Lasso(alpha=0.5).fit(x_train_5_p, y_train)\n",
    "mean_squared_error(lasso_5_p.predict(x_test_5_p), y_test)"
   ]
  },
  {
   "cell_type": "code",
   "execution_count": 44,
   "metadata": {
    "colab": {
     "base_uri": "https://localhost:8080/",
     "height": 34
    },
    "id": "DDdKZy2YI290",
    "outputId": "b1326f89-cf3e-4e31-f04e-42c1c7bde91c"
   },
   "outputs": [
    {
     "data": {
      "text/plain": [
       "1641.0821302697232"
      ]
     },
     "execution_count": 44,
     "metadata": {
      "tags": []
     },
     "output_type": "execute_result"
    }
   ],
   "source": [
    "# y = traindata[\"price\"]\n",
    "# x = traindata.drop(columns = \"price\")\n",
    "# traindata = StandardScaler().fit_transform(x)\n",
    "\n",
    "# The principal components are chosen such that 60% of the variance is retained\n",
    "pca_6 = PCA(n_components = int(0.6*(x_train.shape[1]))).fit(x_train)\n",
    "\n",
    "# principalDf = pd.DataFrame(data = principalComponents, columns = ['principal component 1', 'principal component 2','principal component 3','principal component 4','principal component 5','principal component 6','principal component 7','principal component 8','principal component 9','principal component 10','principal component 11' ])\n",
    "# array1 = pca.explained_variance_ratio_\n",
    "# sum = 0\n",
    "# for i in array1:\n",
    "  # sum = sum + i\n",
    "# sum\n",
    "\n",
    "# Transform on the train and testing data, do a simple regression on testing\n",
    "x_train_6_p = pca_6.transform(x_train)\n",
    "x_test_6_p = pca_6.transform(x_test)\n",
    "lasso_6_p = linear_model.Lasso(alpha=0.5).fit(x_train_6_p, y_train)\n",
    "mean_squared_error(lasso_6_p.predict(x_test_6_p), y_test)"
   ]
  },
  {
   "cell_type": "code",
   "execution_count": 45,
   "metadata": {
    "colab": {
     "base_uri": "https://localhost:8080/",
     "height": 34
    },
    "id": "Nnvc8KC0CgD1",
    "outputId": "68d188a7-cd75-469c-e428-2f8aa8473a55"
   },
   "outputs": [
    {
     "data": {
      "text/plain": [
       "1641.0821302697232"
      ]
     },
     "execution_count": 45,
     "metadata": {
      "tags": []
     },
     "output_type": "execute_result"
    }
   ],
   "source": [
    "# The principal components are chosen such that 80% of the variance is retained\n",
    "pca_8 = PCA(n_components = int(0.8*(x_train.shape[1]))).fit(x_train)\n",
    "\n",
    "# Transform on the train and testing data, do a simple regression on testing\n",
    "x_train_8_p = pca_8.transform(x_train)\n",
    "x_test_8_p = pca_8.transform(x_test)\n",
    "lasso_8_p = linear_model.Lasso(alpha=0.5).fit(x_train_8_p, y_train)\n",
    "mean_squared_error(lasso_8_p.predict(x_test_8_p), y_test)"
   ]
  },
  {
   "cell_type": "code",
   "execution_count": 46,
   "metadata": {
    "colab": {
     "base_uri": "https://localhost:8080/",
     "height": 34
    },
    "id": "ZnnjUVFqSoxo",
    "outputId": "a6ff03d2-618f-4a0a-8e32-79721d166aee"
   },
   "outputs": [
    {
     "data": {
      "text/plain": [
       "1641.082130269723"
      ]
     },
     "execution_count": 46,
     "metadata": {
      "tags": []
     },
     "output_type": "execute_result"
    }
   ],
   "source": [
    "# y = traindata[\"price\"]\n",
    "# x = traindata.drop(columns = \"price\")\n",
    "# traindata = StandardScaler().fit_transform(x)\n",
    "# the principal components are chosen such that 100% of the variance is retained\n",
    "pca = PCA().fit(x_train)\n",
    "\n",
    "# principalDf = pd.DataFrame(data = principalComponents, columns = ['principal component 1', 'principal component 2','principal component 3','principal component 4','principal component 5','principal component 6','principal component 7','principal component 8','principal component 9','principal component 10' ])\n",
    "# array1 = pca.explained_variance_ratio_\n",
    "# sum = 0\n",
    "# for i in array1:\n",
    "  # sum = sum + i\n",
    "# sum\n",
    "\n",
    "# transform and test\n",
    "x_train_p = pca.transform(x_train)\n",
    "x_test_p = pca.transform(x_test)\n",
    "lasso_p = linear_model.Lasso(alpha=0.5).fit(x_train_p, y_train)\n",
    "mean_squared_error(lasso_p.predict(x_test_p), y_test)"
   ]
  },
  {
   "cell_type": "markdown",
   "metadata": {
    "id": "oQsm_E4ZCY4Z"
   },
   "source": [
    "<table>\n",
    "<tr>\n",
    "<th>Trials</th>\n",
    "<th>PCA (mse error)</th>\n",
    "<th>PCA 50% (mse error)</th>\n",
    "<th>PCA 60% (mse error)</th>\n",
    "<th>PCA 80% (mse error)</th>\n",
    "<th> no PCA (mse error)</th>\n",
    "</tr>\n",
    "<tr>\n",
    "<th>1</th>\n",
    "<th>1658.6217503116238</th>\n",
    "<th>1666.7211666367061</th>\n",
    "<th>1658.6217503116238</th>\n",
    "<th>1658.6217503116238</th>\n",
    "<th>1662.4387964994773</th>\n",
    "</tr>\n",
    "<tr>\n",
    "<th>2</th>\n",
    "<th>1636.229643020161</th>\n",
    "<th>1642.7919251311662</th>\n",
    "<th>1636.229643020161</th>\n",
    "<th>1636.229643020161</th>\n",
    "<th>1638.5372346968588</th>\n",
    "</tr>\n",
    "<tr>\n",
    "<th>3</th>\n",
    "<th>1596.5187485464774</th>\n",
    "<th>1604.2044477066956</th>\n",
    "<th>1596.5187485464774</th>\n",
    "<th>1596.5187485464774</th>\n",
    "<th>1600.424106745925</th>\n",
    "</tr>\n",
    "</table>\n",
    "We found that applying PCA to the dataset will improve prediction score if PCA retain at least 60% of the axis (actually, they get the same improved score). By \"Occam's razor\", we will keep 60% of the transformed features for further supervised and unsupervised learning task. "
   ]
  },
  {
   "cell_type": "markdown",
   "metadata": {
    "id": "TVkyKtGeGb9j"
   },
   "source": [
    "# Conclusion\n",
    "1. We need to apply log transformation to continuous features. \n",
    "2. The sequential Selector's test found that we should retain all of its features.<br>\n",
    "3. The PCA test gives that we should do PCA analysis and retain 60% of the axis.\n",
    "\n",
    "# To do:\n",
    "Generate train_x, test_x, train_y, test_y based on the conclusion we found. "
   ]
  },
  {
   "cell_type": "code",
   "execution_count": 47,
   "metadata": {
    "colab": {
     "base_uri": "https://localhost:8080/",
     "height": 195
    },
    "id": "KcaoSM1gMDQs",
    "outputId": "5b5f8c8b-2e36-4dc1-85d2-d5ac5ba4a0fd"
   },
   "outputs": [
    {
     "data": {
      "text/html": [
       "<div>\n",
       "<style scoped>\n",
       "    .dataframe tbody tr th:only-of-type {\n",
       "        vertical-align: middle;\n",
       "    }\n",
       "\n",
       "    .dataframe tbody tr th {\n",
       "        vertical-align: top;\n",
       "    }\n",
       "\n",
       "    .dataframe thead th {\n",
       "        text-align: right;\n",
       "    }\n",
       "</style>\n",
       "<table border=\"1\" class=\"dataframe\">\n",
       "  <thead>\n",
       "    <tr style=\"text-align: right;\">\n",
       "      <th></th>\n",
       "      <th>price</th>\n",
       "    </tr>\n",
       "  </thead>\n",
       "  <tbody>\n",
       "    <tr>\n",
       "      <th>28794</th>\n",
       "      <td>225</td>\n",
       "    </tr>\n",
       "    <tr>\n",
       "      <th>1214</th>\n",
       "      <td>70</td>\n",
       "    </tr>\n",
       "    <tr>\n",
       "      <th>24234</th>\n",
       "      <td>167</td>\n",
       "    </tr>\n",
       "    <tr>\n",
       "      <th>12008</th>\n",
       "      <td>99</td>\n",
       "    </tr>\n",
       "    <tr>\n",
       "      <th>2693</th>\n",
       "      <td>100</td>\n",
       "    </tr>\n",
       "  </tbody>\n",
       "</table>\n",
       "</div>"
      ],
      "text/plain": [
       "       price\n",
       "28794    225\n",
       "1214      70\n",
       "24234    167\n",
       "12008     99\n",
       "2693     100"
      ]
     },
     "execution_count": 47,
     "metadata": {
      "tags": []
     },
     "output_type": "execute_result"
    }
   ],
   "source": [
    "# We need to check if the rows are matched after concatenate. So we print out it here. \n",
    "y_train.head(5)"
   ]
  },
  {
   "cell_type": "code",
   "execution_count": 48,
   "metadata": {
    "colab": {
     "base_uri": "https://localhost:8080/",
     "height": 215
    },
    "id": "busNeIu0MQFQ",
    "outputId": "d15eb6bd-7040-4038-f98a-b64d43e1c14b"
   },
   "outputs": [
    {
     "data": {
      "text/html": [
       "<div>\n",
       "<style scoped>\n",
       "    .dataframe tbody tr th:only-of-type {\n",
       "        vertical-align: middle;\n",
       "    }\n",
       "\n",
       "    .dataframe tbody tr th {\n",
       "        vertical-align: top;\n",
       "    }\n",
       "\n",
       "    .dataframe thead th {\n",
       "        text-align: right;\n",
       "    }\n",
       "</style>\n",
       "<table border=\"1\" class=\"dataframe\">\n",
       "  <thead>\n",
       "    <tr style=\"text-align: right;\">\n",
       "      <th></th>\n",
       "      <th>neighbourhood_group</th>\n",
       "      <th>neighbourhood</th>\n",
       "      <th>latitude</th>\n",
       "      <th>longitude</th>\n",
       "      <th>room_type</th>\n",
       "      <th>minimum_nights</th>\n",
       "      <th>number_of_reviews</th>\n",
       "      <th>reviews_per_month</th>\n",
       "      <th>calculated_host_listings_count</th>\n",
       "      <th>availability_365</th>\n",
       "      <th>name_length</th>\n",
       "      <th>minumum_nights</th>\n",
       "      <th>log_minimum_night</th>\n",
       "      <th>log_number_of_reviews</th>\n",
       "      <th>log_review_per_month</th>\n",
       "      <th>log_calculated_host_count</th>\n",
       "      <th>log_availability</th>\n",
       "      <th>log_name_length</th>\n",
       "      <th>log_minumum_night</th>\n",
       "    </tr>\n",
       "  </thead>\n",
       "  <tbody>\n",
       "    <tr>\n",
       "      <th>28794</th>\n",
       "      <td>0.0</td>\n",
       "      <td>144</td>\n",
       "      <td>0.067949</td>\n",
       "      <td>-0.123466</td>\n",
       "      <td>1.0</td>\n",
       "      <td>7</td>\n",
       "      <td>1.334836e-04</td>\n",
       "      <td>0.001669</td>\n",
       "      <td>0.000000</td>\n",
       "      <td>0.000000</td>\n",
       "      <td>34</td>\n",
       "      <td>0.990018</td>\n",
       "      <td>1.945910e+00</td>\n",
       "      <td>-8.921532</td>\n",
       "      <td>-6.395803</td>\n",
       "      <td>-34.538776</td>\n",
       "      <td>-34.538776</td>\n",
       "      <td>3.526361</td>\n",
       "      <td>-0.010032</td>\n",
       "    </tr>\n",
       "    <tr>\n",
       "      <th>1214</th>\n",
       "      <td>0.0</td>\n",
       "      <td>165</td>\n",
       "      <td>0.015135</td>\n",
       "      <td>-0.027480</td>\n",
       "      <td>1.0</td>\n",
       "      <td>30</td>\n",
       "      <td>1.487363e-05</td>\n",
       "      <td>0.000372</td>\n",
       "      <td>0.000000</td>\n",
       "      <td>0.000000</td>\n",
       "      <td>29</td>\n",
       "      <td>0.999508</td>\n",
       "      <td>3.401197e+00</td>\n",
       "      <td>-11.115921</td>\n",
       "      <td>-7.897045</td>\n",
       "      <td>-34.538776</td>\n",
       "      <td>-34.538776</td>\n",
       "      <td>3.367296</td>\n",
       "      <td>-0.000492</td>\n",
       "    </tr>\n",
       "    <tr>\n",
       "      <th>24234</th>\n",
       "      <td>0.0</td>\n",
       "      <td>158</td>\n",
       "      <td>0.000370</td>\n",
       "      <td>-0.000674</td>\n",
       "      <td>1.0</td>\n",
       "      <td>3</td>\n",
       "      <td>1.730458e-06</td>\n",
       "      <td>0.000009</td>\n",
       "      <td>0.002969</td>\n",
       "      <td>0.999953</td>\n",
       "      <td>50</td>\n",
       "      <td>0.009202</td>\n",
       "      <td>1.098612e+00</td>\n",
       "      <td>-13.267125</td>\n",
       "      <td>-11.606393</td>\n",
       "      <td>-5.819496</td>\n",
       "      <td>-0.000047</td>\n",
       "      <td>3.912023</td>\n",
       "      <td>-4.688332</td>\n",
       "    </tr>\n",
       "    <tr>\n",
       "      <th>12008</th>\n",
       "      <td>0.0</td>\n",
       "      <td>213</td>\n",
       "      <td>0.340653</td>\n",
       "      <td>-0.618849</td>\n",
       "      <td>0.0</td>\n",
       "      <td>1</td>\n",
       "      <td>1.004037e-03</td>\n",
       "      <td>0.008367</td>\n",
       "      <td>0.000000</td>\n",
       "      <td>0.000000</td>\n",
       "      <td>33</td>\n",
       "      <td>0.707750</td>\n",
       "      <td>1.110223e-15</td>\n",
       "      <td>-6.903727</td>\n",
       "      <td>-4.783463</td>\n",
       "      <td>-34.538776</td>\n",
       "      <td>-34.538776</td>\n",
       "      <td>3.496508</td>\n",
       "      <td>-0.345664</td>\n",
       "    </tr>\n",
       "    <tr>\n",
       "      <th>2693</th>\n",
       "      <td>0.0</td>\n",
       "      <td>31</td>\n",
       "      <td>0.000379</td>\n",
       "      <td>-0.000689</td>\n",
       "      <td>1.0</td>\n",
       "      <td>30</td>\n",
       "      <td>5.583691e-07</td>\n",
       "      <td>0.000009</td>\n",
       "      <td>0.002987</td>\n",
       "      <td>0.995656</td>\n",
       "      <td>49</td>\n",
       "      <td>0.093052</td>\n",
       "      <td>3.401197e+00</td>\n",
       "      <td>-14.398246</td>\n",
       "      <td>-11.584835</td>\n",
       "      <td>-5.813394</td>\n",
       "      <td>-0.004353</td>\n",
       "      <td>3.891820</td>\n",
       "      <td>-2.374597</td>\n",
       "    </tr>\n",
       "  </tbody>\n",
       "</table>\n",
       "</div>"
      ],
      "text/plain": [
       "       neighbourhood_group  neighbourhood  ...  log_name_length  log_minumum_night\n",
       "28794                  0.0            144  ...         3.526361          -0.010032\n",
       "1214                   0.0            165  ...         3.367296          -0.000492\n",
       "24234                  0.0            158  ...         3.912023          -4.688332\n",
       "12008                  0.0            213  ...         3.496508          -0.345664\n",
       "2693                   0.0             31  ...         3.891820          -2.374597\n",
       "\n",
       "[5 rows x 19 columns]"
      ]
     },
     "execution_count": 48,
     "metadata": {
      "tags": []
     },
     "output_type": "execute_result"
    }
   ],
   "source": [
    "x_train.head(5)"
   ]
  },
  {
   "cell_type": "code",
   "execution_count": 49,
   "metadata": {
    "colab": {
     "base_uri": "https://localhost:8080/",
     "height": 218
    },
    "id": "-edlv0ILIIkG",
    "outputId": "8d1bda4f-3446-430e-d90b-c2b76c997c9f"
   },
   "outputs": [
    {
     "data": {
      "text/plain": [
       "array([[ 3.99361722e+01,  2.76779008e+01,  3.37590497e+00,\n",
       "        -1.84875063e+00, -5.12197465e+00, -9.15963776e-01,\n",
       "        -8.26542731e-01,  3.07107770e-01,  3.64030180e-01,\n",
       "        -1.35677390e-01, -1.28751772e-02],\n",
       "       [ 6.10606672e+01,  2.59953975e+01, -8.83060207e+00,\n",
       "        -7.24542483e-01, -2.51102700e+01, -2.84372706e+00,\n",
       "         1.48302092e-01,  3.25306816e-01, -3.35954595e-01,\n",
       "        -5.65933463e-01, -2.54959951e-02],\n",
       "       [ 5.32194404e+01, -1.82532219e+01,  5.58383312e+00,\n",
       "         1.04215665e+01,  5.41145263e+00, -2.84081303e+00,\n",
       "        -7.89823216e-01,  4.14072884e-01,  4.67852925e-03,\n",
       "         1.98417811e-01, -2.30927920e-02]])"
      ]
     },
     "execution_count": 49,
     "metadata": {
      "tags": []
     },
     "output_type": "execute_result"
    }
   ],
   "source": [
    "pca_final = PCA(n_components=int(0.6 * x_train.shape[1])).fit(x_train)\n",
    "x_train_final = pca_final.transform(x_train)\n",
    "# testing later to check if rows match\n",
    "x_train_test = pca_final.transform(x_train[:3])\n",
    "x_train_test"
   ]
  },
  {
   "cell_type": "code",
   "execution_count": 50,
   "metadata": {
    "colab": {
     "base_uri": "https://localhost:8080/",
     "height": 232
    },
    "id": "jwVthJNvNWrE",
    "outputId": "6fc08cdd-7b36-430b-bd8f-c1e796bf61b4"
   },
   "outputs": [
    {
     "data": {
      "text/html": [
       "<div>\n",
       "<style scoped>\n",
       "    .dataframe tbody tr th:only-of-type {\n",
       "        vertical-align: middle;\n",
       "    }\n",
       "\n",
       "    .dataframe tbody tr th {\n",
       "        vertical-align: top;\n",
       "    }\n",
       "\n",
       "    .dataframe thead th {\n",
       "        text-align: right;\n",
       "    }\n",
       "</style>\n",
       "<table border=\"1\" class=\"dataframe\">\n",
       "  <thead>\n",
       "    <tr style=\"text-align: right;\">\n",
       "      <th></th>\n",
       "      <th>pca_component 0</th>\n",
       "      <th>pca_component 1</th>\n",
       "      <th>pca_component 2</th>\n",
       "      <th>pca_component 3</th>\n",
       "      <th>pca_component 4</th>\n",
       "      <th>pca_component 5</th>\n",
       "      <th>pca_component 6</th>\n",
       "      <th>pca_component 7</th>\n",
       "      <th>pca_component 8</th>\n",
       "      <th>pca_component 9</th>\n",
       "      <th>pca_component 10</th>\n",
       "      <th>price</th>\n",
       "    </tr>\n",
       "  </thead>\n",
       "  <tbody>\n",
       "    <tr>\n",
       "      <th>0</th>\n",
       "      <td>39.936172</td>\n",
       "      <td>27.677901</td>\n",
       "      <td>3.375905</td>\n",
       "      <td>-1.848751</td>\n",
       "      <td>-5.121975</td>\n",
       "      <td>-0.915964</td>\n",
       "      <td>-0.826543</td>\n",
       "      <td>0.307108</td>\n",
       "      <td>0.364030</td>\n",
       "      <td>-0.135677</td>\n",
       "      <td>-0.012875</td>\n",
       "      <td>225.0</td>\n",
       "    </tr>\n",
       "    <tr>\n",
       "      <th>1</th>\n",
       "      <td>61.060667</td>\n",
       "      <td>25.995397</td>\n",
       "      <td>-8.830602</td>\n",
       "      <td>-0.724542</td>\n",
       "      <td>-25.110270</td>\n",
       "      <td>-2.843727</td>\n",
       "      <td>0.148302</td>\n",
       "      <td>0.325307</td>\n",
       "      <td>-0.335955</td>\n",
       "      <td>-0.565933</td>\n",
       "      <td>-0.025496</td>\n",
       "      <td>70.0</td>\n",
       "    </tr>\n",
       "    <tr>\n",
       "      <th>2</th>\n",
       "      <td>53.219440</td>\n",
       "      <td>-18.253222</td>\n",
       "      <td>5.583833</td>\n",
       "      <td>10.421566</td>\n",
       "      <td>5.411453</td>\n",
       "      <td>-2.840813</td>\n",
       "      <td>-0.789823</td>\n",
       "      <td>0.414073</td>\n",
       "      <td>0.004679</td>\n",
       "      <td>0.198418</td>\n",
       "      <td>-0.023093</td>\n",
       "      <td>167.0</td>\n",
       "    </tr>\n",
       "    <tr>\n",
       "      <th>3</th>\n",
       "      <td>108.872261</td>\n",
       "      <td>27.047506</td>\n",
       "      <td>7.433926</td>\n",
       "      <td>-5.313896</td>\n",
       "      <td>-0.262049</td>\n",
       "      <td>0.343956</td>\n",
       "      <td>0.789349</td>\n",
       "      <td>-0.326248</td>\n",
       "      <td>-0.390056</td>\n",
       "      <td>0.136451</td>\n",
       "      <td>-0.027082</td>\n",
       "      <td>99.0</td>\n",
       "    </tr>\n",
       "    <tr>\n",
       "      <th>4</th>\n",
       "      <td>-73.573315</td>\n",
       "      <td>-17.684167</td>\n",
       "      <td>-6.493019</td>\n",
       "      <td>17.385636</td>\n",
       "      <td>-19.063667</td>\n",
       "      <td>-2.370414</td>\n",
       "      <td>-0.635214</td>\n",
       "      <td>0.233080</td>\n",
       "      <td>-0.733382</td>\n",
       "      <td>0.177360</td>\n",
       "      <td>0.009243</td>\n",
       "      <td>100.0</td>\n",
       "    </tr>\n",
       "  </tbody>\n",
       "</table>\n",
       "</div>"
      ],
      "text/plain": [
       "   pca_component 0  pca_component 1  ...  pca_component 10  price\n",
       "0        39.936172        27.677901  ...         -0.012875  225.0\n",
       "1        61.060667        25.995397  ...         -0.025496   70.0\n",
       "2        53.219440       -18.253222  ...         -0.023093  167.0\n",
       "3       108.872261        27.047506  ...         -0.027082   99.0\n",
       "4       -73.573315       -17.684167  ...          0.009243  100.0\n",
       "\n",
       "[5 rows x 12 columns]"
      ]
     },
     "execution_count": 50,
     "metadata": {
      "tags": []
     },
     "output_type": "execute_result"
    }
   ],
   "source": [
    "train_dataset = np.concatenate([x_train_final, y_train], axis=1)\n",
    "column_names_p = [\"pca_component \" + str(i) for i in range(x_train_final.shape[1])]\n",
    "column_names_p.append(\"price\")\n",
    "train_dataset = pd.DataFrame(train_dataset, columns=column_names_p)\n",
    "train_dataset.head()"
   ]
  },
  {
   "cell_type": "code",
   "execution_count": 51,
   "metadata": {
    "id": "ZBfZm48tJaMX"
   },
   "outputs": [],
   "source": [
    "train_dataset.to_csv(\"train5.csv\", header=True, index=True)"
   ]
  },
  {
   "cell_type": "code",
   "execution_count": 52,
   "metadata": {
    "colab": {
     "base_uri": "https://localhost:8080/",
     "height": 136
    },
    "id": "zn7JrGedLQfJ",
    "outputId": "785d81c1-f3f9-4783-cea5-f24082c8e9c7"
   },
   "outputs": [
    {
     "data": {
      "text/html": [
       "<div>\n",
       "<style scoped>\n",
       "    .dataframe tbody tr th:only-of-type {\n",
       "        vertical-align: middle;\n",
       "    }\n",
       "\n",
       "    .dataframe tbody tr th {\n",
       "        vertical-align: top;\n",
       "    }\n",
       "\n",
       "    .dataframe thead th {\n",
       "        text-align: right;\n",
       "    }\n",
       "</style>\n",
       "<table border=\"1\" class=\"dataframe\">\n",
       "  <thead>\n",
       "    <tr style=\"text-align: right;\">\n",
       "      <th></th>\n",
       "      <th>price</th>\n",
       "    </tr>\n",
       "  </thead>\n",
       "  <tbody>\n",
       "    <tr>\n",
       "      <th>37907</th>\n",
       "      <td>45</td>\n",
       "    </tr>\n",
       "    <tr>\n",
       "      <th>47477</th>\n",
       "      <td>150</td>\n",
       "    </tr>\n",
       "    <tr>\n",
       "      <th>10250</th>\n",
       "      <td>45</td>\n",
       "    </tr>\n",
       "  </tbody>\n",
       "</table>\n",
       "</div>"
      ],
      "text/plain": [
       "       price\n",
       "37907     45\n",
       "47477    150\n",
       "10250     45"
      ]
     },
     "execution_count": 52,
     "metadata": {
      "tags": []
     },
     "output_type": "execute_result"
    }
   ],
   "source": [
    "y_test.head(3)"
   ]
  },
  {
   "cell_type": "code",
   "execution_count": 53,
   "metadata": {
    "colab": {
     "base_uri": "https://localhost:8080/",
     "height": 156
    },
    "id": "apaa9terPwqp",
    "outputId": "b888d6fd-f6f9-49af-9ff6-13ff5160c52b"
   },
   "outputs": [
    {
     "data": {
      "text/html": [
       "<div>\n",
       "<style scoped>\n",
       "    .dataframe tbody tr th:only-of-type {\n",
       "        vertical-align: middle;\n",
       "    }\n",
       "\n",
       "    .dataframe tbody tr th {\n",
       "        vertical-align: top;\n",
       "    }\n",
       "\n",
       "    .dataframe thead th {\n",
       "        text-align: right;\n",
       "    }\n",
       "</style>\n",
       "<table border=\"1\" class=\"dataframe\">\n",
       "  <thead>\n",
       "    <tr style=\"text-align: right;\">\n",
       "      <th></th>\n",
       "      <th>neighbourhood_group</th>\n",
       "      <th>neighbourhood</th>\n",
       "      <th>latitude</th>\n",
       "      <th>longitude</th>\n",
       "      <th>room_type</th>\n",
       "      <th>minimum_nights</th>\n",
       "      <th>number_of_reviews</th>\n",
       "      <th>reviews_per_month</th>\n",
       "      <th>calculated_host_listings_count</th>\n",
       "      <th>availability_365</th>\n",
       "      <th>name_length</th>\n",
       "      <th>minumum_nights</th>\n",
       "      <th>log_minimum_night</th>\n",
       "      <th>log_number_of_reviews</th>\n",
       "      <th>log_review_per_month</th>\n",
       "      <th>log_calculated_host_count</th>\n",
       "      <th>log_availability</th>\n",
       "      <th>log_name_length</th>\n",
       "      <th>log_minumum_night</th>\n",
       "    </tr>\n",
       "  </thead>\n",
       "  <tbody>\n",
       "    <tr>\n",
       "      <th>37907</th>\n",
       "      <td>0.0</td>\n",
       "      <td>28</td>\n",
       "      <td>0.000511</td>\n",
       "      <td>-0.000928</td>\n",
       "      <td>0.0</td>\n",
       "      <td>3</td>\n",
       "      <td>0.000007</td>\n",
       "      <td>0.000038</td>\n",
       "      <td>0.003464</td>\n",
       "      <td>0.999934</td>\n",
       "      <td>40</td>\n",
       "      <td>0.010869</td>\n",
       "      <td>1.098612e+00</td>\n",
       "      <td>-11.865581</td>\n",
       "      <td>-10.187150</td>\n",
       "      <td>-5.665362</td>\n",
       "      <td>-0.000066</td>\n",
       "      <td>3.688879</td>\n",
       "      <td>-4.521854</td>\n",
       "    </tr>\n",
       "    <tr>\n",
       "      <th>47477</th>\n",
       "      <td>0.0</td>\n",
       "      <td>201</td>\n",
       "      <td>0.022153</td>\n",
       "      <td>-0.040181</td>\n",
       "      <td>0.0</td>\n",
       "      <td>2</td>\n",
       "      <td>0.001629</td>\n",
       "      <td>0.000543</td>\n",
       "      <td>0.011406</td>\n",
       "      <td>0.994381</td>\n",
       "      <td>48</td>\n",
       "      <td>0.094703</td>\n",
       "      <td>6.931472e-01</td>\n",
       "      <td>-6.419492</td>\n",
       "      <td>-7.518104</td>\n",
       "      <td>-4.473582</td>\n",
       "      <td>-0.005635</td>\n",
       "      <td>3.871201</td>\n",
       "      <td>-2.357010</td>\n",
       "    </tr>\n",
       "    <tr>\n",
       "      <th>10250</th>\n",
       "      <td>0.0</td>\n",
       "      <td>51</td>\n",
       "      <td>0.340703</td>\n",
       "      <td>-0.619501</td>\n",
       "      <td>0.0</td>\n",
       "      <td>1</td>\n",
       "      <td>0.000168</td>\n",
       "      <td>0.008377</td>\n",
       "      <td>0.000000</td>\n",
       "      <td>0.000000</td>\n",
       "      <td>35</td>\n",
       "      <td>0.707156</td>\n",
       "      <td>1.110223e-15</td>\n",
       "      <td>-8.694272</td>\n",
       "      <td>-4.782249</td>\n",
       "      <td>-34.538776</td>\n",
       "      <td>-34.538776</td>\n",
       "      <td>3.555348</td>\n",
       "      <td>-0.346503</td>\n",
       "    </tr>\n",
       "  </tbody>\n",
       "</table>\n",
       "</div>"
      ],
      "text/plain": [
       "       neighbourhood_group  neighbourhood  ...  log_name_length  log_minumum_night\n",
       "37907                  0.0             28  ...         3.688879          -4.521854\n",
       "47477                  0.0            201  ...         3.871201          -2.357010\n",
       "10250                  0.0             51  ...         3.555348          -0.346503\n",
       "\n",
       "[3 rows x 19 columns]"
      ]
     },
     "execution_count": 53,
     "metadata": {
      "tags": []
     },
     "output_type": "execute_result"
    }
   ],
   "source": [
    "x_test.head(3)"
   ]
  },
  {
   "cell_type": "code",
   "execution_count": 54,
   "metadata": {
    "colab": {
     "base_uri": "https://localhost:8080/",
     "height": 218
    },
    "id": "M5cp16nvNwVi",
    "outputId": "f998dca2-9b8a-4727-aee7-0304effb2d79"
   },
   "outputs": [
    {
     "data": {
      "text/plain": [
       "array([[-7.68143385e+01, -1.55945207e+01,  3.35812365e+00,\n",
       "         1.80159433e+00,  2.86095528e+00, -1.39753407e+00,\n",
       "        -2.63729874e-02, -4.07861674e-01,  3.27574899e-01,\n",
       "         1.48437734e-01, -3.30312758e-02],\n",
       "       [ 9.61714209e+01, -1.93137584e+01,  1.15003273e+01,\n",
       "         6.42661320e+00,  3.20341889e+00,  1.91609528e+00,\n",
       "        -1.35706403e-01, -5.52134432e-01, -1.57779486e-01,\n",
       "        -1.96213662e-01, -4.04113729e-02],\n",
       "       [-5.30804842e+01,  2.96753264e+01,  5.98113711e+00,\n",
       "        -1.64746368e+00, -5.62359706e-02,  4.47351114e-01,\n",
       "         7.36698762e-01, -2.78644057e-01, -4.15357574e-01,\n",
       "         1.36732598e-01, -1.16236642e-02]])"
      ]
     },
     "execution_count": 54,
     "metadata": {
      "tags": []
     },
     "output_type": "execute_result"
    }
   ],
   "source": [
    "x_test_test = pca_final.transform(x_test[:3])\n",
    "x_test_test"
   ]
  },
  {
   "cell_type": "code",
   "execution_count": 55,
   "metadata": {
    "colab": {
     "base_uri": "https://localhost:8080/",
     "height": 232
    },
    "id": "Z8wK238PJrJV",
    "outputId": "e3e0c9e6-af23-48b6-f2a7-35b28fbe62e6"
   },
   "outputs": [
    {
     "data": {
      "text/html": [
       "<div>\n",
       "<style scoped>\n",
       "    .dataframe tbody tr th:only-of-type {\n",
       "        vertical-align: middle;\n",
       "    }\n",
       "\n",
       "    .dataframe tbody tr th {\n",
       "        vertical-align: top;\n",
       "    }\n",
       "\n",
       "    .dataframe thead th {\n",
       "        text-align: right;\n",
       "    }\n",
       "</style>\n",
       "<table border=\"1\" class=\"dataframe\">\n",
       "  <thead>\n",
       "    <tr style=\"text-align: right;\">\n",
       "      <th></th>\n",
       "      <th>pca_component 0</th>\n",
       "      <th>pca_component 1</th>\n",
       "      <th>pca_component 2</th>\n",
       "      <th>pca_component 3</th>\n",
       "      <th>pca_component 4</th>\n",
       "      <th>pca_component 5</th>\n",
       "      <th>pca_component 6</th>\n",
       "      <th>pca_component 7</th>\n",
       "      <th>pca_component 8</th>\n",
       "      <th>pca_component 9</th>\n",
       "      <th>pca_component 10</th>\n",
       "      <th>price</th>\n",
       "    </tr>\n",
       "  </thead>\n",
       "  <tbody>\n",
       "    <tr>\n",
       "      <th>0</th>\n",
       "      <td>-76.814339</td>\n",
       "      <td>-15.594521</td>\n",
       "      <td>3.358124</td>\n",
       "      <td>1.801594</td>\n",
       "      <td>2.860955</td>\n",
       "      <td>-1.397534</td>\n",
       "      <td>-0.026373</td>\n",
       "      <td>-0.407862</td>\n",
       "      <td>0.327575</td>\n",
       "      <td>0.148438</td>\n",
       "      <td>-0.033031</td>\n",
       "      <td>45.0</td>\n",
       "    </tr>\n",
       "    <tr>\n",
       "      <th>1</th>\n",
       "      <td>96.171421</td>\n",
       "      <td>-19.313758</td>\n",
       "      <td>11.500327</td>\n",
       "      <td>6.426613</td>\n",
       "      <td>3.203419</td>\n",
       "      <td>1.916095</td>\n",
       "      <td>-0.135706</td>\n",
       "      <td>-0.552134</td>\n",
       "      <td>-0.157779</td>\n",
       "      <td>-0.196214</td>\n",
       "      <td>-0.040411</td>\n",
       "      <td>150.0</td>\n",
       "    </tr>\n",
       "    <tr>\n",
       "      <th>2</th>\n",
       "      <td>-53.080484</td>\n",
       "      <td>29.675326</td>\n",
       "      <td>5.981137</td>\n",
       "      <td>-1.647464</td>\n",
       "      <td>-0.056236</td>\n",
       "      <td>0.447351</td>\n",
       "      <td>0.736699</td>\n",
       "      <td>-0.278644</td>\n",
       "      <td>-0.415358</td>\n",
       "      <td>0.136733</td>\n",
       "      <td>-0.011624</td>\n",
       "      <td>45.0</td>\n",
       "    </tr>\n",
       "    <tr>\n",
       "      <th>3</th>\n",
       "      <td>-76.707190</td>\n",
       "      <td>-16.748817</td>\n",
       "      <td>4.337665</td>\n",
       "      <td>12.083981</td>\n",
       "      <td>-5.041037</td>\n",
       "      <td>1.234883</td>\n",
       "      <td>-0.148719</td>\n",
       "      <td>-0.576247</td>\n",
       "      <td>0.616290</td>\n",
       "      <td>-0.018705</td>\n",
       "      <td>-0.008402</td>\n",
       "      <td>63.0</td>\n",
       "    </tr>\n",
       "    <tr>\n",
       "      <th>4</th>\n",
       "      <td>-2.052342</td>\n",
       "      <td>28.365399</td>\n",
       "      <td>7.958104</td>\n",
       "      <td>2.852007</td>\n",
       "      <td>-1.611771</td>\n",
       "      <td>-0.218779</td>\n",
       "      <td>-0.413748</td>\n",
       "      <td>0.439059</td>\n",
       "      <td>0.117139</td>\n",
       "      <td>-0.003720</td>\n",
       "      <td>-0.001167</td>\n",
       "      <td>150.0</td>\n",
       "    </tr>\n",
       "  </tbody>\n",
       "</table>\n",
       "</div>"
      ],
      "text/plain": [
       "   pca_component 0  pca_component 1  ...  pca_component 10  price\n",
       "0       -76.814339       -15.594521  ...         -0.033031   45.0\n",
       "1        96.171421       -19.313758  ...         -0.040411  150.0\n",
       "2       -53.080484        29.675326  ...         -0.011624   45.0\n",
       "3       -76.707190       -16.748817  ...         -0.008402   63.0\n",
       "4        -2.052342        28.365399  ...         -0.001167  150.0\n",
       "\n",
       "[5 rows x 12 columns]"
      ]
     },
     "execution_count": 55,
     "metadata": {
      "tags": []
     },
     "output_type": "execute_result"
    }
   ],
   "source": [
    "x_test_final = pca_final.transform(x_test)\n",
    "test_dataset = np.concatenate([x_test_final, y_test], axis=1)\n",
    "test_dataset = pd.DataFrame(test_dataset, columns=column_names_p)\n",
    "test_dataset.head()"
   ]
  },
  {
   "cell_type": "code",
   "execution_count": 56,
   "metadata": {
    "id": "M0Gppx7GOGlF"
   },
   "outputs": [],
   "source": [
    "test_dataset.to_csv(\"test5.csv\", header=True, index=True)"
   ]
  }
 ],
 "metadata": {
  "colab": {
   "collapsed_sections": [],
   "name": "feature selection.ipynb",
   "provenance": [],
   "toc_visible": true
  },
  "kernelspec": {
   "display_name": "Python 3",
   "language": "python",
   "name": "python3"
  },
  "language_info": {
   "codemirror_mode": {
    "name": "ipython",
    "version": 3
   },
   "file_extension": ".py",
   "mimetype": "text/x-python",
   "name": "python",
   "nbconvert_exporter": "python",
   "pygments_lexer": "ipython3",
   "version": "3.7.3"
  }
 },
 "nbformat": 4,
 "nbformat_minor": 1
}
