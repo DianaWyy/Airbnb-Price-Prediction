{
 "cells": [
  {
   "cell_type": "code",
   "execution_count": 2,
   "metadata": {},
   "outputs": [],
   "source": [
    "import numpy as np\n",
    "import pandas as pd\n",
    "import sklearn\n",
    "from sklearn.model_selection import train_test_split\n",
    "import seaborn as sns\n",
    "import matplotlib.pyplot as plt\n",
    "from sklearn.metrics import mean_squared_error\n",
    "from sklearn.model_selection import train_test_split as split\n",
    "from sklearn.neighbors import KNeighborsRegressor\n",
    "from sklearn.metrics import mean_squared_error as mse"
   ]
  },
  {
   "cell_type": "markdown",
   "metadata": {},
   "source": [
    "### Using KNN on cleaned data"
   ]
  },
  {
   "cell_type": "code",
   "execution_count": 3,
   "metadata": {},
   "outputs": [
    {
     "data": {
      "text/html": [
       "<div>\n",
       "<style scoped>\n",
       "    .dataframe tbody tr th:only-of-type {\n",
       "        vertical-align: middle;\n",
       "    }\n",
       "\n",
       "    .dataframe tbody tr th {\n",
       "        vertical-align: top;\n",
       "    }\n",
       "\n",
       "    .dataframe thead th {\n",
       "        text-align: right;\n",
       "    }\n",
       "</style>\n",
       "<table border=\"1\" class=\"dataframe\">\n",
       "  <thead>\n",
       "    <tr style=\"text-align: right;\">\n",
       "      <th></th>\n",
       "      <th>neighbourhood_group</th>\n",
       "      <th>neighbourhood</th>\n",
       "      <th>latitude</th>\n",
       "      <th>longitude</th>\n",
       "      <th>room_type</th>\n",
       "      <th>price</th>\n",
       "      <th>minimum_nights</th>\n",
       "      <th>number_of_reviews</th>\n",
       "      <th>reviews_per_month</th>\n",
       "      <th>calculated_host_listings_count</th>\n",
       "      <th>availability_365</th>\n",
       "      <th>name_length</th>\n",
       "      <th>minumum_nights</th>\n",
       "    </tr>\n",
       "  </thead>\n",
       "  <tbody>\n",
       "    <tr>\n",
       "      <th>0</th>\n",
       "      <td>0.0</td>\n",
       "      <td>107</td>\n",
       "      <td>0.000297</td>\n",
       "      <td>-0.000541</td>\n",
       "      <td>0.0</td>\n",
       "      <td>149</td>\n",
       "      <td>1</td>\n",
       "      <td>0.000002</td>\n",
       "      <td>0.000044</td>\n",
       "      <td>0.002668</td>\n",
       "      <td>0.999992</td>\n",
       "      <td>34</td>\n",
       "      <td>0.002740</td>\n",
       "    </tr>\n",
       "    <tr>\n",
       "      <th>1</th>\n",
       "      <td>0.0</td>\n",
       "      <td>126</td>\n",
       "      <td>0.000312</td>\n",
       "      <td>-0.000567</td>\n",
       "      <td>1.0</td>\n",
       "      <td>225</td>\n",
       "      <td>1</td>\n",
       "      <td>0.000003</td>\n",
       "      <td>0.000015</td>\n",
       "      <td>0.002720</td>\n",
       "      <td>0.999992</td>\n",
       "      <td>21</td>\n",
       "      <td>0.002817</td>\n",
       "    </tr>\n",
       "    <tr>\n",
       "      <th>2</th>\n",
       "      <td>0.0</td>\n",
       "      <td>93</td>\n",
       "      <td>0.000298</td>\n",
       "      <td>-0.000541</td>\n",
       "      <td>0.0</td>\n",
       "      <td>150</td>\n",
       "      <td>3</td>\n",
       "      <td>0.000000</td>\n",
       "      <td>0.000007</td>\n",
       "      <td>0.002669</td>\n",
       "      <td>0.999962</td>\n",
       "      <td>35</td>\n",
       "      <td>0.008219</td>\n",
       "    </tr>\n",
       "    <tr>\n",
       "      <th>3</th>\n",
       "      <td>0.0</td>\n",
       "      <td>41</td>\n",
       "      <td>0.000611</td>\n",
       "      <td>-0.001111</td>\n",
       "      <td>1.0</td>\n",
       "      <td>89</td>\n",
       "      <td>1</td>\n",
       "      <td>0.000070</td>\n",
       "      <td>0.000015</td>\n",
       "      <td>0.002915</td>\n",
       "      <td>0.999982</td>\n",
       "      <td>31</td>\n",
       "      <td>0.005155</td>\n",
       "    </tr>\n",
       "    <tr>\n",
       "      <th>4</th>\n",
       "      <td>0.0</td>\n",
       "      <td>61</td>\n",
       "      <td>0.047474</td>\n",
       "      <td>-0.086042</td>\n",
       "      <td>1.0</td>\n",
       "      <td>80</td>\n",
       "      <td>10</td>\n",
       "      <td>0.000116</td>\n",
       "      <td>0.001164</td>\n",
       "      <td>0.000000</td>\n",
       "      <td>0.000000</td>\n",
       "      <td>48</td>\n",
       "      <td>0.995159</td>\n",
       "    </tr>\n",
       "  </tbody>\n",
       "</table>\n",
       "</div>"
      ],
      "text/plain": [
       "   neighbourhood_group  neighbourhood  latitude  longitude  room_type  price  \\\n",
       "0                  0.0            107  0.000297  -0.000541        0.0    149   \n",
       "1                  0.0            126  0.000312  -0.000567        1.0    225   \n",
       "2                  0.0             93  0.000298  -0.000541        0.0    150   \n",
       "3                  0.0             41  0.000611  -0.001111        1.0     89   \n",
       "4                  0.0             61  0.047474  -0.086042        1.0     80   \n",
       "\n",
       "   minimum_nights  number_of_reviews  reviews_per_month  \\\n",
       "0               1           0.000002           0.000044   \n",
       "1               1           0.000003           0.000015   \n",
       "2               3           0.000000           0.000007   \n",
       "3               1           0.000070           0.000015   \n",
       "4              10           0.000116           0.001164   \n",
       "\n",
       "   calculated_host_listings_count  availability_365  name_length  \\\n",
       "0                        0.002668          0.999992           34   \n",
       "1                        0.002720          0.999992           21   \n",
       "2                        0.002669          0.999962           35   \n",
       "3                        0.002915          0.999982           31   \n",
       "4                        0.000000          0.000000           48   \n",
       "\n",
       "   minumum_nights  \n",
       "0        0.002740  \n",
       "1        0.002817  \n",
       "2        0.008219  \n",
       "3        0.005155  \n",
       "4        0.995159  "
      ]
     },
     "execution_count": 3,
     "metadata": {},
     "output_type": "execute_result"
    }
   ],
   "source": [
    "# implement knn on cleaned data first\n",
    "data = pd.read_csv(\"../cleaned_data_1.csv\", header=0, index_col=0)\n",
    "data.head(5)"
   ]
  },
  {
   "cell_type": "code",
   "execution_count": 4,
   "metadata": {},
   "outputs": [],
   "source": [
    "X = data.drop('price', axis=1)"
   ]
  },
  {
   "cell_type": "code",
   "execution_count": 6,
   "metadata": {},
   "outputs": [
    {
     "data": {
      "text/html": [
       "<div>\n",
       "<style scoped>\n",
       "    .dataframe tbody tr th:only-of-type {\n",
       "        vertical-align: middle;\n",
       "    }\n",
       "\n",
       "    .dataframe tbody tr th {\n",
       "        vertical-align: top;\n",
       "    }\n",
       "\n",
       "    .dataframe thead th {\n",
       "        text-align: right;\n",
       "    }\n",
       "</style>\n",
       "<table border=\"1\" class=\"dataframe\">\n",
       "  <thead>\n",
       "    <tr style=\"text-align: right;\">\n",
       "      <th></th>\n",
       "      <th>neighbourhood_group</th>\n",
       "      <th>neighbourhood</th>\n",
       "      <th>latitude</th>\n",
       "      <th>longitude</th>\n",
       "      <th>room_type</th>\n",
       "      <th>minimum_nights</th>\n",
       "      <th>number_of_reviews</th>\n",
       "      <th>reviews_per_month</th>\n",
       "      <th>calculated_host_listings_count</th>\n",
       "      <th>availability_365</th>\n",
       "      <th>name_length</th>\n",
       "      <th>minumum_nights</th>\n",
       "    </tr>\n",
       "  </thead>\n",
       "  <tbody>\n",
       "    <tr>\n",
       "      <th>0</th>\n",
       "      <td>0.0</td>\n",
       "      <td>107</td>\n",
       "      <td>0.000297</td>\n",
       "      <td>-0.000541</td>\n",
       "      <td>0.0</td>\n",
       "      <td>1</td>\n",
       "      <td>0.000002</td>\n",
       "      <td>0.000044</td>\n",
       "      <td>0.002668</td>\n",
       "      <td>0.999992</td>\n",
       "      <td>34</td>\n",
       "      <td>0.002740</td>\n",
       "    </tr>\n",
       "    <tr>\n",
       "      <th>1</th>\n",
       "      <td>0.0</td>\n",
       "      <td>126</td>\n",
       "      <td>0.000312</td>\n",
       "      <td>-0.000567</td>\n",
       "      <td>1.0</td>\n",
       "      <td>1</td>\n",
       "      <td>0.000003</td>\n",
       "      <td>0.000015</td>\n",
       "      <td>0.002720</td>\n",
       "      <td>0.999992</td>\n",
       "      <td>21</td>\n",
       "      <td>0.002817</td>\n",
       "    </tr>\n",
       "    <tr>\n",
       "      <th>2</th>\n",
       "      <td>0.0</td>\n",
       "      <td>93</td>\n",
       "      <td>0.000298</td>\n",
       "      <td>-0.000541</td>\n",
       "      <td>0.0</td>\n",
       "      <td>3</td>\n",
       "      <td>0.000000</td>\n",
       "      <td>0.000007</td>\n",
       "      <td>0.002669</td>\n",
       "      <td>0.999962</td>\n",
       "      <td>35</td>\n",
       "      <td>0.008219</td>\n",
       "    </tr>\n",
       "    <tr>\n",
       "      <th>3</th>\n",
       "      <td>0.0</td>\n",
       "      <td>41</td>\n",
       "      <td>0.000611</td>\n",
       "      <td>-0.001111</td>\n",
       "      <td>1.0</td>\n",
       "      <td>1</td>\n",
       "      <td>0.000070</td>\n",
       "      <td>0.000015</td>\n",
       "      <td>0.002915</td>\n",
       "      <td>0.999982</td>\n",
       "      <td>31</td>\n",
       "      <td>0.005155</td>\n",
       "    </tr>\n",
       "    <tr>\n",
       "      <th>4</th>\n",
       "      <td>0.0</td>\n",
       "      <td>61</td>\n",
       "      <td>0.047474</td>\n",
       "      <td>-0.086042</td>\n",
       "      <td>1.0</td>\n",
       "      <td>10</td>\n",
       "      <td>0.000116</td>\n",
       "      <td>0.001164</td>\n",
       "      <td>0.000000</td>\n",
       "      <td>0.000000</td>\n",
       "      <td>48</td>\n",
       "      <td>0.995159</td>\n",
       "    </tr>\n",
       "  </tbody>\n",
       "</table>\n",
       "</div>"
      ],
      "text/plain": [
       "   neighbourhood_group  neighbourhood  latitude  longitude  room_type  \\\n",
       "0                  0.0            107  0.000297  -0.000541        0.0   \n",
       "1                  0.0            126  0.000312  -0.000567        1.0   \n",
       "2                  0.0             93  0.000298  -0.000541        0.0   \n",
       "3                  0.0             41  0.000611  -0.001111        1.0   \n",
       "4                  0.0             61  0.047474  -0.086042        1.0   \n",
       "\n",
       "   minimum_nights  number_of_reviews  reviews_per_month  \\\n",
       "0               1           0.000002           0.000044   \n",
       "1               1           0.000003           0.000015   \n",
       "2               3           0.000000           0.000007   \n",
       "3               1           0.000070           0.000015   \n",
       "4              10           0.000116           0.001164   \n",
       "\n",
       "   calculated_host_listings_count  availability_365  name_length  \\\n",
       "0                        0.002668          0.999992           34   \n",
       "1                        0.002720          0.999992           21   \n",
       "2                        0.002669          0.999962           35   \n",
       "3                        0.002915          0.999982           31   \n",
       "4                        0.000000          0.000000           48   \n",
       "\n",
       "   minumum_nights  \n",
       "0        0.002740  \n",
       "1        0.002817  \n",
       "2        0.008219  \n",
       "3        0.005155  \n",
       "4        0.995159  "
      ]
     },
     "execution_count": 6,
     "metadata": {},
     "output_type": "execute_result"
    }
   ],
   "source": [
    "## get rid of price in X\n",
    "X.head(5)"
   ]
  },
  {
   "cell_type": "code",
   "execution_count": 7,
   "metadata": {},
   "outputs": [],
   "source": [
    "y = data.price"
   ]
  },
  {
   "cell_type": "code",
   "execution_count": 9,
   "metadata": {},
   "outputs": [
    {
     "data": {
      "text/plain": [
       "0    149\n",
       "1    225\n",
       "2    150\n",
       "3     89\n",
       "4     80\n",
       "Name: price, dtype: int64"
      ]
     },
     "execution_count": 9,
     "metadata": {},
     "output_type": "execute_result"
    }
   ],
   "source": [
    "## get the price (target)\n",
    "y.head(5)"
   ]
  },
  {
   "cell_type": "code",
   "execution_count": 11,
   "metadata": {},
   "outputs": [],
   "source": [
    "## cross validation\n",
    "X_train, X_test, y_train, y_test = split(X, y, train_size=0.7, random_state=314159)"
   ]
  },
  {
   "cell_type": "code",
   "execution_count": 53,
   "metadata": {},
   "outputs": [],
   "source": [
    "## build model\n",
    "knn_model_1 = KNeighborsRegressor().fit(X_train, y_train)"
   ]
  },
  {
   "cell_type": "code",
   "execution_count": 55,
   "metadata": {},
   "outputs": [],
   "source": [
    "## predict y_train from x_train\n",
    "y_train_pred = knn_model_1.predict(X_train)"
   ]
  },
  {
   "cell_type": "code",
   "execution_count": 56,
   "metadata": {},
   "outputs": [
    {
     "data": {
      "text/plain": [
       "<matplotlib.axes._subplots.AxesSubplot at 0x1a195b0828>"
      ]
     },
     "execution_count": 56,
     "metadata": {},
     "output_type": "execute_result"
    },
    {
     "data": {
      "image/png": "[encoded data removed]",
      "text/plain": [
       "<Figure size 432x288 with 1 Axes>"
      ]
     },
     "metadata": {
      "needs_background": "light"
     },
     "output_type": "display_data"
    }
   ],
   "source": [
    "## plot\n",
    "diff = y_train - y_train_pred\n",
    "sns.distplot(diff)"
   ]
  },
  {
   "cell_type": "code",
   "execution_count": 22,
   "metadata": {},
   "outputs": [
    {
     "data": {
      "text/plain": [
       "35.6844749207311"
      ]
     },
     "execution_count": 22,
     "metadata": {},
     "output_type": "execute_result"
    }
   ],
   "source": [
    "## rmse for trained data\n",
    "RMSE = mse(y_train, y_train_pred)**0.5\n",
    "RMSE"
   ]
  },
  {
   "cell_type": "code",
   "execution_count": 47,
   "metadata": {},
   "outputs": [],
   "source": [
    "# y test prediction\n",
    "y_test_pred = knn_model_1.predict(X_test)"
   ]
  },
  {
   "cell_type": "code",
   "execution_count": 49,
   "metadata": {},
   "outputs": [],
   "source": [
    "# get top 20 of the price data\n",
    "diff = y_test - y_test_pred"
   ]
  },
  {
   "cell_type": "code",
   "execution_count": 50,
   "metadata": {},
   "outputs": [
    {
     "data": {
      "text/plain": [
       "<matplotlib.axes._subplots.AxesSubplot at 0x1a192d4390>"
      ]
     },
     "execution_count": 50,
     "metadata": {},
     "output_type": "execute_result"
    },
    {
     "data": {
      "image/png": "[encoded data removed]",
      "text/plain": [
       "<Figure size 432x288 with 1 Axes>"
      ]
     },
     "metadata": {
      "needs_background": "light"
     },
     "output_type": "display_data"
    }
   ],
   "source": [
    "## plot\n",
    "sns.distplot(diff)"
   ]
  },
  {
   "cell_type": "code",
   "execution_count": 57,
   "metadata": {},
   "outputs": [
    {
     "data": {
      "text/plain": [
       "44.203885837811285"
      ]
     },
     "execution_count": 57,
     "metadata": {},
     "output_type": "execute_result"
    }
   ],
   "source": [
    "# rmse for test data\n",
    "RMSE = mse(y_test, y_test_pred)**0.5\n",
    "RMSE"
   ]
  },
  {
   "cell_type": "markdown",
   "metadata": {},
   "source": [
    "### Using KNN on data with log transformation"
   ]
  },
  {
   "cell_type": "code",
   "execution_count": 59,
   "metadata": {
    "scrolled": true
   },
   "outputs": [
    {
     "data": {
      "text/html": [
       "<div>\n",
       "<style scoped>\n",
       "    .dataframe tbody tr th:only-of-type {\n",
       "        vertical-align: middle;\n",
       "    }\n",
       "\n",
       "    .dataframe tbody tr th {\n",
       "        vertical-align: top;\n",
       "    }\n",
       "\n",
       "    .dataframe thead th {\n",
       "        text-align: right;\n",
       "    }\n",
       "</style>\n",
       "<table border=\"1\" class=\"dataframe\">\n",
       "  <thead>\n",
       "    <tr style=\"text-align: right;\">\n",
       "      <th></th>\n",
       "      <th>neighbourhood_group</th>\n",
       "      <th>neighbourhood</th>\n",
       "      <th>latitude</th>\n",
       "      <th>longitude</th>\n",
       "      <th>room_type</th>\n",
       "      <th>price</th>\n",
       "      <th>minimum_nights</th>\n",
       "      <th>number_of_reviews</th>\n",
       "      <th>reviews_per_month</th>\n",
       "      <th>calculated_host_listings_count</th>\n",
       "      <th>availability_365</th>\n",
       "      <th>name_length</th>\n",
       "      <th>minumum_nights</th>\n",
       "    </tr>\n",
       "  </thead>\n",
       "  <tbody>\n",
       "    <tr>\n",
       "      <th>0</th>\n",
       "      <td>0.0</td>\n",
       "      <td>107</td>\n",
       "      <td>0.000297</td>\n",
       "      <td>-0.000541</td>\n",
       "      <td>0.0</td>\n",
       "      <td>149</td>\n",
       "      <td>1</td>\n",
       "      <td>0.000002</td>\n",
       "      <td>0.000044</td>\n",
       "      <td>0.002668</td>\n",
       "      <td>0.999992</td>\n",
       "      <td>34</td>\n",
       "      <td>0.002740</td>\n",
       "    </tr>\n",
       "    <tr>\n",
       "      <th>1</th>\n",
       "      <td>0.0</td>\n",
       "      <td>126</td>\n",
       "      <td>0.000312</td>\n",
       "      <td>-0.000567</td>\n",
       "      <td>1.0</td>\n",
       "      <td>225</td>\n",
       "      <td>1</td>\n",
       "      <td>0.000003</td>\n",
       "      <td>0.000015</td>\n",
       "      <td>0.002720</td>\n",
       "      <td>0.999992</td>\n",
       "      <td>21</td>\n",
       "      <td>0.002817</td>\n",
       "    </tr>\n",
       "    <tr>\n",
       "      <th>2</th>\n",
       "      <td>0.0</td>\n",
       "      <td>93</td>\n",
       "      <td>0.000298</td>\n",
       "      <td>-0.000541</td>\n",
       "      <td>0.0</td>\n",
       "      <td>150</td>\n",
       "      <td>3</td>\n",
       "      <td>0.000000</td>\n",
       "      <td>0.000007</td>\n",
       "      <td>0.002669</td>\n",
       "      <td>0.999962</td>\n",
       "      <td>35</td>\n",
       "      <td>0.008219</td>\n",
       "    </tr>\n",
       "    <tr>\n",
       "      <th>3</th>\n",
       "      <td>0.0</td>\n",
       "      <td>41</td>\n",
       "      <td>0.000611</td>\n",
       "      <td>-0.001111</td>\n",
       "      <td>1.0</td>\n",
       "      <td>89</td>\n",
       "      <td>1</td>\n",
       "      <td>0.000070</td>\n",
       "      <td>0.000015</td>\n",
       "      <td>0.002915</td>\n",
       "      <td>0.999982</td>\n",
       "      <td>31</td>\n",
       "      <td>0.005155</td>\n",
       "    </tr>\n",
       "    <tr>\n",
       "      <th>4</th>\n",
       "      <td>0.0</td>\n",
       "      <td>61</td>\n",
       "      <td>0.047474</td>\n",
       "      <td>-0.086042</td>\n",
       "      <td>1.0</td>\n",
       "      <td>80</td>\n",
       "      <td>10</td>\n",
       "      <td>0.000116</td>\n",
       "      <td>0.001164</td>\n",
       "      <td>0.000000</td>\n",
       "      <td>0.000000</td>\n",
       "      <td>48</td>\n",
       "      <td>0.995159</td>\n",
       "    </tr>\n",
       "  </tbody>\n",
       "</table>\n",
       "</div>"
      ],
      "text/plain": [
       "   neighbourhood_group  neighbourhood  latitude  longitude  room_type  price  \\\n",
       "0                  0.0            107  0.000297  -0.000541        0.0    149   \n",
       "1                  0.0            126  0.000312  -0.000567        1.0    225   \n",
       "2                  0.0             93  0.000298  -0.000541        0.0    150   \n",
       "3                  0.0             41  0.000611  -0.001111        1.0     89   \n",
       "4                  0.0             61  0.047474  -0.086042        1.0     80   \n",
       "\n",
       "   minimum_nights  number_of_reviews  reviews_per_month  \\\n",
       "0               1           0.000002           0.000044   \n",
       "1               1           0.000003           0.000015   \n",
       "2               3           0.000000           0.000007   \n",
       "3               1           0.000070           0.000015   \n",
       "4              10           0.000116           0.001164   \n",
       "\n",
       "   calculated_host_listings_count  availability_365  name_length  \\\n",
       "0                        0.002668          0.999992           34   \n",
       "1                        0.002720          0.999992           21   \n",
       "2                        0.002669          0.999962           35   \n",
       "3                        0.002915          0.999982           31   \n",
       "4                        0.000000          0.000000           48   \n",
       "\n",
       "   minumum_nights  \n",
       "0        0.002740  \n",
       "1        0.002817  \n",
       "2        0.008219  \n",
       "3        0.005155  \n",
       "4        0.995159  "
      ]
     },
     "execution_count": 59,
     "metadata": {},
     "output_type": "execute_result"
    }
   ],
   "source": [
    "# Using KNN on data with log transformation\n",
    "data = pd.read_csv(\"../cleaned_data_1.csv\", header=0, index_col=0)\n",
    "data.head(5)"
   ]
  },
  {
   "cell_type": "code",
   "execution_count": 61,
   "metadata": {},
   "outputs": [],
   "source": [
    "# log transformation\n",
    "data[\"log_minimum_night\"] = np.log(data[\"minimum_nights\"] + 10**-15)\n",
    "data[\"log_number_of_reviews\"] = np.log(data[\"number_of_reviews\"] + 10**-15)\n",
    "data[\"log_review_per_month\"] = np.log(data[\"reviews_per_month\"] + 10**-15)\n",
    "data[\"log_calculated_host_count\"] = np.log(data[\"calculated_host_listings_count\"] + 10**-15)\n",
    "data[\"log_availability\"] = np.log(data[\"availability_365\"] + 10**-15)\n",
    "data[\"log_name_length\"] = np.log(data[\"name_length\"] + 10**-15)\n",
    "data[\"log_minumum_night\"] = np.log(data[\"minumum_nights\"] + 10**-15)\n",
    "data = data.sample(n=data.shape[0])"
   ]
  },
  {
   "cell_type": "code",
   "execution_count": 62,
   "metadata": {},
   "outputs": [
    {
     "data": {
      "text/html": [
       "<div>\n",
       "<style scoped>\n",
       "    .dataframe tbody tr th:only-of-type {\n",
       "        vertical-align: middle;\n",
       "    }\n",
       "\n",
       "    .dataframe tbody tr th {\n",
       "        vertical-align: top;\n",
       "    }\n",
       "\n",
       "    .dataframe thead th {\n",
       "        text-align: right;\n",
       "    }\n",
       "</style>\n",
       "<table border=\"1\" class=\"dataframe\">\n",
       "  <thead>\n",
       "    <tr style=\"text-align: right;\">\n",
       "      <th></th>\n",
       "      <th>neighbourhood_group</th>\n",
       "      <th>neighbourhood</th>\n",
       "      <th>latitude</th>\n",
       "      <th>longitude</th>\n",
       "      <th>room_type</th>\n",
       "      <th>price</th>\n",
       "      <th>minimum_nights</th>\n",
       "      <th>number_of_reviews</th>\n",
       "      <th>reviews_per_month</th>\n",
       "      <th>calculated_host_listings_count</th>\n",
       "      <th>availability_365</th>\n",
       "      <th>name_length</th>\n",
       "      <th>minumum_nights</th>\n",
       "      <th>log_minimum_night</th>\n",
       "      <th>log_number_of_reviews</th>\n",
       "      <th>log_review_per_month</th>\n",
       "      <th>log_calculated_host_count</th>\n",
       "      <th>log_availability</th>\n",
       "      <th>log_name_length</th>\n",
       "      <th>log_minumum_night</th>\n",
       "    </tr>\n",
       "  </thead>\n",
       "  <tbody>\n",
       "    <tr>\n",
       "      <th>37646</th>\n",
       "      <td>0.0</td>\n",
       "      <td>4</td>\n",
       "      <td>0.001954</td>\n",
       "      <td>-0.003544</td>\n",
       "      <td>1.0</td>\n",
       "      <td>98</td>\n",
       "      <td>3</td>\n",
       "      <td>0.000193</td>\n",
       "      <td>0.000096</td>\n",
       "      <td>0.006280</td>\n",
       "      <td>0.999710</td>\n",
       "      <td>49</td>\n",
       "      <td>0.022894</td>\n",
       "      <td>1.098612</td>\n",
       "      <td>-8.554245</td>\n",
       "      <td>-9.252380</td>\n",
       "      <td>-5.070330</td>\n",
       "      <td>-0.000290</td>\n",
       "      <td>3.891820</td>\n",
       "      <td>-3.776875</td>\n",
       "    </tr>\n",
       "    <tr>\n",
       "      <th>21871</th>\n",
       "      <td>0.0</td>\n",
       "      <td>83</td>\n",
       "      <td>0.002891</td>\n",
       "      <td>-0.005249</td>\n",
       "      <td>1.0</td>\n",
       "      <td>65</td>\n",
       "      <td>3</td>\n",
       "      <td>0.000050</td>\n",
       "      <td>0.000071</td>\n",
       "      <td>0.007388</td>\n",
       "      <td>0.999539</td>\n",
       "      <td>19</td>\n",
       "      <td>0.028833</td>\n",
       "      <td>1.098612</td>\n",
       "      <td>-9.908963</td>\n",
       "      <td>-9.552288</td>\n",
       "      <td>-4.907897</td>\n",
       "      <td>-0.000461</td>\n",
       "      <td>2.944439</td>\n",
       "      <td>-3.546240</td>\n",
       "    </tr>\n",
       "    <tr>\n",
       "      <th>25536</th>\n",
       "      <td>1.0</td>\n",
       "      <td>146</td>\n",
       "      <td>0.094780</td>\n",
       "      <td>-0.171285</td>\n",
       "      <td>1.0</td>\n",
       "      <td>58</td>\n",
       "      <td>5</td>\n",
       "      <td>0.000093</td>\n",
       "      <td>0.002318</td>\n",
       "      <td>0.000000</td>\n",
       "      <td>0.000000</td>\n",
       "      <td>32</td>\n",
       "      <td>0.980649</td>\n",
       "      <td>1.609438</td>\n",
       "      <td>-9.285784</td>\n",
       "      <td>-6.066908</td>\n",
       "      <td>-34.538776</td>\n",
       "      <td>-34.538776</td>\n",
       "      <td>3.465736</td>\n",
       "      <td>-0.019540</td>\n",
       "    </tr>\n",
       "    <tr>\n",
       "      <th>26535</th>\n",
       "      <td>0.0</td>\n",
       "      <td>64</td>\n",
       "      <td>0.115337</td>\n",
       "      <td>-0.209543</td>\n",
       "      <td>1.0</td>\n",
       "      <td>190</td>\n",
       "      <td>4</td>\n",
       "      <td>0.002011</td>\n",
       "      <td>0.002832</td>\n",
       "      <td>0.000000</td>\n",
       "      <td>0.000000</td>\n",
       "      <td>22</td>\n",
       "      <td>0.970967</td>\n",
       "      <td>1.386294</td>\n",
       "      <td>-6.209254</td>\n",
       "      <td>-5.866764</td>\n",
       "      <td>-34.538776</td>\n",
       "      <td>-34.538776</td>\n",
       "      <td>3.091042</td>\n",
       "      <td>-0.029463</td>\n",
       "    </tr>\n",
       "    <tr>\n",
       "      <th>4089</th>\n",
       "      <td>0.0</td>\n",
       "      <td>28</td>\n",
       "      <td>0.094249</td>\n",
       "      <td>-0.171217</td>\n",
       "      <td>0.0</td>\n",
       "      <td>50</td>\n",
       "      <td>5</td>\n",
       "      <td>0.000278</td>\n",
       "      <td>0.002316</td>\n",
       "      <td>0.000000</td>\n",
       "      <td>0.000000</td>\n",
       "      <td>26</td>\n",
       "      <td>0.980712</td>\n",
       "      <td>1.609438</td>\n",
       "      <td>-8.188320</td>\n",
       "      <td>-6.068057</td>\n",
       "      <td>-34.538776</td>\n",
       "      <td>-34.538776</td>\n",
       "      <td>3.258097</td>\n",
       "      <td>-0.019476</td>\n",
       "    </tr>\n",
       "  </tbody>\n",
       "</table>\n",
       "</div>"
      ],
      "text/plain": [
       "       neighbourhood_group  neighbourhood  latitude  longitude  room_type  \\\n",
       "37646                  0.0              4  0.001954  -0.003544        1.0   \n",
       "21871                  0.0             83  0.002891  -0.005249        1.0   \n",
       "25536                  1.0            146  0.094780  -0.171285        1.0   \n",
       "26535                  0.0             64  0.115337  -0.209543        1.0   \n",
       "4089                   0.0             28  0.094249  -0.171217        0.0   \n",
       "\n",
       "       price  minimum_nights  number_of_reviews  reviews_per_month  \\\n",
       "37646     98               3           0.000193           0.000096   \n",
       "21871     65               3           0.000050           0.000071   \n",
       "25536     58               5           0.000093           0.002318   \n",
       "26535    190               4           0.002011           0.002832   \n",
       "4089      50               5           0.000278           0.002316   \n",
       "\n",
       "       calculated_host_listings_count  availability_365  name_length  \\\n",
       "37646                        0.006280          0.999710           49   \n",
       "21871                        0.007388          0.999539           19   \n",
       "25536                        0.000000          0.000000           32   \n",
       "26535                        0.000000          0.000000           22   \n",
       "4089                         0.000000          0.000000           26   \n",
       "\n",
       "       minumum_nights  log_minimum_night  log_number_of_reviews  \\\n",
       "37646        0.022894           1.098612              -8.554245   \n",
       "21871        0.028833           1.098612              -9.908963   \n",
       "25536        0.980649           1.609438              -9.285784   \n",
       "26535        0.970967           1.386294              -6.209254   \n",
       "4089         0.980712           1.609438              -8.188320   \n",
       "\n",
       "       log_review_per_month  log_calculated_host_count  log_availability  \\\n",
       "37646             -9.252380                  -5.070330         -0.000290   \n",
       "21871             -9.552288                  -4.907897         -0.000461   \n",
       "25536             -6.066908                 -34.538776        -34.538776   \n",
       "26535             -5.866764                 -34.538776        -34.538776   \n",
       "4089              -6.068057                 -34.538776        -34.538776   \n",
       "\n",
       "       log_name_length  log_minumum_night  \n",
       "37646         3.891820          -3.776875  \n",
       "21871         2.944439          -3.546240  \n",
       "25536         3.465736          -0.019540  \n",
       "26535         3.091042          -0.029463  \n",
       "4089          3.258097          -0.019476  "
      ]
     },
     "execution_count": 62,
     "metadata": {},
     "output_type": "execute_result"
    }
   ],
   "source": [
    "data.head(5)"
   ]
  },
  {
   "cell_type": "code",
   "execution_count": 63,
   "metadata": {},
   "outputs": [],
   "source": [
    "# drop price\n",
    "X = data.drop('price', axis=1)"
   ]
  },
  {
   "cell_type": "code",
   "execution_count": 64,
   "metadata": {},
   "outputs": [
    {
     "data": {
      "text/html": [
       "<div>\n",
       "<style scoped>\n",
       "    .dataframe tbody tr th:only-of-type {\n",
       "        vertical-align: middle;\n",
       "    }\n",
       "\n",
       "    .dataframe tbody tr th {\n",
       "        vertical-align: top;\n",
       "    }\n",
       "\n",
       "    .dataframe thead th {\n",
       "        text-align: right;\n",
       "    }\n",
       "</style>\n",
       "<table border=\"1\" class=\"dataframe\">\n",
       "  <thead>\n",
       "    <tr style=\"text-align: right;\">\n",
       "      <th></th>\n",
       "      <th>neighbourhood_group</th>\n",
       "      <th>neighbourhood</th>\n",
       "      <th>latitude</th>\n",
       "      <th>longitude</th>\n",
       "      <th>room_type</th>\n",
       "      <th>minimum_nights</th>\n",
       "      <th>number_of_reviews</th>\n",
       "      <th>reviews_per_month</th>\n",
       "      <th>calculated_host_listings_count</th>\n",
       "      <th>availability_365</th>\n",
       "      <th>name_length</th>\n",
       "      <th>minumum_nights</th>\n",
       "      <th>log_minimum_night</th>\n",
       "      <th>log_number_of_reviews</th>\n",
       "      <th>log_review_per_month</th>\n",
       "      <th>log_calculated_host_count</th>\n",
       "      <th>log_availability</th>\n",
       "      <th>log_name_length</th>\n",
       "      <th>log_minumum_night</th>\n",
       "    </tr>\n",
       "  </thead>\n",
       "  <tbody>\n",
       "    <tr>\n",
       "      <th>37646</th>\n",
       "      <td>0.0</td>\n",
       "      <td>4</td>\n",
       "      <td>0.001954</td>\n",
       "      <td>-0.003544</td>\n",
       "      <td>1.0</td>\n",
       "      <td>3</td>\n",
       "      <td>0.000193</td>\n",
       "      <td>0.000096</td>\n",
       "      <td>0.006280</td>\n",
       "      <td>0.999710</td>\n",
       "      <td>49</td>\n",
       "      <td>0.022894</td>\n",
       "      <td>1.098612</td>\n",
       "      <td>-8.554245</td>\n",
       "      <td>-9.252380</td>\n",
       "      <td>-5.070330</td>\n",
       "      <td>-0.000290</td>\n",
       "      <td>3.891820</td>\n",
       "      <td>-3.776875</td>\n",
       "    </tr>\n",
       "    <tr>\n",
       "      <th>21871</th>\n",
       "      <td>0.0</td>\n",
       "      <td>83</td>\n",
       "      <td>0.002891</td>\n",
       "      <td>-0.005249</td>\n",
       "      <td>1.0</td>\n",
       "      <td>3</td>\n",
       "      <td>0.000050</td>\n",
       "      <td>0.000071</td>\n",
       "      <td>0.007388</td>\n",
       "      <td>0.999539</td>\n",
       "      <td>19</td>\n",
       "      <td>0.028833</td>\n",
       "      <td>1.098612</td>\n",
       "      <td>-9.908963</td>\n",
       "      <td>-9.552288</td>\n",
       "      <td>-4.907897</td>\n",
       "      <td>-0.000461</td>\n",
       "      <td>2.944439</td>\n",
       "      <td>-3.546240</td>\n",
       "    </tr>\n",
       "    <tr>\n",
       "      <th>25536</th>\n",
       "      <td>1.0</td>\n",
       "      <td>146</td>\n",
       "      <td>0.094780</td>\n",
       "      <td>-0.171285</td>\n",
       "      <td>1.0</td>\n",
       "      <td>5</td>\n",
       "      <td>0.000093</td>\n",
       "      <td>0.002318</td>\n",
       "      <td>0.000000</td>\n",
       "      <td>0.000000</td>\n",
       "      <td>32</td>\n",
       "      <td>0.980649</td>\n",
       "      <td>1.609438</td>\n",
       "      <td>-9.285784</td>\n",
       "      <td>-6.066908</td>\n",
       "      <td>-34.538776</td>\n",
       "      <td>-34.538776</td>\n",
       "      <td>3.465736</td>\n",
       "      <td>-0.019540</td>\n",
       "    </tr>\n",
       "    <tr>\n",
       "      <th>26535</th>\n",
       "      <td>0.0</td>\n",
       "      <td>64</td>\n",
       "      <td>0.115337</td>\n",
       "      <td>-0.209543</td>\n",
       "      <td>1.0</td>\n",
       "      <td>4</td>\n",
       "      <td>0.002011</td>\n",
       "      <td>0.002832</td>\n",
       "      <td>0.000000</td>\n",
       "      <td>0.000000</td>\n",
       "      <td>22</td>\n",
       "      <td>0.970967</td>\n",
       "      <td>1.386294</td>\n",
       "      <td>-6.209254</td>\n",
       "      <td>-5.866764</td>\n",
       "      <td>-34.538776</td>\n",
       "      <td>-34.538776</td>\n",
       "      <td>3.091042</td>\n",
       "      <td>-0.029463</td>\n",
       "    </tr>\n",
       "    <tr>\n",
       "      <th>4089</th>\n",
       "      <td>0.0</td>\n",
       "      <td>28</td>\n",
       "      <td>0.094249</td>\n",
       "      <td>-0.171217</td>\n",
       "      <td>0.0</td>\n",
       "      <td>5</td>\n",
       "      <td>0.000278</td>\n",
       "      <td>0.002316</td>\n",
       "      <td>0.000000</td>\n",
       "      <td>0.000000</td>\n",
       "      <td>26</td>\n",
       "      <td>0.980712</td>\n",
       "      <td>1.609438</td>\n",
       "      <td>-8.188320</td>\n",
       "      <td>-6.068057</td>\n",
       "      <td>-34.538776</td>\n",
       "      <td>-34.538776</td>\n",
       "      <td>3.258097</td>\n",
       "      <td>-0.019476</td>\n",
       "    </tr>\n",
       "  </tbody>\n",
       "</table>\n",
       "</div>"
      ],
      "text/plain": [
       "       neighbourhood_group  neighbourhood  latitude  longitude  room_type  \\\n",
       "37646                  0.0              4  0.001954  -0.003544        1.0   \n",
       "21871                  0.0             83  0.002891  -0.005249        1.0   \n",
       "25536                  1.0            146  0.094780  -0.171285        1.0   \n",
       "26535                  0.0             64  0.115337  -0.209543        1.0   \n",
       "4089                   0.0             28  0.094249  -0.171217        0.0   \n",
       "\n",
       "       minimum_nights  number_of_reviews  reviews_per_month  \\\n",
       "37646               3           0.000193           0.000096   \n",
       "21871               3           0.000050           0.000071   \n",
       "25536               5           0.000093           0.002318   \n",
       "26535               4           0.002011           0.002832   \n",
       "4089                5           0.000278           0.002316   \n",
       "\n",
       "       calculated_host_listings_count  availability_365  name_length  \\\n",
       "37646                        0.006280          0.999710           49   \n",
       "21871                        0.007388          0.999539           19   \n",
       "25536                        0.000000          0.000000           32   \n",
       "26535                        0.000000          0.000000           22   \n",
       "4089                         0.000000          0.000000           26   \n",
       "\n",
       "       minumum_nights  log_minimum_night  log_number_of_reviews  \\\n",
       "37646        0.022894           1.098612              -8.554245   \n",
       "21871        0.028833           1.098612              -9.908963   \n",
       "25536        0.980649           1.609438              -9.285784   \n",
       "26535        0.970967           1.386294              -6.209254   \n",
       "4089         0.980712           1.609438              -8.188320   \n",
       "\n",
       "       log_review_per_month  log_calculated_host_count  log_availability  \\\n",
       "37646             -9.252380                  -5.070330         -0.000290   \n",
       "21871             -9.552288                  -4.907897         -0.000461   \n",
       "25536             -6.066908                 -34.538776        -34.538776   \n",
       "26535             -5.866764                 -34.538776        -34.538776   \n",
       "4089              -6.068057                 -34.538776        -34.538776   \n",
       "\n",
       "       log_name_length  log_minumum_night  \n",
       "37646         3.891820          -3.776875  \n",
       "21871         2.944439          -3.546240  \n",
       "25536         3.465736          -0.019540  \n",
       "26535         3.091042          -0.029463  \n",
       "4089          3.258097          -0.019476  "
      ]
     },
     "execution_count": 64,
     "metadata": {},
     "output_type": "execute_result"
    }
   ],
   "source": [
    "X.head()"
   ]
  },
  {
   "cell_type": "code",
   "execution_count": 65,
   "metadata": {},
   "outputs": [],
   "source": [
    "y = data.price"
   ]
  },
  {
   "cell_type": "code",
   "execution_count": 109,
   "metadata": {},
   "outputs": [],
   "source": [
    "## cross validation\n",
    "X_train, X_test, y_train, y_test = split(X, y, train_size=0.7, random_state=314159)"
   ]
  },
  {
   "cell_type": "code",
   "execution_count": 110,
   "metadata": {},
   "outputs": [],
   "source": [
    "## build model\n",
    "knn_model_2 = KNeighborsRegressor().fit(X_train, y_train)"
   ]
  },
  {
   "cell_type": "code",
   "execution_count": 111,
   "metadata": {},
   "outputs": [],
   "source": [
    "## predict y_train from x_train\n",
    "y_train_pred = knn_model_1.predict(X_train)"
   ]
  },
  {
   "cell_type": "code",
   "execution_count": 112,
   "metadata": {},
   "outputs": [
    {
     "data": {
      "text/plain": [
       "<matplotlib.axes._subplots.AxesSubplot at 0x1a1d3a6390>"
      ]
     },
     "execution_count": 112,
     "metadata": {},
     "output_type": "execute_result"
    },
    {
     "data": {
      "image/png": "[encoded data removed]",
      "text/plain": [
       "<Figure size 432x288 with 1 Axes>"
      ]
     },
     "metadata": {
      "needs_background": "light"
     },
     "output_type": "display_data"
    }
   ],
   "source": [
    "## plot\n",
    "diff = y_train - y_train_pred\n",
    "sns.distplot(diff)"
   ]
  },
  {
   "cell_type": "code",
   "execution_count": 113,
   "metadata": {},
   "outputs": [
    {
     "data": {
      "text/plain": [
       "38.878993664782946"
      ]
     },
     "execution_count": 113,
     "metadata": {},
     "output_type": "execute_result"
    }
   ],
   "source": [
    "## rmse for trained data\n",
    "RMSE = mse(y_train, y_train_pred)**0.5\n",
    "RMSE"
   ]
  },
  {
   "cell_type": "code",
   "execution_count": 114,
   "metadata": {},
   "outputs": [],
   "source": [
    "# y test prediction\n",
    "y_test_pred = knn_model_1.predict(X_test)"
   ]
  },
  {
   "cell_type": "code",
   "execution_count": 115,
   "metadata": {},
   "outputs": [],
   "source": [
    "# get top 20 of the price data\n",
    "diff = y_test - y_test_pred"
   ]
  },
  {
   "cell_type": "code",
   "execution_count": 116,
   "metadata": {},
   "outputs": [
    {
     "data": {
      "text/plain": [
       "<matplotlib.axes._subplots.AxesSubplot at 0x1a1b020cf8>"
      ]
     },
     "execution_count": 116,
     "metadata": {},
     "output_type": "execute_result"
    },
    {
     "data": {
      "image/png": "[encoded data removed]",
      "text/plain": [
       "<Figure size 432x288 with 1 Axes>"
      ]
     },
     "metadata": {
      "needs_background": "light"
     },
     "output_type": "display_data"
    }
   ],
   "source": [
    "## plot\n",
    "sns.distplot(diff)"
   ]
  },
  {
   "cell_type": "code",
   "execution_count": 118,
   "metadata": {},
   "outputs": [
    {
     "data": {
      "text/plain": [
       "48.09138087007997"
      ]
     },
     "execution_count": 118,
     "metadata": {},
     "output_type": "execute_result"
    }
   ],
   "source": [
    "## rmse for test data\n",
    "RMSE = mse(y_test, y_test_pred)**0.5\n",
    "RMSE"
   ]
  },
  {
   "cell_type": "markdown",
   "metadata": {},
   "source": [
    "Compared with cleaned data and also the cleaned data with log transformation applied, we can see that the model with cleaned data does a little bit better than the model with the other one. One reason that might cause this situtation is that the data with the log transformation with has too many features. "
   ]
  },
  {
   "cell_type": "markdown",
   "metadata": {},
   "source": [
    "### Use principal components"
   ]
  },
  {
   "cell_type": "code",
   "execution_count": 3,
   "metadata": {},
   "outputs": [
    {
     "data": {
      "text/html": [
       "<div>\n",
       "<style scoped>\n",
       "    .dataframe tbody tr th:only-of-type {\n",
       "        vertical-align: middle;\n",
       "    }\n",
       "\n",
       "    .dataframe tbody tr th {\n",
       "        vertical-align: top;\n",
       "    }\n",
       "\n",
       "    .dataframe thead th {\n",
       "        text-align: right;\n",
       "    }\n",
       "</style>\n",
       "<table border=\"1\" class=\"dataframe\">\n",
       "  <thead>\n",
       "    <tr style=\"text-align: right;\">\n",
       "      <th></th>\n",
       "      <th>pca_component 0</th>\n",
       "      <th>pca_component 1</th>\n",
       "      <th>pca_component 2</th>\n",
       "      <th>pca_component 3</th>\n",
       "      <th>pca_component 4</th>\n",
       "      <th>pca_component 5</th>\n",
       "      <th>pca_component 6</th>\n",
       "      <th>pca_component 7</th>\n",
       "      <th>pca_component 8</th>\n",
       "      <th>pca_component 9</th>\n",
       "      <th>pca_component 10</th>\n",
       "      <th>price</th>\n",
       "    </tr>\n",
       "  </thead>\n",
       "  <tbody>\n",
       "    <tr>\n",
       "      <th>0</th>\n",
       "      <td>111.257356</td>\n",
       "      <td>-19.034748</td>\n",
       "      <td>4.862769</td>\n",
       "      <td>5.177924</td>\n",
       "      <td>4.656782</td>\n",
       "      <td>-1.921391</td>\n",
       "      <td>-0.183095</td>\n",
       "      <td>-0.501683</td>\n",
       "      <td>0.228178</td>\n",
       "      <td>0.155032</td>\n",
       "      <td>-0.045540</td>\n",
       "      <td>42.0</td>\n",
       "    </tr>\n",
       "    <tr>\n",
       "      <th>1</th>\n",
       "      <td>83.044684</td>\n",
       "      <td>-16.618402</td>\n",
       "      <td>-1.045081</td>\n",
       "      <td>-27.007275</td>\n",
       "      <td>1.369359</td>\n",
       "      <td>-1.257543</td>\n",
       "      <td>1.601341</td>\n",
       "      <td>-0.070470</td>\n",
       "      <td>0.348136</td>\n",
       "      <td>0.057967</td>\n",
       "      <td>-0.059666</td>\n",
       "      <td>70.0</td>\n",
       "    </tr>\n",
       "    <tr>\n",
       "      <th>2</th>\n",
       "      <td>-40.735853</td>\n",
       "      <td>-16.486288</td>\n",
       "      <td>8.230134</td>\n",
       "      <td>2.939946</td>\n",
       "      <td>-0.154164</td>\n",
       "      <td>3.420576</td>\n",
       "      <td>-1.148351</td>\n",
       "      <td>0.267577</td>\n",
       "      <td>-0.051632</td>\n",
       "      <td>0.067243</td>\n",
       "      <td>-0.002725</td>\n",
       "      <td>120.0</td>\n",
       "    </tr>\n",
       "    <tr>\n",
       "      <th>3</th>\n",
       "      <td>52.478668</td>\n",
       "      <td>-20.196244</td>\n",
       "      <td>19.246323</td>\n",
       "      <td>40.140551</td>\n",
       "      <td>6.309285</td>\n",
       "      <td>2.801438</td>\n",
       "      <td>-0.923490</td>\n",
       "      <td>0.266367</td>\n",
       "      <td>-0.188993</td>\n",
       "      <td>0.018491</td>\n",
       "      <td>0.047119</td>\n",
       "      <td>120.0</td>\n",
       "    </tr>\n",
       "    <tr>\n",
       "      <th>4</th>\n",
       "      <td>-2.510515</td>\n",
       "      <td>-18.811422</td>\n",
       "      <td>-2.803176</td>\n",
       "      <td>16.615282</td>\n",
       "      <td>-20.676484</td>\n",
       "      <td>2.069589</td>\n",
       "      <td>-0.209310</td>\n",
       "      <td>0.216395</td>\n",
       "      <td>-0.523536</td>\n",
       "      <td>-0.190009</td>\n",
       "      <td>0.008872</td>\n",
       "      <td>120.0</td>\n",
       "    </tr>\n",
       "  </tbody>\n",
       "</table>\n",
       "</div>"
      ],
      "text/plain": [
       "   pca_component 0  pca_component 1  pca_component 2  pca_component 3  \\\n",
       "0       111.257356       -19.034748         4.862769         5.177924   \n",
       "1        83.044684       -16.618402        -1.045081       -27.007275   \n",
       "2       -40.735853       -16.486288         8.230134         2.939946   \n",
       "3        52.478668       -20.196244        19.246323        40.140551   \n",
       "4        -2.510515       -18.811422        -2.803176        16.615282   \n",
       "\n",
       "   pca_component 4  pca_component 5  pca_component 6  pca_component 7  \\\n",
       "0         4.656782        -1.921391        -0.183095        -0.501683   \n",
       "1         1.369359        -1.257543         1.601341        -0.070470   \n",
       "2        -0.154164         3.420576        -1.148351         0.267577   \n",
       "3         6.309285         2.801438        -0.923490         0.266367   \n",
       "4       -20.676484         2.069589        -0.209310         0.216395   \n",
       "\n",
       "   pca_component 8  pca_component 9  pca_component 10  price  \n",
       "0         0.228178         0.155032         -0.045540   42.0  \n",
       "1         0.348136         0.057967         -0.059666   70.0  \n",
       "2        -0.051632         0.067243         -0.002725  120.0  \n",
       "3        -0.188993         0.018491          0.047119  120.0  \n",
       "4        -0.523536        -0.190009          0.008872  120.0  "
      ]
     },
     "execution_count": 3,
     "metadata": {},
     "output_type": "execute_result"
    }
   ],
   "source": [
    "# Using principal components (train 1)\n",
    "data = pd.read_csv(\"../train1.csv\", header=0, index_col=0)\n",
    "data.head(5)"
   ]
  },
  {
   "cell_type": "code",
   "execution_count": 4,
   "metadata": {},
   "outputs": [],
   "source": [
    "# drop price\n",
    "X = data.drop('price', axis=1)"
   ]
  },
  {
   "cell_type": "code",
   "execution_count": 5,
   "metadata": {},
   "outputs": [
    {
     "data": {
      "text/html": [
       "<div>\n",
       "<style scoped>\n",
       "    .dataframe tbody tr th:only-of-type {\n",
       "        vertical-align: middle;\n",
       "    }\n",
       "\n",
       "    .dataframe tbody tr th {\n",
       "        vertical-align: top;\n",
       "    }\n",
       "\n",
       "    .dataframe thead th {\n",
       "        text-align: right;\n",
       "    }\n",
       "</style>\n",
       "<table border=\"1\" class=\"dataframe\">\n",
       "  <thead>\n",
       "    <tr style=\"text-align: right;\">\n",
       "      <th></th>\n",
       "      <th>pca_component 0</th>\n",
       "      <th>pca_component 1</th>\n",
       "      <th>pca_component 2</th>\n",
       "      <th>pca_component 3</th>\n",
       "      <th>pca_component 4</th>\n",
       "      <th>pca_component 5</th>\n",
       "      <th>pca_component 6</th>\n",
       "      <th>pca_component 7</th>\n",
       "      <th>pca_component 8</th>\n",
       "      <th>pca_component 9</th>\n",
       "      <th>pca_component 10</th>\n",
       "    </tr>\n",
       "  </thead>\n",
       "  <tbody>\n",
       "    <tr>\n",
       "      <th>0</th>\n",
       "      <td>111.257356</td>\n",
       "      <td>-19.034748</td>\n",
       "      <td>4.862769</td>\n",
       "      <td>5.177924</td>\n",
       "      <td>4.656782</td>\n",
       "      <td>-1.921391</td>\n",
       "      <td>-0.183095</td>\n",
       "      <td>-0.501683</td>\n",
       "      <td>0.228178</td>\n",
       "      <td>0.155032</td>\n",
       "      <td>-0.045540</td>\n",
       "    </tr>\n",
       "    <tr>\n",
       "      <th>1</th>\n",
       "      <td>83.044684</td>\n",
       "      <td>-16.618402</td>\n",
       "      <td>-1.045081</td>\n",
       "      <td>-27.007275</td>\n",
       "      <td>1.369359</td>\n",
       "      <td>-1.257543</td>\n",
       "      <td>1.601341</td>\n",
       "      <td>-0.070470</td>\n",
       "      <td>0.348136</td>\n",
       "      <td>0.057967</td>\n",
       "      <td>-0.059666</td>\n",
       "    </tr>\n",
       "    <tr>\n",
       "      <th>2</th>\n",
       "      <td>-40.735853</td>\n",
       "      <td>-16.486288</td>\n",
       "      <td>8.230134</td>\n",
       "      <td>2.939946</td>\n",
       "      <td>-0.154164</td>\n",
       "      <td>3.420576</td>\n",
       "      <td>-1.148351</td>\n",
       "      <td>0.267577</td>\n",
       "      <td>-0.051632</td>\n",
       "      <td>0.067243</td>\n",
       "      <td>-0.002725</td>\n",
       "    </tr>\n",
       "    <tr>\n",
       "      <th>3</th>\n",
       "      <td>52.478668</td>\n",
       "      <td>-20.196244</td>\n",
       "      <td>19.246323</td>\n",
       "      <td>40.140551</td>\n",
       "      <td>6.309285</td>\n",
       "      <td>2.801438</td>\n",
       "      <td>-0.923490</td>\n",
       "      <td>0.266367</td>\n",
       "      <td>-0.188993</td>\n",
       "      <td>0.018491</td>\n",
       "      <td>0.047119</td>\n",
       "    </tr>\n",
       "    <tr>\n",
       "      <th>4</th>\n",
       "      <td>-2.510515</td>\n",
       "      <td>-18.811422</td>\n",
       "      <td>-2.803176</td>\n",
       "      <td>16.615282</td>\n",
       "      <td>-20.676484</td>\n",
       "      <td>2.069589</td>\n",
       "      <td>-0.209310</td>\n",
       "      <td>0.216395</td>\n",
       "      <td>-0.523536</td>\n",
       "      <td>-0.190009</td>\n",
       "      <td>0.008872</td>\n",
       "    </tr>\n",
       "  </tbody>\n",
       "</table>\n",
       "</div>"
      ],
      "text/plain": [
       "   pca_component 0  pca_component 1  pca_component 2  pca_component 3  \\\n",
       "0       111.257356       -19.034748         4.862769         5.177924   \n",
       "1        83.044684       -16.618402        -1.045081       -27.007275   \n",
       "2       -40.735853       -16.486288         8.230134         2.939946   \n",
       "3        52.478668       -20.196244        19.246323        40.140551   \n",
       "4        -2.510515       -18.811422        -2.803176        16.615282   \n",
       "\n",
       "   pca_component 4  pca_component 5  pca_component 6  pca_component 7  \\\n",
       "0         4.656782        -1.921391        -0.183095        -0.501683   \n",
       "1         1.369359        -1.257543         1.601341        -0.070470   \n",
       "2        -0.154164         3.420576        -1.148351         0.267577   \n",
       "3         6.309285         2.801438        -0.923490         0.266367   \n",
       "4       -20.676484         2.069589        -0.209310         0.216395   \n",
       "\n",
       "   pca_component 8  pca_component 9  pca_component 10  \n",
       "0         0.228178         0.155032         -0.045540  \n",
       "1         0.348136         0.057967         -0.059666  \n",
       "2        -0.051632         0.067243         -0.002725  \n",
       "3        -0.188993         0.018491          0.047119  \n",
       "4        -0.523536        -0.190009          0.008872  "
      ]
     },
     "execution_count": 5,
     "metadata": {},
     "output_type": "execute_result"
    }
   ],
   "source": [
    "X.head()"
   ]
  },
  {
   "cell_type": "code",
   "execution_count": 6,
   "metadata": {},
   "outputs": [],
   "source": [
    "y = data.price"
   ]
  },
  {
   "cell_type": "code",
   "execution_count": 7,
   "metadata": {},
   "outputs": [
    {
     "data": {
      "text/plain": [
       "0     42.0\n",
       "1     70.0\n",
       "2    120.0\n",
       "3    120.0\n",
       "4    120.0\n",
       "Name: price, dtype: float64"
      ]
     },
     "execution_count": 7,
     "metadata": {},
     "output_type": "execute_result"
    }
   ],
   "source": [
    "y.head(5)"
   ]
  },
  {
   "cell_type": "code",
   "execution_count": 8,
   "metadata": {},
   "outputs": [],
   "source": [
    "## cross validation\n",
    "X_train, X_test, y_train, y_test = split(X, y, train_size=0.7, random_state=314159)"
   ]
  },
  {
   "cell_type": "code",
   "execution_count": 9,
   "metadata": {},
   "outputs": [],
   "source": [
    "## build model\n",
    "knn_model_3 = KNeighborsRegressor().fit(X_train, y_train)"
   ]
  },
  {
   "cell_type": "code",
   "execution_count": 11,
   "metadata": {},
   "outputs": [],
   "source": [
    "## predict y_train from x_train\n",
    "y_train_pred = knn_model_3.predict(X_train)"
   ]
  },
  {
   "cell_type": "code",
   "execution_count": 12,
   "metadata": {},
   "outputs": [
    {
     "data": {
      "text/plain": [
       "<matplotlib.axes._subplots.AxesSubplot at 0x1a2145d668>"
      ]
     },
     "execution_count": 12,
     "metadata": {},
     "output_type": "execute_result"
    },
    {
     "data": {
      "image/png": "[encoded data removed]",
      "text/plain": [
       "<Figure size 432x288 with 1 Axes>"
      ]
     },
     "metadata": {
      "needs_background": "light"
     },
     "output_type": "display_data"
    }
   ],
   "source": [
    "## plot\n",
    "diff = y_train - y_train_pred\n",
    "sns.distplot(diff)"
   ]
  },
  {
   "cell_type": "code",
   "execution_count": 14,
   "metadata": {},
   "outputs": [
    {
     "data": {
      "text/plain": [
       "39.55736510870447"
      ]
     },
     "execution_count": 14,
     "metadata": {},
     "output_type": "execute_result"
    }
   ],
   "source": [
    "# rmse for test data\n",
    "RMSE = mse(y_train, y_train_pred)**0.5\n",
    "RMSE"
   ]
  },
  {
   "cell_type": "code",
   "execution_count": 15,
   "metadata": {},
   "outputs": [],
   "source": [
    "# y test prediction\n",
    "y_test_pred = knn_model_3.predict(X_test)"
   ]
  },
  {
   "cell_type": "code",
   "execution_count": 16,
   "metadata": {},
   "outputs": [],
   "source": [
    "# diff\n",
    "diff = y_test - y_test_pred"
   ]
  },
  {
   "cell_type": "code",
   "execution_count": 17,
   "metadata": {},
   "outputs": [
    {
     "data": {
      "text/plain": [
       "<matplotlib.axes._subplots.AxesSubplot at 0x1a22205320>"
      ]
     },
     "execution_count": 17,
     "metadata": {},
     "output_type": "execute_result"
    },
    {
     "data": {
      "image/png": "[encoded data removed]",
      "text/plain": [
       "<Figure size 432x288 with 1 Axes>"
      ]
     },
     "metadata": {
      "needs_background": "light"
     },
     "output_type": "display_data"
    }
   ],
   "source": [
    "## plot\n",
    "sns.distplot(diff)"
   ]
  },
  {
   "cell_type": "code",
   "execution_count": 18,
   "metadata": {},
   "outputs": [
    {
     "data": {
      "text/plain": [
       "48.132811452545916"
      ]
     },
     "execution_count": 18,
     "metadata": {},
     "output_type": "execute_result"
    }
   ],
   "source": [
    "## rmse for test data\n",
    "RMSE = mse(y_test, y_test_pred)**0.5\n",
    "RMSE"
   ]
  },
  {
   "cell_type": "markdown",
   "metadata": {},
   "source": [
    "#### Conclusion\n",
    "cleaned data: RMSE (train): 35.684 RMSE (test): 44.204 \n",
    "<br/>\n",
    "cleaned data with log transformation: RMSE (train): 38.879 RMSE (test): 48.091\n",
    "<br/>\n",
    "principal components: RMSE (train): 39.557 RMSE (test): 48.133"
   ]
  }
 ],
 "metadata": {
  "kernelspec": {
   "display_name": "Python 3",
   "language": "python",
   "name": "python3"
  },
  "language_info": {
   "codemirror_mode": {
    "name": "ipython",
    "version": 3
   },
   "file_extension": ".py",
   "mimetype": "text/x-python",
   "name": "python",
   "nbconvert_exporter": "python",
   "pygments_lexer": "ipython3",
   "version": "3.7.3"
  }
 },
 "nbformat": 4,
 "nbformat_minor": 2
}
