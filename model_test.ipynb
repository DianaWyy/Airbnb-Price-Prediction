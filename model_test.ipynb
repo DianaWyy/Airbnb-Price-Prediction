{
  "nbformat": 4,
  "nbformat_minor": 0,
  "metadata": {
    "colab": {
      "name": "model_test.ipynb",
      "provenance": [],
      "collapsed_sections": []
    },
    "kernelspec": {
      "name": "python3",
      "display_name": "Python 3"
    }
  },
  "cells": [
    {
      "cell_type": "code",
      "metadata": {
        "id": "ZmTKmzPY_KJA"
      },
      "source": [
        "import numpy as np\n",
        "import pandas as pd\n",
        "import sklearn\n",
        "from sklearn.model_selection import GridSearchCV\n",
        "from sklearn.ensemble import RandomForestRegressor\n",
        "from sklearn.ensemble import AdaBoostRegressor\n",
        "from sklearn.tree import DecisionTreeRegressor\n",
        "import matplotlib.pyplot as plt\n",
        "from sklearn.metrics import mean_absolute_error\n",
        "from sklearn.metrics import mean_squared_error\n",
        "from sklearn.metrics import mean_squared_log_error"
      ],
      "execution_count": null,
      "outputs": []
    },
    {
      "cell_type": "code",
      "metadata": {
        "id": "RqRl_tgDE2Om"
      },
      "source": [
        "x_trains = []\n",
        "y_trains = []\n",
        "x_tests = []\n",
        "y_tests = []\n",
        "train_files = [\"train1.csv\", \"train2.csv\", \"train3.csv\", \"train4.csv\", \"train5.csv\"]\n",
        "test_files = [\"test1.csv\", \"test2.csv\", \"test3.csv\", \"test4.csv\", \"test5.csv\"]"
      ],
      "execution_count": null,
      "outputs": []
    },
    {
      "cell_type": "code",
      "metadata": {
        "id": "P1QaumzcHV8F"
      },
      "source": [
        "for i in range(len(train_files)):\n",
        "  train = pd.read_csv(train_files[i], index_col=0)\n",
        "  test = pd.read_csv(test_files[i], index_col=0)\n",
        "  x_train, y_train = train.iloc[:, :-1], train.iloc[:, -1]\n",
        "  x_test, y_test = test.iloc[:, :-1], test.iloc[:, -1]\n",
        "  x_trains.append(x_train)\n",
        "  y_trains.append(y_train)\n",
        "  x_tests.append(x_test)\n",
        "  y_tests.append(y_test)\n"
      ],
      "execution_count": null,
      "outputs": []
    },
    {
      "cell_type": "code",
      "metadata": {
        "id": "QEml4CFqIKcs",
        "colab": {
          "base_uri": "https://localhost:8080/"
        },
        "outputId": "d32d5fda-1ea1-4fdb-b992-98bebd178428"
      },
      "source": [
        "rf_mse = []\n",
        "rf_mae = []\n",
        "rf_log_rmse = []\n",
        "rf = RandomForestRegressor()\n",
        "rf_params = {'n_estimators':[i for i in range(50, 101, 10)], 'max_depth':[i for i in range(6,11, 2)]}\n",
        "for i in range(len(x_trains)):\n",
        "  grid_rf = GridSearchCV(estimator=rf, param_grid=rf_params, n_jobs=-1).fit(x_trains[i], y_trains[i])\n",
        "  predictions = grid_rf.predict(x_tests[i])\n",
        "  mse = mean_squared_error(predictions, y_tests[i])\n",
        "  mae = mean_absolute_error(predictions, y_tests[i])\n",
        "  log_mse = mean_squared_log_error(predictions, y_tests[i])\n",
        "  rf_mse.append(mse)\n",
        "  rf_mae.append(mae)\n",
        "  rf_log_rmse.append(log_mse)\n",
        "  print(\"testing on \" + str(i) + \" split is done!\")\n",
        "print(\"Average mse is: \", sum(rf_mse)/len(rf_mse))\n",
        "print(\"Average mae is: \", sum(rf_mae)/len(rf_mse))\n",
        "print(\"Average log_mse is: \", sum(rf_log_rmse)/len(rf_mse))"
      ],
      "execution_count": null,
      "outputs": [
        {
          "output_type": "stream",
          "text": [
            "testing on 0 split is done!\n",
            "testing on 1 split is done!\n",
            "testing on 2 split is done!\n",
            "testing on 3 split is done!\n",
            "testing on 4 split is done!\n",
            "Average mse is:  1382.6312140531702\n",
            "Average mae is:  28.502390514911667\n",
            "Average log_mse is:  0.13320176253515553\n"
          ],
          "name": "stdout"
        }
      ]
    },
    {
      "cell_type": "code",
      "metadata": {
        "id": "BSVubIkcftbf",
        "colab": {
          "base_uri": "https://localhost:8080/"
        },
        "outputId": "fd86caf7-080a-4e9e-aef4-891242cd834e"
      },
      "source": [
        "ad_mse = []\n",
        "ad_mae = []\n",
        "ad_log_rmse = []\n",
        "ad = AdaBoostRegressor(DecisionTreeRegressor(max_depth=10))\n",
        "ad_params = {'n_estimators':[i for i in range(50, 101, 10)], 'loss':['linear',  'exponential'], 'learning_rate':[0.5, 1]}\n",
        "for i in range(len(x_trains)):\n",
        "  grid_ad = GridSearchCV(estimator=ad, param_grid=ad_params, n_jobs=-1).fit(x_trains[i], y_trains[i])\n",
        "  predictions = grid_ad.predict(x_tests[i])\n",
        "  mse = mean_squared_error(predictions, y_tests[i])\n",
        "  mae = mean_absolute_error(predictions, y_tests[i])\n",
        "  log_mse = mean_squared_log_error(predictions, y_tests[i])\n",
        "  ad_mse.append(mse)\n",
        "  ad_mae.append(mae)\n",
        "  ad_log_rmse.append(log_mse)\n",
        "  print(\"testing on \" + str(i) + \" split is done!\")\n",
        "print(\"Average mse is: \", sum(ad_mse)/len(ad_mse))\n",
        "print(\"Average mae is: \", sum(ad_mae)/len(ad_mse))\n",
        "print(\"Average log_mse is: \", sum(ad_log_rmse)/len(ad_mse))"
      ],
      "execution_count": null,
      "outputs": [
        {
          "output_type": "stream",
          "text": [
            "testing on 0 split is done!\n",
            "testing on 1 split is done!\n",
            "testing on 2 split is done!\n",
            "testing on 3 split is done!\n",
            "testing on 4 split is done!\n",
            "Average mse is:  1554.8025768444868\n",
            "Average mae is:  32.13536727539103\n",
            "Average log_mse is:  0.16919188484047182\n"
          ],
          "name": "stdout"
        }
      ]
    }
  ]
}