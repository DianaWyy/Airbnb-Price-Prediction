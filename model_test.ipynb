{
  "nbformat": 4,
  "nbformat_minor": 0,
  "metadata": {
    "colab": {
      "name": "model_test.ipynb",
      "provenance": [],
      "collapsed_sections": []
    },
    "kernelspec": {
      "name": "python3",
      "display_name": "Python 3"
    }
  },
  "cells": [
    {
      "cell_type": "code",
      "metadata": {
        "id": "ZmTKmzPY_KJA"
      },
      "source": [
        "import numpy as np\n",
        "import pandas as pd\n",
        "import sklearn\n",
        "from sklearn.model_selection import GridSearchCV\n",
        "from sklearn.ensemble import RandomForestRegressor\n",
        "from sklearn.ensemble import AdaBoostRegressor\n",
        "from sklearn.tree import DecisionTreeRegressor\n",
        "import matplotlib.pyplot as plt\n",
        "from sklearn.metrics import mean_absolute_error\n",
        "from sklearn.metrics import mean_squared_error\n",
        "from sklearn.metrics import mean_squared_log_error"
      ],
      "execution_count": null,
      "outputs": []
    },
    {
      "cell_type": "code",
      "metadata": {
        "id": "RqRl_tgDE2Om"
      },
      "source": [
        "train = pd.read_csv(\"train1.csv\", index_col=0)\n",
        "test = pd.read_csv(\"test1.csv\", index_col=0)"
      ],
      "execution_count": null,
      "outputs": []
    },
    {
      "cell_type": "code",
      "metadata": {
        "id": "P1QaumzcHV8F"
      },
      "source": [
        "xtrain = train.iloc[:, :-1]\n",
        "ytrain = train.iloc[:, -1]\n",
        "xtest = test.iloc[:, :-1]\n",
        "ytest = test.iloc[:, -1]"
      ],
      "execution_count": null,
      "outputs": []
    },
    {
      "cell_type": "code",
      "metadata": {
        "id": "QEml4CFqIKcs",
        "colab": {
          "base_uri": "https://localhost:8080/"
        },
        "outputId": "7a70e4bd-26ee-4d88-ae30-cf4871a0ed34"
      },
      "source": [
        "rf = RandomForestRegressor()\n",
        "rf_params = {'n_estimators':[i for i in range(50, 101, 10)], 'max_depth':[i for i in range(6,11, 2)]}\n",
        "grid_rf = GridSearchCV(estimator=rf, param_grid=rf_params, n_jobs=-1).fit(xtrain, ytrain)\n",
        "predictions = grid_rf.predict(xtest)\n",
        "rmse = np.sqrt(mean_squared_error(predictions, ytest))\n",
        "mae = mean_absolute_error(predictions, ytest)\n",
        "log_mse = mean_squared_log_error(predictions, ytest)\n",
        "print(\"rmse is: \", rmse)\n",
        "print(\"mae is: \", mae)\n",
        "print(\"log_mse is: \", log_mse)"
      ],
      "execution_count": null,
      "outputs": [
        {
          "output_type": "stream",
          "text": [
            "rmse is:  36.952451503162884\n",
            "mae is:  28.359745071930767\n",
            "log_mse is:  0.13823197918939856\n"
          ],
          "name": "stdout"
        }
      ]
    },
    {
      "cell_type": "code",
      "metadata": {
        "id": "BSVubIkcftbf",
        "colab": {
          "base_uri": "https://localhost:8080/"
        },
        "outputId": "9f819db8-f3b1-4e5f-8f52-f876218412ba"
      },
      "source": [
        "ad = AdaBoostRegressor(DecisionTreeRegressor(max_depth=10))\n",
        "ad_params = {'n_estimators':[i for i in range(50, 101, 10)], 'loss':['linear',  'exponential'], 'learning_rate':[0.5, 1]}\n",
        "grid_ad = GridSearchCV(estimator=ad, param_grid=ad_params, n_jobs=-1).fit(xtrain, ytrain)\n",
        "predictions = grid_ad.predict(xtest)\n",
        "rmse = np.sqrt(mean_squared_error(predictions, ytest))\n",
        "mae = mean_absolute_error(predictions, ytest)\n",
        "log_mse = mean_squared_log_error(predictions, ytest)\n",
        "print(\"rmse is: \", rmse)\n",
        "print(\"mae is: \", mae)\n",
        "print(\"log_mse is: \", log_mse)"
      ],
      "execution_count": null,
      "outputs": [
        {
          "output_type": "stream",
          "text": [
            "rmse is:  39.05277465314585\n",
            "mae is:  31.745196830727654\n",
            "log_mse is:  0.1709893871390353\n"
          ],
          "name": "stdout"
        }
      ]
    }
  ]
}