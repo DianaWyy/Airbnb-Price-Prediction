{
 "cells": [
  {
   "cell_type": "markdown",
   "metadata": {
    "id": "e06kLxDw6722"
   },
   "source": [
    "TO DO LIST:\n",
    "1. Train test split<br>\n",
    "We need to use about 80% of the data to discover patterns and train our model, and use the rest to test the performance of our models and feature selection steps. \n",
    "2. Log transform for continuous features. \n",
    "As notes in Sifei Lu et al, 2017, \"A hybrid regression technique for house prices prediction\" (https://ieeexplore.ieee.org/abstract/document/8289904?casa_token=5PM1GErvd1kAAAAA:6cmVTKBnJLFo0nKD6Rdywz3oFSOnpNmRoImRTfZFGcCH46m9X0zomUi4lfq3iCxmzOZeAb2_yg). In house price prediction, log transformation on continuous features may improve our models.<br>\n",
    "3. Sequential feature selection: a common methods for posterior feature selection, as mentioned by \"A survey on feature selection methods\" (https://www.sciencedirect.com/science/article/pii/S0045790613003066?casa_token=RIVX1QVHWPoAAAAA:gHtK3StTaL7NXeRDQec6qG7zH6AYrt5VF2kUTAnS54yhn1I8fQUtBITL9xB8Yjm-RXhtCFhwEpA)<br>\n",
    "4. PCA Analysis:<br>\n",
    "\n",
    "For methods 2, we will verify the improvement through correlation via heatmap plot<br>\n",
    "For methods 3, we will test on keeping 80%, 90%, whole features and compare performance of simple models for these features on train/test dataset. <br>\n",
    "For methods 4, we will do the test again to show if PCA is effective. <br>"
   ]
  },
  {
   "cell_type": "code",
   "execution_count": 1,
   "metadata": {
    "id": "yK7eCZhn5bnD"
   },
   "outputs": [],
   "source": [
    "import numpy as np\n",
    "import pandas as pd\n",
    "import sklearn\n",
    "from sklearn.model_selection import train_test_split\n",
    "import seaborn as sns\n",
    "import matplotlib.pyplot as plt\n",
    "from sklearn import linear_model\n",
    "from sklearn.feature_selection import RFE\n",
    "from sklearn.metrics import mean_squared_error\n",
    "from sklearn.decomposition import PCA\n",
    "# from sklearn.preprocessing import StandardScaler"
   ]
  },
  {
   "cell_type": "markdown",
   "metadata": {
    "id": "CGB2rg5x8_Se"
   },
   "source": [
    "## Load the cleaned dataset"
   ]
  },
  {
   "cell_type": "code",
   "execution_count": 4,
   "metadata": {
    "colab": {
     "base_uri": "https://localhost:8080/",
     "height": 215
    },
    "id": "SQcsqdXx5jXM",
    "outputId": "52373695-4a74-4849-fb82-23afe9a57a6f"
   },
   "outputs": [
    {
     "data": {
      "text/html": [
       "<div>\n",
       "<style scoped>\n",
       "    .dataframe tbody tr th:only-of-type {\n",
       "        vertical-align: middle;\n",
       "    }\n",
       "\n",
       "    .dataframe tbody tr th {\n",
       "        vertical-align: top;\n",
       "    }\n",
       "\n",
       "    .dataframe thead th {\n",
       "        text-align: right;\n",
       "    }\n",
       "</style>\n",
       "<table border=\"1\" class=\"dataframe\">\n",
       "  <thead>\n",
       "    <tr style=\"text-align: right;\">\n",
       "      <th></th>\n",
       "      <th>neighbourhood_group</th>\n",
       "      <th>neighbourhood</th>\n",
       "      <th>latitude</th>\n",
       "      <th>longitude</th>\n",
       "      <th>room_type</th>\n",
       "      <th>price</th>\n",
       "      <th>minimum_nights</th>\n",
       "      <th>number_of_reviews</th>\n",
       "      <th>reviews_per_month</th>\n",
       "      <th>calculated_host_listings_count</th>\n",
       "      <th>availability_365</th>\n",
       "      <th>name_length</th>\n",
       "      <th>minumum_nights</th>\n",
       "    </tr>\n",
       "  </thead>\n",
       "  <tbody>\n",
       "    <tr>\n",
       "      <th>0</th>\n",
       "      <td>0.0</td>\n",
       "      <td>107</td>\n",
       "      <td>0.000297</td>\n",
       "      <td>-0.000541</td>\n",
       "      <td>0.0</td>\n",
       "      <td>149</td>\n",
       "      <td>1</td>\n",
       "      <td>0.000002</td>\n",
       "      <td>0.000044</td>\n",
       "      <td>0.002668</td>\n",
       "      <td>0.999992</td>\n",
       "      <td>34</td>\n",
       "      <td>0.002740</td>\n",
       "    </tr>\n",
       "    <tr>\n",
       "      <th>1</th>\n",
       "      <td>0.0</td>\n",
       "      <td>126</td>\n",
       "      <td>0.000312</td>\n",
       "      <td>-0.000567</td>\n",
       "      <td>1.0</td>\n",
       "      <td>225</td>\n",
       "      <td>1</td>\n",
       "      <td>0.000003</td>\n",
       "      <td>0.000015</td>\n",
       "      <td>0.002720</td>\n",
       "      <td>0.999992</td>\n",
       "      <td>21</td>\n",
       "      <td>0.002817</td>\n",
       "    </tr>\n",
       "    <tr>\n",
       "      <th>2</th>\n",
       "      <td>0.0</td>\n",
       "      <td>93</td>\n",
       "      <td>0.000298</td>\n",
       "      <td>-0.000541</td>\n",
       "      <td>0.0</td>\n",
       "      <td>150</td>\n",
       "      <td>3</td>\n",
       "      <td>0.000000</td>\n",
       "      <td>0.000007</td>\n",
       "      <td>0.002669</td>\n",
       "      <td>0.999962</td>\n",
       "      <td>35</td>\n",
       "      <td>0.008219</td>\n",
       "    </tr>\n",
       "    <tr>\n",
       "      <th>3</th>\n",
       "      <td>0.0</td>\n",
       "      <td>41</td>\n",
       "      <td>0.000611</td>\n",
       "      <td>-0.001111</td>\n",
       "      <td>1.0</td>\n",
       "      <td>89</td>\n",
       "      <td>1</td>\n",
       "      <td>0.000070</td>\n",
       "      <td>0.000015</td>\n",
       "      <td>0.002915</td>\n",
       "      <td>0.999982</td>\n",
       "      <td>31</td>\n",
       "      <td>0.005155</td>\n",
       "    </tr>\n",
       "    <tr>\n",
       "      <th>4</th>\n",
       "      <td>0.0</td>\n",
       "      <td>61</td>\n",
       "      <td>0.047474</td>\n",
       "      <td>-0.086042</td>\n",
       "      <td>1.0</td>\n",
       "      <td>80</td>\n",
       "      <td>10</td>\n",
       "      <td>0.000116</td>\n",
       "      <td>0.001164</td>\n",
       "      <td>0.000000</td>\n",
       "      <td>0.000000</td>\n",
       "      <td>48</td>\n",
       "      <td>0.995159</td>\n",
       "    </tr>\n",
       "  </tbody>\n",
       "</table>\n",
       "</div>"
      ],
      "text/plain": [
       "   neighbourhood_group  neighbourhood  latitude  longitude  room_type  price  \\\n",
       "0                  0.0            107  0.000297  -0.000541        0.0    149   \n",
       "1                  0.0            126  0.000312  -0.000567        1.0    225   \n",
       "2                  0.0             93  0.000298  -0.000541        0.0    150   \n",
       "3                  0.0             41  0.000611  -0.001111        1.0     89   \n",
       "4                  0.0             61  0.047474  -0.086042        1.0     80   \n",
       "\n",
       "   minimum_nights  number_of_reviews  reviews_per_month  \\\n",
       "0               1           0.000002           0.000044   \n",
       "1               1           0.000003           0.000015   \n",
       "2               3           0.000000           0.000007   \n",
       "3               1           0.000070           0.000015   \n",
       "4              10           0.000116           0.001164   \n",
       "\n",
       "   calculated_host_listings_count  availability_365  name_length  \\\n",
       "0                        0.002668          0.999992           34   \n",
       "1                        0.002720          0.999992           21   \n",
       "2                        0.002669          0.999962           35   \n",
       "3                        0.002915          0.999982           31   \n",
       "4                        0.000000          0.000000           48   \n",
       "\n",
       "   minumum_nights  \n",
       "0        0.002740  \n",
       "1        0.002817  \n",
       "2        0.008219  \n",
       "3        0.005155  \n",
       "4        0.995159  "
      ]
     },
     "execution_count": 4,
     "metadata": {},
     "output_type": "execute_result"
    }
   ],
   "source": [
    "data = pd.read_csv(\"cleaned_data_1.csv\", header=0, index_col=0)\n",
    "data.head(5)"
   ]
  },
  {
   "cell_type": "markdown",
   "metadata": {
    "id": "FsQUd3c09FJq"
   },
   "source": [
    "## Log transformation, shuffle the data and do train - test split"
   ]
  },
  {
   "cell_type": "code",
   "execution_count": 5,
   "metadata": {
    "id": "sDIVTKcGFMJQ"
   },
   "outputs": [],
   "source": [
    "\n",
    "data[\"log_minimum_night\"] = np.log(data[\"minimum_nights\"] + 10**-15)\n",
    "data[\"log_number_of_reviews\"] = np.log(data[\"number_of_reviews\"] + 10**-15)\n",
    "data[\"log_review_per_month\"] = np.log(data[\"reviews_per_month\"] + 10**-15)\n",
    "data[\"log_calculated_host_count\"] = np.log(data[\"calculated_host_listings_count\"] + 10**-15)\n",
    "data[\"log_availability\"] = np.log(data[\"availability_365\"] + 10**-15)\n",
    "data[\"log_name_length\"] = np.log(data[\"name_length\"] + 10**-15)\n",
    "data[\"log_minumum_night\"] = np.log(data[\"minumum_nights\"] + 10**-15)\n",
    "data = data.sample(n=data.shape[0])\n"
   ]
  },
  {
   "cell_type": "code",
   "execution_count": 6,
   "metadata": {
    "colab": {
     "base_uri": "https://localhost:8080/",
     "height": 215
    },
    "id": "G2ZQ_JvkHNcL",
    "outputId": "545f6d39-fa49-4f2f-a5f3-fa298574f958"
   },
   "outputs": [
    {
     "data": {
      "text/html": [
       "<div>\n",
       "<style scoped>\n",
       "    .dataframe tbody tr th:only-of-type {\n",
       "        vertical-align: middle;\n",
       "    }\n",
       "\n",
       "    .dataframe tbody tr th {\n",
       "        vertical-align: top;\n",
       "    }\n",
       "\n",
       "    .dataframe thead th {\n",
       "        text-align: right;\n",
       "    }\n",
       "</style>\n",
       "<table border=\"1\" class=\"dataframe\">\n",
       "  <thead>\n",
       "    <tr style=\"text-align: right;\">\n",
       "      <th></th>\n",
       "      <th>neighbourhood_group</th>\n",
       "      <th>neighbourhood</th>\n",
       "      <th>latitude</th>\n",
       "      <th>longitude</th>\n",
       "      <th>room_type</th>\n",
       "      <th>price</th>\n",
       "      <th>minimum_nights</th>\n",
       "      <th>number_of_reviews</th>\n",
       "      <th>reviews_per_month</th>\n",
       "      <th>calculated_host_listings_count</th>\n",
       "      <th>availability_365</th>\n",
       "      <th>name_length</th>\n",
       "      <th>minumum_nights</th>\n",
       "      <th>log_minimum_night</th>\n",
       "      <th>log_number_of_reviews</th>\n",
       "      <th>log_review_per_month</th>\n",
       "      <th>log_calculated_host_count</th>\n",
       "      <th>log_availability</th>\n",
       "      <th>log_name_length</th>\n",
       "      <th>log_minumum_night</th>\n",
       "    </tr>\n",
       "  </thead>\n",
       "  <tbody>\n",
       "    <tr>\n",
       "      <th>27657</th>\n",
       "      <td>0.0</td>\n",
       "      <td>93</td>\n",
       "      <td>0.036629</td>\n",
       "      <td>-0.066367</td>\n",
       "      <td>0.0</td>\n",
       "      <td>50</td>\n",
       "      <td>13</td>\n",
       "      <td>0.000000</td>\n",
       "      <td>0.000897</td>\n",
       "      <td>0.000000</td>\n",
       "      <td>0.000000</td>\n",
       "      <td>29</td>\n",
       "      <td>0.997122</td>\n",
       "      <td>2.564949e+00</td>\n",
       "      <td>-34.538776</td>\n",
       "      <td>-7.015978</td>\n",
       "      <td>-34.538776</td>\n",
       "      <td>-34.538776</td>\n",
       "      <td>3.367296</td>\n",
       "      <td>-0.002882</td>\n",
       "    </tr>\n",
       "    <tr>\n",
       "      <th>38177</th>\n",
       "      <td>0.0</td>\n",
       "      <td>90</td>\n",
       "      <td>0.001839</td>\n",
       "      <td>-0.003339</td>\n",
       "      <td>0.0</td>\n",
       "      <td>85</td>\n",
       "      <td>1</td>\n",
       "      <td>0.000087</td>\n",
       "      <td>0.000226</td>\n",
       "      <td>0.006187</td>\n",
       "      <td>0.999947</td>\n",
       "      <td>30</td>\n",
       "      <td>0.007299</td>\n",
       "      <td>1.110223e-15</td>\n",
       "      <td>-9.352931</td>\n",
       "      <td>-8.395818</td>\n",
       "      <td>-5.085275</td>\n",
       "      <td>-0.000053</td>\n",
       "      <td>3.401197</td>\n",
       "      <td>-4.920034</td>\n",
       "    </tr>\n",
       "    <tr>\n",
       "      <th>17890</th>\n",
       "      <td>0.0</td>\n",
       "      <td>74</td>\n",
       "      <td>0.000312</td>\n",
       "      <td>-0.000567</td>\n",
       "      <td>0.0</td>\n",
       "      <td>49</td>\n",
       "      <td>2</td>\n",
       "      <td>0.000009</td>\n",
       "      <td>0.000008</td>\n",
       "      <td>0.002723</td>\n",
       "      <td>0.999980</td>\n",
       "      <td>27</td>\n",
       "      <td>0.005634</td>\n",
       "      <td>6.931472e-01</td>\n",
       "      <td>-11.638279</td>\n",
       "      <td>-11.778041</td>\n",
       "      <td>-5.905924</td>\n",
       "      <td>-0.000020</td>\n",
       "      <td>3.295837</td>\n",
       "      <td>-5.178990</td>\n",
       "    </tr>\n",
       "    <tr>\n",
       "      <th>39255</th>\n",
       "      <td>0.0</td>\n",
       "      <td>93</td>\n",
       "      <td>0.001163</td>\n",
       "      <td>-0.002107</td>\n",
       "      <td>0.0</td>\n",
       "      <td>95</td>\n",
       "      <td>2</td>\n",
       "      <td>0.000023</td>\n",
       "      <td>0.000114</td>\n",
       "      <td>0.005072</td>\n",
       "      <td>0.999921</td>\n",
       "      <td>37</td>\n",
       "      <td>0.011235</td>\n",
       "      <td>6.931472e-01</td>\n",
       "      <td>-10.701505</td>\n",
       "      <td>-9.079489</td>\n",
       "      <td>-5.284000</td>\n",
       "      <td>-0.000079</td>\n",
       "      <td>3.610918</td>\n",
       "      <td>-4.488715</td>\n",
       "    </tr>\n",
       "    <tr>\n",
       "      <th>4191</th>\n",
       "      <td>0.0</td>\n",
       "      <td>34</td>\n",
       "      <td>0.018484</td>\n",
       "      <td>-0.033573</td>\n",
       "      <td>1.0</td>\n",
       "      <td>110</td>\n",
       "      <td>25</td>\n",
       "      <td>0.000000</td>\n",
       "      <td>0.000454</td>\n",
       "      <td>0.000000</td>\n",
       "      <td>0.000000</td>\n",
       "      <td>28</td>\n",
       "      <td>0.999265</td>\n",
       "      <td>3.218876e+00</td>\n",
       "      <td>-34.538776</td>\n",
       "      <td>-7.698054</td>\n",
       "      <td>-34.538776</td>\n",
       "      <td>-34.538776</td>\n",
       "      <td>3.332205</td>\n",
       "      <td>-0.000735</td>\n",
       "    </tr>\n",
       "  </tbody>\n",
       "</table>\n",
       "</div>"
      ],
      "text/plain": [
       "       neighbourhood_group  neighbourhood  latitude  longitude  room_type  \\\n",
       "27657                  0.0             93  0.036629  -0.066367        0.0   \n",
       "38177                  0.0             90  0.001839  -0.003339        0.0   \n",
       "17890                  0.0             74  0.000312  -0.000567        0.0   \n",
       "39255                  0.0             93  0.001163  -0.002107        0.0   \n",
       "4191                   0.0             34  0.018484  -0.033573        1.0   \n",
       "\n",
       "       price  minimum_nights  number_of_reviews  reviews_per_month  \\\n",
       "27657     50              13           0.000000           0.000897   \n",
       "38177     85               1           0.000087           0.000226   \n",
       "17890     49               2           0.000009           0.000008   \n",
       "39255     95               2           0.000023           0.000114   \n",
       "4191     110              25           0.000000           0.000454   \n",
       "\n",
       "       calculated_host_listings_count  availability_365  name_length  \\\n",
       "27657                        0.000000          0.000000           29   \n",
       "38177                        0.006187          0.999947           30   \n",
       "17890                        0.002723          0.999980           27   \n",
       "39255                        0.005072          0.999921           37   \n",
       "4191                         0.000000          0.000000           28   \n",
       "\n",
       "       minumum_nights  log_minimum_night  log_number_of_reviews  \\\n",
       "27657        0.997122       2.564949e+00             -34.538776   \n",
       "38177        0.007299       1.110223e-15              -9.352931   \n",
       "17890        0.005634       6.931472e-01             -11.638279   \n",
       "39255        0.011235       6.931472e-01             -10.701505   \n",
       "4191         0.999265       3.218876e+00             -34.538776   \n",
       "\n",
       "       log_review_per_month  log_calculated_host_count  log_availability  \\\n",
       "27657             -7.015978                 -34.538776        -34.538776   \n",
       "38177             -8.395818                  -5.085275         -0.000053   \n",
       "17890            -11.778041                  -5.905924         -0.000020   \n",
       "39255             -9.079489                  -5.284000         -0.000079   \n",
       "4191              -7.698054                 -34.538776        -34.538776   \n",
       "\n",
       "       log_name_length  log_minumum_night  \n",
       "27657         3.367296          -0.002882  \n",
       "38177         3.401197          -4.920034  \n",
       "17890         3.295837          -5.178990  \n",
       "39255         3.610918          -4.488715  \n",
       "4191          3.332205          -0.000735  "
      ]
     },
     "execution_count": 6,
     "metadata": {},
     "output_type": "execute_result"
    }
   ],
   "source": [
    "data.head(5)"
   ]
  },
  {
   "cell_type": "code",
   "execution_count": 7,
   "metadata": {
    "id": "WELmSbGtOsq1"
   },
   "outputs": [],
   "source": [
    "#featureX = data[[\"neighbourhood_group\", \"neighbourhood\", \"latitude\", \"longitude\", \"room_type\", \"minimum_nights\", \"number_of_reviews\", \"reviews_per_month\", \"calculated_host_listings_count\", \"availability_365\", \"name_length\", \"minimum_nights\", \"log_minimum_night\", \"log_number_of_reviews\", \"log_number_of_reviews\", \"log_review_per_month\", \"log_calculated_host_count\", \"log_calculated_host_count\", \"log_availability\", \"log_name_length\"]]\n",
    "featureY = data[[\"price\"]]\n",
    "featureX = data.drop(columns = \"price\")\n",
    "x_train, x_test, y_train, y_test = train_test_split(featureX, featureY, test_size=0.2, random_state=42)\n"
   ]
  },
  {
   "cell_type": "code",
   "execution_count": 8,
   "metadata": {
    "colab": {
     "base_uri": "https://localhost:8080/",
     "height": 195
    },
    "id": "NFr5RAQiRrcY",
    "outputId": "db63ddf6-9c45-49e6-a645-fe58542fda26"
   },
   "outputs": [
    {
     "data": {
      "text/html": [
       "<div>\n",
       "<style scoped>\n",
       "    .dataframe tbody tr th:only-of-type {\n",
       "        vertical-align: middle;\n",
       "    }\n",
       "\n",
       "    .dataframe tbody tr th {\n",
       "        vertical-align: top;\n",
       "    }\n",
       "\n",
       "    .dataframe thead th {\n",
       "        text-align: right;\n",
       "    }\n",
       "</style>\n",
       "<table border=\"1\" class=\"dataframe\">\n",
       "  <thead>\n",
       "    <tr style=\"text-align: right;\">\n",
       "      <th></th>\n",
       "      <th>price</th>\n",
       "    </tr>\n",
       "  </thead>\n",
       "  <tbody>\n",
       "    <tr>\n",
       "      <th>31497</th>\n",
       "      <td>60</td>\n",
       "    </tr>\n",
       "    <tr>\n",
       "      <th>26932</th>\n",
       "      <td>150</td>\n",
       "    </tr>\n",
       "    <tr>\n",
       "      <th>2059</th>\n",
       "      <td>200</td>\n",
       "    </tr>\n",
       "    <tr>\n",
       "      <th>5142</th>\n",
       "      <td>65</td>\n",
       "    </tr>\n",
       "    <tr>\n",
       "      <th>37814</th>\n",
       "      <td>120</td>\n",
       "    </tr>\n",
       "  </tbody>\n",
       "</table>\n",
       "</div>"
      ],
      "text/plain": [
       "       price\n",
       "31497     60\n",
       "26932    150\n",
       "2059     200\n",
       "5142      65\n",
       "37814    120"
      ]
     },
     "execution_count": 8,
     "metadata": {},
     "output_type": "execute_result"
    }
   ],
   "source": [
    "y_train.head()\n"
   ]
  },
  {
   "cell_type": "markdown",
   "metadata": {
    "id": "ud6olgSr9LY7"
   },
   "source": [
    "## Heatmap on correlation for train data"
   ]
  },
  {
   "cell_type": "code",
   "execution_count": 9,
   "metadata": {
    "colab": {
     "base_uri": "https://localhost:8080/",
     "height": 646
    },
    "id": "j_r1_urOQVBs",
    "outputId": "e8ddbf9b-d2ce-415f-f4a4-2c4c06db408f"
   },
   "outputs": [
    {
     "data": {
      "text/plain": [
       "<matplotlib.axes._subplots.AxesSubplot at 0x1a2182afd0>"
      ]
     },
     "execution_count": 9,
     "metadata": {},
     "output_type": "execute_result"
    },
    {
     "data": {
      "image/png": "[encoded data removed]",
      "text/plain": [
       "<Figure size 1080x576 with 2 Axes>"
      ]
     },
     "metadata": {
      "needs_background": "light"
     },
     "output_type": "display_data"
    }
   ],
   "source": [
    "frame = [y_train, x_train]\n",
    "traindata = pd.concat(frame, axis = 1)\n",
    "traindata.head(5)\n",
    "corr = traindata.corr(method='pearson')\n",
    "plt.figure(figsize=(15,8))\n",
    "sns.heatmap(corr, annot=True)"
   ]
  },
  {
   "cell_type": "markdown",
   "metadata": {
    "id": "gXmg8qvsVpC0"
   },
   "source": [
    "### We notice that after applying log transformation, the absolute value of correlation may increase for some features. The features that performs better on log transformation are different for different train-test-split runs. However, Common features that performs better on log_transformations are \"minimum_night\", \"calculated_host_litings_count\" and \"name_length\""
   ]
  },
  {
   "cell_type": "markdown",
   "metadata": {
    "id": "DAq3byF691rI"
   },
   "source": [
    "## Sequential feature selection from sklearn by lasso regression: \n",
    "test on 75%, 90%, 100% of features on train and test data. The result can be shown in table. \n"
   ]
  },
  {
   "cell_type": "code",
   "execution_count": 10,
   "metadata": {
    "colab": {
     "base_uri": "https://localhost:8080/",
     "height": 104
    },
    "id": "NUQvU0qLWa63",
    "outputId": "a1f95708-f800-495a-e755-31381bf721a7"
   },
   "outputs": [],
   "source": [
    "\n",
    "# Construct of selector models\n",
    "lasso = linear_model.Lasso(alpha=0.5)\n",
    "sfs1 = RFE(lasso, n_features_to_select=int(0.9*x_train.shape[1]))\n",
    "sfs2 = RFE(lasso, n_features_to_select=int(0.75*x_train.shape[1]))\n",
    "sfs1.fit(x_train, y_train)\n",
    "sfs2.fit(x_train, y_train)\n",
    "\n",
    "# transform\n",
    "xtrain_90 = sfs1.transform(x_train)\n",
    "xtrain_75 = sfs2.transform(x_train)\n"
   ]
  },
  {
   "cell_type": "code",
   "execution_count": 11,
   "metadata": {
    "colab": {
     "base_uri": "https://localhost:8080/",
     "height": 67
    },
    "id": "sKuT5Konbc0W",
    "outputId": "98bc544d-0174-4001-d19c-94ea5b6fff16"
   },
   "outputs": [
    {
     "data": {
      "text/plain": [
       "array([ True,  True,  True,  True,  True,  True,  True,  True, False,\n",
       "       False,  True,  True,  True,  True,  True,  True,  True,  True,\n",
       "        True])"
      ]
     },
     "execution_count": 11,
     "metadata": {},
     "output_type": "execute_result"
    }
   ],
   "source": [
    "sfs1.support_"
   ]
  },
  {
   "cell_type": "code",
   "execution_count": 12,
   "metadata": {
    "colab": {
     "base_uri": "https://localhost:8080/",
     "height": 67
    },
    "id": "QYchXJJPbnTT",
    "outputId": "e1940b12-4591-4066-8179-6f279ff37fc5"
   },
   "outputs": [
    {
     "data": {
      "text/plain": [
       "array([ True,  True, False, False,  True,  True, False,  True, False,\n",
       "       False,  True,  True,  True,  True,  True,  True,  True,  True,\n",
       "        True])"
      ]
     },
     "execution_count": 12,
     "metadata": {},
     "output_type": "execute_result"
    }
   ],
   "source": [
    "sfs2.support_"
   ]
  },
  {
   "cell_type": "code",
   "execution_count": 13,
   "metadata": {
    "id": "mRRV8uOKhPxM"
   },
   "outputs": [],
   "source": [
    "x_test_75 = sfs2.transform(x_test)\n",
    "x_test_90 = sfs1.transform(x_test)"
   ]
  },
  {
   "cell_type": "code",
   "execution_count": 14,
   "metadata": {
    "colab": {
     "base_uri": "https://localhost:8080/",
     "height": 34
    },
    "id": "y1rV8Ny_gxCZ",
    "outputId": "c4151e0c-6ea8-4024-cc99-5e10704f7f7f"
   },
   "outputs": [
    {
     "data": {
      "text/plain": [
       "1638.0659381882974"
      ]
     },
     "execution_count": 14,
     "metadata": {},
     "output_type": "execute_result"
    }
   ],
   "source": [
    "# Testing on 75% of the data\n",
    "lasso1 = linear_model.Lasso(alpha=0.5).fit(xtrain_75, y_train)\n",
    "predicted_75 = lasso1.predict(x_test_75)\n",
    "loss_75 = mean_squared_error(predicted_75, y_test)\n",
    "loss_75"
   ]
  },
  {
   "cell_type": "code",
   "execution_count": 15,
   "metadata": {
    "colab": {
     "base_uri": "https://localhost:8080/",
     "height": 34
    },
    "id": "t583C5djh9Iu",
    "outputId": "b726b9c2-4525-4a8e-b6b9-118937cb2cdc"
   },
   "outputs": [
    {
     "data": {
      "text/plain": [
       "1638.0659097433131"
      ]
     },
     "execution_count": 15,
     "metadata": {},
     "output_type": "execute_result"
    }
   ],
   "source": [
    "# Testing on 90% of the data\n",
    "lasso2 = linear_model.Lasso(alpha=0.5).fit(xtrain_90, y_train)\n",
    "predicted_90 = lasso2.predict(x_test_90)\n",
    "loss_90 = mean_squared_error(predicted_90, y_test)\n",
    "loss_90"
   ]
  },
  {
   "cell_type": "code",
   "execution_count": 16,
   "metadata": {
    "colab": {
     "base_uri": "https://localhost:8080/",
     "height": 34
    },
    "id": "edtEDEj7i8NW",
    "outputId": "448beba2-660b-4ee0-8454-b2b214380f79"
   },
   "outputs": [
    {
     "data": {
      "text/plain": [
       "1638.065854831842"
      ]
     },
     "execution_count": 16,
     "metadata": {},
     "output_type": "execute_result"
    }
   ],
   "source": [
    "# Test on the whole data\n",
    "lasso3 = linear_model.Lasso(alpha=0.5).fit(x_train, y_train)\n",
    "predicted = lasso3.predict(x_test)\n",
    "loss = mean_squared_error(predicted, y_test)\n",
    "loss"
   ]
  },
  {
   "cell_type": "markdown",
   "metadata": {
    "id": "ECHqJV6Z2o0U"
   },
   "source": [
    "### We notice that the mse loss is different for different train-test-split runs. Thus, we make the table for our sampled 5 runs to get which might be better:\n",
    "<table>\n",
    "<tr>\n",
    "  <th>Trial</th><th>75% of feature (mse error)</th><th>90% of feature (mse error)</th><th>100% of feature (mse error)</th><th>best(percent retained)</th></tr>\n",
    "\n",
    "<tr>\n",
    "<th>1</th>\n",
    "<th>1650.5907500207677</th>\n",
    "<th>1650.5908190303974</th>\n",
    "<th>1650.5910735995328</th>\n",
    "<th>75</th></tr><tr>\n",
    "<th>2</th>\n",
    "<th>1598.7247182731764</th>\n",
    "<th>1598.724711739087</th>\n",
    "<th>1598.7246732934193</th>\n",
    "<th>100</th></tr><tr>\n",
    "<th>3</th>\n",
    "<th>1651.2238928651923</th>\n",
    "<th>1651.2238679102115</th>\n",
    "<th>1651.2237966863613</th>\n",
    "<th>100</th></tr><tr>\n",
    "<th>4</th>\n",
    "<th>1649.2040389298475</th>\n",
    "<th>1649.2040272837903</th>\n",
    "<th>1649.2040161540663</th>\n",
    "<th>100</th></tr><tr>\n",
    "<th>5</th>\n",
    "<th>1630.9719244553812</th>\n",
    "<th>1630.9718826369053</th>\n",
    "<th>1630.971763588842</th>\n",
    "<th>100</th></tr></table>\n",
    "Thus, eliminate any feature might be harmful to lasso regression model. We could also assume and guess that eliminate any features will lead to bad performance of other models as well. "
   ]
  },
  {
   "cell_type": "markdown",
   "metadata": {
    "id": "3gtcSKNx-Ix_"
   },
   "source": [
    "## PCA Analysis\n",
    "test on test data for keeping whole dimension, 60% of the dimension 80% of the dimension and do not applied transformation. The result can be shown in a table\n"
   ]
  },
  {
   "cell_type": "code",
   "execution_count": 17,
   "metadata": {
    "colab": {
     "base_uri": "https://localhost:8080/",
     "height": 34
    },
    "id": "k_sYibBGDQog",
    "outputId": "f7850d95-fef1-4d2e-bdab-ffad1a79339f"
   },
   "outputs": [
    {
     "data": {
      "text/plain": [
       "1643.1095394554877"
      ]
     },
     "execution_count": 17,
     "metadata": {},
     "output_type": "execute_result"
    }
   ],
   "source": [
    "# The principal components are chosen such that 50% of the variance is retained\n",
    "pca_5 = PCA(n_components = int(0.5*(x_train.shape[1]))).fit(x_train)\n",
    "\n",
    "# Transform on the train and testing data, do a simple regression on testing\n",
    "x_train_5_p = pca_5.transform(x_train)\n",
    "x_test_5_p = pca_5.transform(x_test)\n",
    "lasso_5_p = linear_model.Lasso(alpha=0.5).fit(x_train_5_p, y_train)\n",
    "mean_squared_error(lasso_5_p.predict(x_test_5_p), y_test)"
   ]
  },
  {
   "cell_type": "code",
   "execution_count": 18,
   "metadata": {
    "colab": {
     "base_uri": "https://localhost:8080/",
     "height": 34
    },
    "id": "DDdKZy2YI290",
    "outputId": "b1326f89-cf3e-4e31-f04e-42c1c7bde91c"
   },
   "outputs": [
    {
     "data": {
      "text/plain": [
       "1635.0786835868596"
      ]
     },
     "execution_count": 18,
     "metadata": {},
     "output_type": "execute_result"
    }
   ],
   "source": [
    "# y = traindata[\"price\"]\n",
    "# x = traindata.drop(columns = \"price\")\n",
    "# traindata = StandardScaler().fit_transform(x)\n",
    "\n",
    "# The principal components are chosen such that 60% of the variance is retained\n",
    "pca_6 = PCA(n_components = int(0.6*(x_train.shape[1]))).fit(x_train)\n",
    "\n",
    "# principalDf = pd.DataFrame(data = principalComponents, columns = ['principal component 1', 'principal component 2','principal component 3','principal component 4','principal component 5','principal component 6','principal component 7','principal component 8','principal component 9','principal component 10','principal component 11' ])\n",
    "# array1 = pca.explained_variance_ratio_\n",
    "# sum = 0\n",
    "# for i in array1:\n",
    "  # sum = sum + i\n",
    "# sum\n",
    "\n",
    "# Transform on the train and testing data, do a simple regression on testing\n",
    "x_train_6_p = pca_6.transform(x_train)\n",
    "x_test_6_p = pca_6.transform(x_test)\n",
    "lasso_6_p = linear_model.Lasso(alpha=0.5).fit(x_train_6_p, y_train)\n",
    "mean_squared_error(lasso_6_p.predict(x_test_6_p), y_test)"
   ]
  },
  {
   "cell_type": "code",
   "execution_count": 19,
   "metadata": {
    "colab": {
     "base_uri": "https://localhost:8080/",
     "height": 34
    },
    "id": "Nnvc8KC0CgD1",
    "outputId": "68d188a7-cd75-469c-e428-2f8aa8473a55"
   },
   "outputs": [
    {
     "data": {
      "text/plain": [
       "1635.0786835868596"
      ]
     },
     "execution_count": 19,
     "metadata": {},
     "output_type": "execute_result"
    }
   ],
   "source": [
    "# The principal components are chosen such that 80% of the variance is retained\n",
    "pca_8 = PCA(n_components = int(0.8*(x_train.shape[1]))).fit(x_train)\n",
    "\n",
    "# Transform on the train and testing data, do a simple regression on testing\n",
    "x_train_8_p = pca_8.transform(x_train)\n",
    "x_test_8_p = pca_8.transform(x_test)\n",
    "lasso_8_p = linear_model.Lasso(alpha=0.5).fit(x_train_8_p, y_train)\n",
    "mean_squared_error(lasso_8_p.predict(x_test_8_p), y_test)"
   ]
  },
  {
   "cell_type": "code",
   "execution_count": 20,
   "metadata": {
    "colab": {
     "base_uri": "https://localhost:8080/",
     "height": 34
    },
    "id": "ZnnjUVFqSoxo",
    "outputId": "a6ff03d2-618f-4a0a-8e32-79721d166aee"
   },
   "outputs": [
    {
     "data": {
      "text/plain": [
       "1635.07868358686"
      ]
     },
     "execution_count": 20,
     "metadata": {},
     "output_type": "execute_result"
    }
   ],
   "source": [
    "# y = traindata[\"price\"]\n",
    "# x = traindata.drop(columns = \"price\")\n",
    "# traindata = StandardScaler().fit_transform(x)\n",
    "# the principal components are chosen such that 100% of the variance is retained\n",
    "pca = PCA().fit(x_train)\n",
    "\n",
    "# principalDf = pd.DataFrame(data = principalComponents, columns = ['principal component 1', 'principal component 2','principal component 3','principal component 4','principal component 5','principal component 6','principal component 7','principal component 8','principal component 9','principal component 10' ])\n",
    "# array1 = pca.explained_variance_ratio_\n",
    "# sum = 0\n",
    "# for i in array1:\n",
    "  # sum = sum + i\n",
    "# sum\n",
    "\n",
    "# transform and test\n",
    "x_train_p = pca.transform(x_train)\n",
    "x_test_p = pca.transform(x_test)\n",
    "lasso_p = linear_model.Lasso(alpha=0.5).fit(x_train_p, y_train)\n",
    "mean_squared_error(lasso_p.predict(x_test_p), y_test)"
   ]
  },
  {
   "cell_type": "markdown",
   "metadata": {
    "id": "oQsm_E4ZCY4Z"
   },
   "source": [
    "<table>\n",
    "<tr>\n",
    "<th>Trials</th>\n",
    "<th>PCA (mse error)</th>\n",
    "<th>PCA 50% (mse error)</th>\n",
    "<th>PCA 60% (mse error)</th>\n",
    "<th>PCA 80% (mse error)</th>\n",
    "<th> no PCA (mse error)</th>\n",
    "</tr>\n",
    "<tr>\n",
    "<th>1</th>\n",
    "<th>1658.6217503116238</th>\n",
    "<th>1666.7211666367061</th>\n",
    "<th>1658.6217503116238</th>\n",
    "<th>1658.6217503116238</th>\n",
    "<th>1662.4387964994773</th>\n",
    "</tr>\n",
    "<tr>\n",
    "<th>2</th>\n",
    "<th>1636.229643020161</th>\n",
    "<th>1642.7919251311662</th>\n",
    "<th>1636.229643020161</th>\n",
    "<th>1636.229643020161</th>\n",
    "<th>1638.5372346968588</th>\n",
    "</tr>\n",
    "<tr>\n",
    "<th>3</th>\n",
    "<th>1596.5187485464774</th>\n",
    "<th>1604.2044477066956</th>\n",
    "<th>1596.5187485464774</th>\n",
    "<th>1596.5187485464774</th>\n",
    "<th>1600.424106745925</th>\n",
    "</tr>\n",
    "</table>\n",
    "We found that applying PCA to the dataset will improve prediction score if PCA retain at least 60% of the axis (actually, they get the same improved score). By \"Occam's razor\", we will keep 60% of the transformed features for further supervised and unsupervised learning task. "
   ]
  },
  {
   "cell_type": "markdown",
   "metadata": {
    "id": "TVkyKtGeGb9j"
   },
   "source": [
    "# Conclusion\n",
    "1. We need to apply log transformation to continuous features. \n",
    "2. The sequential Selector's test found that we should retain all of its features.<br>\n",
    "3. The PCA test gives that we should do PCA analysis and retain 60% of the axis.\n",
    "\n",
    "# To do:\n",
    "Generate train_x, test_x, train_y, test_y based on the conclusion we found. "
   ]
  },
  {
   "cell_type": "code",
   "execution_count": 21,
   "metadata": {
    "colab": {
     "base_uri": "https://localhost:8080/",
     "height": 195
    },
    "id": "KcaoSM1gMDQs",
    "outputId": "5b5f8c8b-2e36-4dc1-85d2-d5ac5ba4a0fd"
   },
   "outputs": [
    {
     "data": {
      "text/html": [
       "<div>\n",
       "<style scoped>\n",
       "    .dataframe tbody tr th:only-of-type {\n",
       "        vertical-align: middle;\n",
       "    }\n",
       "\n",
       "    .dataframe tbody tr th {\n",
       "        vertical-align: top;\n",
       "    }\n",
       "\n",
       "    .dataframe thead th {\n",
       "        text-align: right;\n",
       "    }\n",
       "</style>\n",
       "<table border=\"1\" class=\"dataframe\">\n",
       "  <thead>\n",
       "    <tr style=\"text-align: right;\">\n",
       "      <th></th>\n",
       "      <th>price</th>\n",
       "    </tr>\n",
       "  </thead>\n",
       "  <tbody>\n",
       "    <tr>\n",
       "      <th>31497</th>\n",
       "      <td>60</td>\n",
       "    </tr>\n",
       "    <tr>\n",
       "      <th>26932</th>\n",
       "      <td>150</td>\n",
       "    </tr>\n",
       "    <tr>\n",
       "      <th>2059</th>\n",
       "      <td>200</td>\n",
       "    </tr>\n",
       "    <tr>\n",
       "      <th>5142</th>\n",
       "      <td>65</td>\n",
       "    </tr>\n",
       "    <tr>\n",
       "      <th>37814</th>\n",
       "      <td>120</td>\n",
       "    </tr>\n",
       "  </tbody>\n",
       "</table>\n",
       "</div>"
      ],
      "text/plain": [
       "       price\n",
       "31497     60\n",
       "26932    150\n",
       "2059     200\n",
       "5142      65\n",
       "37814    120"
      ]
     },
     "execution_count": 21,
     "metadata": {},
     "output_type": "execute_result"
    }
   ],
   "source": [
    "# We need to check if the rows are matched after concatenate. So we print out it here. \n",
    "y_train.head(5)"
   ]
  },
  {
   "cell_type": "code",
   "execution_count": 22,
   "metadata": {
    "colab": {
     "base_uri": "https://localhost:8080/",
     "height": 215
    },
    "id": "busNeIu0MQFQ",
    "outputId": "d15eb6bd-7040-4038-f98a-b64d43e1c14b"
   },
   "outputs": [
    {
     "data": {
      "text/html": [
       "<div>\n",
       "<style scoped>\n",
       "    .dataframe tbody tr th:only-of-type {\n",
       "        vertical-align: middle;\n",
       "    }\n",
       "\n",
       "    .dataframe tbody tr th {\n",
       "        vertical-align: top;\n",
       "    }\n",
       "\n",
       "    .dataframe thead th {\n",
       "        text-align: right;\n",
       "    }\n",
       "</style>\n",
       "<table border=\"1\" class=\"dataframe\">\n",
       "  <thead>\n",
       "    <tr style=\"text-align: right;\">\n",
       "      <th></th>\n",
       "      <th>neighbourhood_group</th>\n",
       "      <th>neighbourhood</th>\n",
       "      <th>latitude</th>\n",
       "      <th>longitude</th>\n",
       "      <th>room_type</th>\n",
       "      <th>minimum_nights</th>\n",
       "      <th>number_of_reviews</th>\n",
       "      <th>reviews_per_month</th>\n",
       "      <th>calculated_host_listings_count</th>\n",
       "      <th>availability_365</th>\n",
       "      <th>name_length</th>\n",
       "      <th>minumum_nights</th>\n",
       "      <th>log_minimum_night</th>\n",
       "      <th>log_number_of_reviews</th>\n",
       "      <th>log_review_per_month</th>\n",
       "      <th>log_calculated_host_count</th>\n",
       "      <th>log_availability</th>\n",
       "      <th>log_name_length</th>\n",
       "      <th>log_minumum_night</th>\n",
       "    </tr>\n",
       "  </thead>\n",
       "  <tbody>\n",
       "    <tr>\n",
       "      <th>31497</th>\n",
       "      <td>0.0</td>\n",
       "      <td>118</td>\n",
       "      <td>0.000571</td>\n",
       "      <td>-0.001037</td>\n",
       "      <td>0.0</td>\n",
       "      <td>15</td>\n",
       "      <td>0.000010</td>\n",
       "      <td>0.000042</td>\n",
       "      <td>0.003645</td>\n",
       "      <td>0.998333</td>\n",
       "      <td>46</td>\n",
       "      <td>0.057596</td>\n",
       "      <td>2.708050</td>\n",
       "      <td>-11.560841</td>\n",
       "      <td>-10.076566</td>\n",
       "      <td>-5.614497</td>\n",
       "      <td>-0.001669</td>\n",
       "      <td>3.828641</td>\n",
       "      <td>-2.854300</td>\n",
       "    </tr>\n",
       "    <tr>\n",
       "      <th>26932</th>\n",
       "      <td>0.0</td>\n",
       "      <td>28</td>\n",
       "      <td>0.005920</td>\n",
       "      <td>-0.010754</td>\n",
       "      <td>1.0</td>\n",
       "      <td>3</td>\n",
       "      <td>0.000378</td>\n",
       "      <td>0.000145</td>\n",
       "      <td>0.008584</td>\n",
       "      <td>0.998598</td>\n",
       "      <td>35</td>\n",
       "      <td>0.050776</td>\n",
       "      <td>1.098612</td>\n",
       "      <td>-7.879841</td>\n",
       "      <td>-8.835352</td>\n",
       "      <td>-4.757815</td>\n",
       "      <td>-0.001403</td>\n",
       "      <td>3.555348</td>\n",
       "      <td>-2.980329</td>\n",
       "    </tr>\n",
       "    <tr>\n",
       "      <th>2059</th>\n",
       "      <td>0.0</td>\n",
       "      <td>201</td>\n",
       "      <td>0.000316</td>\n",
       "      <td>-0.000573</td>\n",
       "      <td>1.0</td>\n",
       "      <td>6</td>\n",
       "      <td>0.000002</td>\n",
       "      <td>0.000015</td>\n",
       "      <td>0.002742</td>\n",
       "      <td>0.999852</td>\n",
       "      <td>29</td>\n",
       "      <td>0.016947</td>\n",
       "      <td>1.791759</td>\n",
       "      <td>-13.041376</td>\n",
       "      <td>-11.075263</td>\n",
       "      <td>-5.899113</td>\n",
       "      <td>-0.000148</td>\n",
       "      <td>3.367296</td>\n",
       "      <td>-4.077685</td>\n",
       "    </tr>\n",
       "    <tr>\n",
       "      <th>5142</th>\n",
       "      <td>0.0</td>\n",
       "      <td>150</td>\n",
       "      <td>0.015123</td>\n",
       "      <td>-0.027500</td>\n",
       "      <td>0.0</td>\n",
       "      <td>30</td>\n",
       "      <td>0.000011</td>\n",
       "      <td>0.000372</td>\n",
       "      <td>0.000000</td>\n",
       "      <td>0.000000</td>\n",
       "      <td>23</td>\n",
       "      <td>0.999507</td>\n",
       "      <td>3.401197</td>\n",
       "      <td>-11.403844</td>\n",
       "      <td>-7.897286</td>\n",
       "      <td>-34.538776</td>\n",
       "      <td>-34.538776</td>\n",
       "      <td>3.135494</td>\n",
       "      <td>-0.000493</td>\n",
       "    </tr>\n",
       "    <tr>\n",
       "      <th>37814</th>\n",
       "      <td>0.0</td>\n",
       "      <td>74</td>\n",
       "      <td>0.014496</td>\n",
       "      <td>-0.026376</td>\n",
       "      <td>1.0</td>\n",
       "      <td>3</td>\n",
       "      <td>0.000218</td>\n",
       "      <td>0.000357</td>\n",
       "      <td>0.011055</td>\n",
       "      <td>0.994838</td>\n",
       "      <td>37</td>\n",
       "      <td>0.096275</td>\n",
       "      <td>1.098612</td>\n",
       "      <td>-8.433171</td>\n",
       "      <td>-7.938875</td>\n",
       "      <td>-4.504888</td>\n",
       "      <td>-0.005175</td>\n",
       "      <td>3.610918</td>\n",
       "      <td>-2.340550</td>\n",
       "    </tr>\n",
       "  </tbody>\n",
       "</table>\n",
       "</div>"
      ],
      "text/plain": [
       "       neighbourhood_group  neighbourhood  latitude  longitude  room_type  \\\n",
       "31497                  0.0            118  0.000571  -0.001037        0.0   \n",
       "26932                  0.0             28  0.005920  -0.010754        1.0   \n",
       "2059                   0.0            201  0.000316  -0.000573        1.0   \n",
       "5142                   0.0            150  0.015123  -0.027500        0.0   \n",
       "37814                  0.0             74  0.014496  -0.026376        1.0   \n",
       "\n",
       "       minimum_nights  number_of_reviews  reviews_per_month  \\\n",
       "31497              15           0.000010           0.000042   \n",
       "26932               3           0.000378           0.000145   \n",
       "2059                6           0.000002           0.000015   \n",
       "5142               30           0.000011           0.000372   \n",
       "37814               3           0.000218           0.000357   \n",
       "\n",
       "       calculated_host_listings_count  availability_365  name_length  \\\n",
       "31497                        0.003645          0.998333           46   \n",
       "26932                        0.008584          0.998598           35   \n",
       "2059                         0.002742          0.999852           29   \n",
       "5142                         0.000000          0.000000           23   \n",
       "37814                        0.011055          0.994838           37   \n",
       "\n",
       "       minumum_nights  log_minimum_night  log_number_of_reviews  \\\n",
       "31497        0.057596           2.708050             -11.560841   \n",
       "26932        0.050776           1.098612              -7.879841   \n",
       "2059         0.016947           1.791759             -13.041376   \n",
       "5142         0.999507           3.401197             -11.403844   \n",
       "37814        0.096275           1.098612              -8.433171   \n",
       "\n",
       "       log_review_per_month  log_calculated_host_count  log_availability  \\\n",
       "31497            -10.076566                  -5.614497         -0.001669   \n",
       "26932             -8.835352                  -4.757815         -0.001403   \n",
       "2059             -11.075263                  -5.899113         -0.000148   \n",
       "5142              -7.897286                 -34.538776        -34.538776   \n",
       "37814             -7.938875                  -4.504888         -0.005175   \n",
       "\n",
       "       log_name_length  log_minumum_night  \n",
       "31497         3.828641          -2.854300  \n",
       "26932         3.555348          -2.980329  \n",
       "2059          3.367296          -4.077685  \n",
       "5142          3.135494          -0.000493  \n",
       "37814         3.610918          -2.340550  "
      ]
     },
     "execution_count": 22,
     "metadata": {},
     "output_type": "execute_result"
    }
   ],
   "source": [
    "x_train.head(5)"
   ]
  },
  {
   "cell_type": "code",
   "execution_count": 23,
   "metadata": {
    "colab": {
     "base_uri": "https://localhost:8080/",
     "height": 218
    },
    "id": "-edlv0ILIIkG",
    "outputId": "8d1bda4f-3446-430e-d90b-c2b76c997c9f"
   },
   "outputs": [
    {
     "data": {
      "text/plain": [
       "array([[ 1.35607360e+01, -1.80711835e+01,  7.45519332e-01,\n",
       "         9.55075418e+00, -6.95688099e+00, -9.32315339e-01,\n",
       "        -5.84774738e-01, -6.91838022e-01,  2.73579050e-01,\n",
       "         2.19229564e-01, -1.96824242e-02],\n",
       "       [-7.65786043e+01, -1.58102527e+01,  5.38229625e+00,\n",
       "        -3.66121416e+00,  3.93796526e-01,  7.12767980e-01,\n",
       "        -6.83690920e-01,  4.25129903e-01,  2.22769825e-02,\n",
       "        -1.86620893e-01, -2.91876195e-02],\n",
       "       [ 9.63918324e+01, -1.79276690e+01, -1.56119134e+00,\n",
       "        -9.10588264e+00,  5.60470408e-02, -1.93895283e+00,\n",
       "        -9.24152226e-01,  3.47774064e-01,  3.60715707e-01,\n",
       "         3.08596292e-01, -4.44648545e-02]])"
      ]
     },
     "execution_count": 23,
     "metadata": {},
     "output_type": "execute_result"
    }
   ],
   "source": [
    "pca_final = PCA(n_components=int(0.6 * x_train.shape[1])).fit(x_train)\n",
    "x_train_final = pca_final.transform(x_train)\n",
    "# testing later to check if rows match\n",
    "x_train_test = pca_final.transform(x_train[:3])\n",
    "x_train_test"
   ]
  },
  {
   "cell_type": "code",
   "execution_count": 24,
   "metadata": {
    "colab": {
     "base_uri": "https://localhost:8080/",
     "height": 232
    },
    "id": "jwVthJNvNWrE",
    "outputId": "6fc08cdd-7b36-430b-bd8f-c1e796bf61b4"
   },
   "outputs": [
    {
     "data": {
      "text/html": [
       "<div>\n",
       "<style scoped>\n",
       "    .dataframe tbody tr th:only-of-type {\n",
       "        vertical-align: middle;\n",
       "    }\n",
       "\n",
       "    .dataframe tbody tr th {\n",
       "        vertical-align: top;\n",
       "    }\n",
       "\n",
       "    .dataframe thead th {\n",
       "        text-align: right;\n",
       "    }\n",
       "</style>\n",
       "<table border=\"1\" class=\"dataframe\">\n",
       "  <thead>\n",
       "    <tr style=\"text-align: right;\">\n",
       "      <th></th>\n",
       "      <th>pca_component 0</th>\n",
       "      <th>pca_component 1</th>\n",
       "      <th>pca_component 2</th>\n",
       "      <th>pca_component 3</th>\n",
       "      <th>pca_component 4</th>\n",
       "      <th>pca_component 5</th>\n",
       "      <th>pca_component 6</th>\n",
       "      <th>pca_component 7</th>\n",
       "      <th>pca_component 8</th>\n",
       "      <th>pca_component 9</th>\n",
       "      <th>pca_component 10</th>\n",
       "      <th>price</th>\n",
       "    </tr>\n",
       "  </thead>\n",
       "  <tbody>\n",
       "    <tr>\n",
       "      <th>0</th>\n",
       "      <td>13.560736</td>\n",
       "      <td>-18.071184</td>\n",
       "      <td>0.745519</td>\n",
       "      <td>9.550754</td>\n",
       "      <td>-6.956881</td>\n",
       "      <td>-0.932315</td>\n",
       "      <td>-0.584775</td>\n",
       "      <td>-0.691838</td>\n",
       "      <td>0.273579</td>\n",
       "      <td>0.219230</td>\n",
       "      <td>-0.019682</td>\n",
       "      <td>60.0</td>\n",
       "    </tr>\n",
       "    <tr>\n",
       "      <th>1</th>\n",
       "      <td>-76.578604</td>\n",
       "      <td>-15.810253</td>\n",
       "      <td>5.382296</td>\n",
       "      <td>-3.661214</td>\n",
       "      <td>0.393797</td>\n",
       "      <td>0.712768</td>\n",
       "      <td>-0.683691</td>\n",
       "      <td>0.425130</td>\n",
       "      <td>0.022277</td>\n",
       "      <td>-0.186621</td>\n",
       "      <td>-0.029188</td>\n",
       "      <td>150.0</td>\n",
       "    </tr>\n",
       "    <tr>\n",
       "      <th>2</th>\n",
       "      <td>96.391832</td>\n",
       "      <td>-17.927669</td>\n",
       "      <td>-1.561191</td>\n",
       "      <td>-9.105883</td>\n",
       "      <td>0.056047</td>\n",
       "      <td>-1.938953</td>\n",
       "      <td>-0.924152</td>\n",
       "      <td>0.347774</td>\n",
       "      <td>0.360716</td>\n",
       "      <td>0.308596</td>\n",
       "      <td>-0.044465</td>\n",
       "      <td>200.0</td>\n",
       "    </tr>\n",
       "    <tr>\n",
       "      <th>3</th>\n",
       "      <td>46.282765</td>\n",
       "      <td>26.615582</td>\n",
       "      <td>-10.776831</td>\n",
       "      <td>-6.606686</td>\n",
       "      <td>-25.835203</td>\n",
       "      <td>-2.763512</td>\n",
       "      <td>0.362296</td>\n",
       "      <td>-0.646464</td>\n",
       "      <td>-0.329572</td>\n",
       "      <td>-0.547734</td>\n",
       "      <td>-0.029774</td>\n",
       "      <td>65.0</td>\n",
       "    </tr>\n",
       "    <tr>\n",
       "      <th>4</th>\n",
       "      <td>-30.573753</td>\n",
       "      <td>-16.690400</td>\n",
       "      <td>5.590036</td>\n",
       "      <td>-2.022690</td>\n",
       "      <td>1.066002</td>\n",
       "      <td>1.800800</td>\n",
       "      <td>-0.698665</td>\n",
       "      <td>0.393738</td>\n",
       "      <td>0.001395</td>\n",
       "      <td>-0.227949</td>\n",
       "      <td>-0.027538</td>\n",
       "      <td>120.0</td>\n",
       "    </tr>\n",
       "  </tbody>\n",
       "</table>\n",
       "</div>"
      ],
      "text/plain": [
       "   pca_component 0  pca_component 1  pca_component 2  pca_component 3  \\\n",
       "0        13.560736       -18.071184         0.745519         9.550754   \n",
       "1       -76.578604       -15.810253         5.382296        -3.661214   \n",
       "2        96.391832       -17.927669        -1.561191        -9.105883   \n",
       "3        46.282765        26.615582       -10.776831        -6.606686   \n",
       "4       -30.573753       -16.690400         5.590036        -2.022690   \n",
       "\n",
       "   pca_component 4  pca_component 5  pca_component 6  pca_component 7  \\\n",
       "0        -6.956881        -0.932315        -0.584775        -0.691838   \n",
       "1         0.393797         0.712768        -0.683691         0.425130   \n",
       "2         0.056047        -1.938953        -0.924152         0.347774   \n",
       "3       -25.835203        -2.763512         0.362296        -0.646464   \n",
       "4         1.066002         1.800800        -0.698665         0.393738   \n",
       "\n",
       "   pca_component 8  pca_component 9  pca_component 10  price  \n",
       "0         0.273579         0.219230         -0.019682   60.0  \n",
       "1         0.022277        -0.186621         -0.029188  150.0  \n",
       "2         0.360716         0.308596         -0.044465  200.0  \n",
       "3        -0.329572        -0.547734         -0.029774   65.0  \n",
       "4         0.001395        -0.227949         -0.027538  120.0  "
      ]
     },
     "execution_count": 24,
     "metadata": {},
     "output_type": "execute_result"
    }
   ],
   "source": [
    "train_dataset = np.concatenate([x_train_final, y_train], axis=1)\n",
    "column_names_p = [\"pca_component \" + str(i) for i in range(x_train_final.shape[1])]\n",
    "column_names_p.append(\"price\")\n",
    "train_dataset = pd.DataFrame(train_dataset, columns=column_names_p)\n",
    "train_dataset.head()"
   ]
  },
  {
   "cell_type": "code",
   "execution_count": 25,
   "metadata": {
    "id": "ZBfZm48tJaMX"
   },
   "outputs": [],
   "source": [
    "train_dataset.to_csv(\"train5.csv\", header=True, index=True)"
   ]
  },
  {
   "cell_type": "code",
   "execution_count": 26,
   "metadata": {
    "colab": {
     "base_uri": "https://localhost:8080/",
     "height": 136
    },
    "id": "zn7JrGedLQfJ",
    "outputId": "785d81c1-f3f9-4783-cea5-f24082c8e9c7"
   },
   "outputs": [
    {
     "data": {
      "text/html": [
       "<div>\n",
       "<style scoped>\n",
       "    .dataframe tbody tr th:only-of-type {\n",
       "        vertical-align: middle;\n",
       "    }\n",
       "\n",
       "    .dataframe tbody tr th {\n",
       "        vertical-align: top;\n",
       "    }\n",
       "\n",
       "    .dataframe thead th {\n",
       "        text-align: right;\n",
       "    }\n",
       "</style>\n",
       "<table border=\"1\" class=\"dataframe\">\n",
       "  <thead>\n",
       "    <tr style=\"text-align: right;\">\n",
       "      <th></th>\n",
       "      <th>price</th>\n",
       "    </tr>\n",
       "  </thead>\n",
       "  <tbody>\n",
       "    <tr>\n",
       "      <th>43812</th>\n",
       "      <td>150</td>\n",
       "    </tr>\n",
       "    <tr>\n",
       "      <th>35356</th>\n",
       "      <td>50</td>\n",
       "    </tr>\n",
       "    <tr>\n",
       "      <th>24790</th>\n",
       "      <td>100</td>\n",
       "    </tr>\n",
       "  </tbody>\n",
       "</table>\n",
       "</div>"
      ],
      "text/plain": [
       "       price\n",
       "43812    150\n",
       "35356     50\n",
       "24790    100"
      ]
     },
     "execution_count": 26,
     "metadata": {},
     "output_type": "execute_result"
    }
   ],
   "source": [
    "y_test.head(3)"
   ]
  },
  {
   "cell_type": "code",
   "execution_count": 27,
   "metadata": {
    "colab": {
     "base_uri": "https://localhost:8080/",
     "height": 156
    },
    "id": "apaa9terPwqp",
    "outputId": "b888d6fd-f6f9-49af-9ff6-13ff5160c52b"
   },
   "outputs": [
    {
     "data": {
      "text/html": [
       "<div>\n",
       "<style scoped>\n",
       "    .dataframe tbody tr th:only-of-type {\n",
       "        vertical-align: middle;\n",
       "    }\n",
       "\n",
       "    .dataframe tbody tr th {\n",
       "        vertical-align: top;\n",
       "    }\n",
       "\n",
       "    .dataframe thead th {\n",
       "        text-align: right;\n",
       "    }\n",
       "</style>\n",
       "<table border=\"1\" class=\"dataframe\">\n",
       "  <thead>\n",
       "    <tr style=\"text-align: right;\">\n",
       "      <th></th>\n",
       "      <th>neighbourhood_group</th>\n",
       "      <th>neighbourhood</th>\n",
       "      <th>latitude</th>\n",
       "      <th>longitude</th>\n",
       "      <th>room_type</th>\n",
       "      <th>minimum_nights</th>\n",
       "      <th>number_of_reviews</th>\n",
       "      <th>reviews_per_month</th>\n",
       "      <th>calculated_host_listings_count</th>\n",
       "      <th>availability_365</th>\n",
       "      <th>name_length</th>\n",
       "      <th>minumum_nights</th>\n",
       "      <th>log_minimum_night</th>\n",
       "      <th>log_number_of_reviews</th>\n",
       "      <th>log_review_per_month</th>\n",
       "      <th>log_calculated_host_count</th>\n",
       "      <th>log_availability</th>\n",
       "      <th>log_name_length</th>\n",
       "      <th>log_minumum_night</th>\n",
       "    </tr>\n",
       "  </thead>\n",
       "  <tbody>\n",
       "    <tr>\n",
       "      <th>43812</th>\n",
       "      <td>0.0</td>\n",
       "      <td>90</td>\n",
       "      <td>0.000662</td>\n",
       "      <td>-0.001202</td>\n",
       "      <td>1.0</td>\n",
       "      <td>2</td>\n",
       "      <td>0.000032</td>\n",
       "      <td>0.000016</td>\n",
       "      <td>0.003915</td>\n",
       "      <td>0.999957</td>\n",
       "      <td>48</td>\n",
       "      <td>0.008298</td>\n",
       "      <td>6.931472e-01</td>\n",
       "      <td>-10.334472</td>\n",
       "      <td>-11.027619</td>\n",
       "      <td>-5.542822</td>\n",
       "      <td>-0.000043</td>\n",
       "      <td>3.871201</td>\n",
       "      <td>-4.791693</td>\n",
       "    </tr>\n",
       "    <tr>\n",
       "      <th>35356</th>\n",
       "      <td>1.0</td>\n",
       "      <td>65</td>\n",
       "      <td>0.003809</td>\n",
       "      <td>-0.006880</td>\n",
       "      <td>0.0</td>\n",
       "      <td>1</td>\n",
       "      <td>0.000000</td>\n",
       "      <td>0.000093</td>\n",
       "      <td>0.008200</td>\n",
       "      <td>0.999871</td>\n",
       "      <td>25</td>\n",
       "      <td>0.011362</td>\n",
       "      <td>1.110223e-15</td>\n",
       "      <td>-34.538776</td>\n",
       "      <td>-9.280969</td>\n",
       "      <td>-4.803632</td>\n",
       "      <td>-0.000129</td>\n",
       "      <td>3.218876</td>\n",
       "      <td>-4.477466</td>\n",
       "    </tr>\n",
       "    <tr>\n",
       "      <th>24790</th>\n",
       "      <td>0.0</td>\n",
       "      <td>80</td>\n",
       "      <td>0.340755</td>\n",
       "      <td>-0.619387</td>\n",
       "      <td>1.0</td>\n",
       "      <td>1</td>\n",
       "      <td>0.000670</td>\n",
       "      <td>0.008373</td>\n",
       "      <td>0.000000</td>\n",
       "      <td>0.000000</td>\n",
       "      <td>48</td>\n",
       "      <td>0.707231</td>\n",
       "      <td>1.110223e-15</td>\n",
       "      <td>-7.308487</td>\n",
       "      <td>-4.782758</td>\n",
       "      <td>-34.538776</td>\n",
       "      <td>-34.538776</td>\n",
       "      <td>3.871201</td>\n",
       "      <td>-0.346398</td>\n",
       "    </tr>\n",
       "  </tbody>\n",
       "</table>\n",
       "</div>"
      ],
      "text/plain": [
       "       neighbourhood_group  neighbourhood  latitude  longitude  room_type  \\\n",
       "43812                  0.0             90  0.000662  -0.001202        1.0   \n",
       "35356                  1.0             65  0.003809  -0.006880        0.0   \n",
       "24790                  0.0             80  0.340755  -0.619387        1.0   \n",
       "\n",
       "       minimum_nights  number_of_reviews  reviews_per_month  \\\n",
       "43812               2           0.000032           0.000016   \n",
       "35356               1           0.000000           0.000093   \n",
       "24790               1           0.000670           0.008373   \n",
       "\n",
       "       calculated_host_listings_count  availability_365  name_length  \\\n",
       "43812                        0.003915          0.999957           48   \n",
       "35356                        0.008200          0.999871           25   \n",
       "24790                        0.000000          0.000000           48   \n",
       "\n",
       "       minumum_nights  log_minimum_night  log_number_of_reviews  \\\n",
       "43812        0.008298       6.931472e-01             -10.334472   \n",
       "35356        0.011362       1.110223e-15             -34.538776   \n",
       "24790        0.707231       1.110223e-15              -7.308487   \n",
       "\n",
       "       log_review_per_month  log_calculated_host_count  log_availability  \\\n",
       "43812            -11.027619                  -5.542822         -0.000043   \n",
       "35356             -9.280969                  -4.803632         -0.000129   \n",
       "24790             -4.782758                 -34.538776        -34.538776   \n",
       "\n",
       "       log_name_length  log_minumum_night  \n",
       "43812         3.871201          -4.791693  \n",
       "35356         3.218876          -4.477466  \n",
       "24790         3.871201          -0.346398  "
      ]
     },
     "execution_count": 27,
     "metadata": {},
     "output_type": "execute_result"
    }
   ],
   "source": [
    "x_test.head(3)"
   ]
  },
  {
   "cell_type": "code",
   "execution_count": 28,
   "metadata": {
    "colab": {
     "base_uri": "https://localhost:8080/",
     "height": 218
    },
    "id": "M5cp16nvNwVi",
    "outputId": "f998dca2-9b8a-4727-aee7-0304effb2d79"
   },
   "outputs": [
    {
     "data": {
      "text/plain": [
       "array([[-1.45131071e+01, -1.71667552e+01,  7.44891172e+00,\n",
       "         8.38594595e+00,  4.41303451e+00, -2.33281096e+00,\n",
       "        -3.76782711e-01,  5.23872357e-01, -1.03869466e-01,\n",
       "         1.53249383e-02, -2.82973494e-02],\n",
       "       [-3.95948557e+01, -1.51684001e+01, -1.98513369e+01,\n",
       "        -8.58655801e+00,  1.29222305e+01,  1.31655904e-01,\n",
       "         5.10727419e-01, -2.09630439e-01, -3.12547608e-01,\n",
       "        -4.09083620e-01,  9.31067973e-01],\n",
       "       [-2.37432030e+01,  2.84845120e+01,  1.11020959e+01,\n",
       "         1.02965895e+01,  1.05992862e+00,  2.41202611e-01,\n",
       "         5.21550903e-01,  6.72580079e-01, -4.30173904e-01,\n",
       "         1.15623136e-01,  7.82517062e-03]])"
      ]
     },
     "execution_count": 28,
     "metadata": {},
     "output_type": "execute_result"
    }
   ],
   "source": [
    "x_test_test = pca_final.transform(x_test[:3])\n",
    "x_test_test"
   ]
  },
  {
   "cell_type": "code",
   "execution_count": 29,
   "metadata": {
    "colab": {
     "base_uri": "https://localhost:8080/",
     "height": 232
    },
    "id": "Z8wK238PJrJV",
    "outputId": "e3e0c9e6-af23-48b6-f2a7-35b28fbe62e6"
   },
   "outputs": [
    {
     "data": {
      "text/html": [
       "<div>\n",
       "<style scoped>\n",
       "    .dataframe tbody tr th:only-of-type {\n",
       "        vertical-align: middle;\n",
       "    }\n",
       "\n",
       "    .dataframe tbody tr th {\n",
       "        vertical-align: top;\n",
       "    }\n",
       "\n",
       "    .dataframe thead th {\n",
       "        text-align: right;\n",
       "    }\n",
       "</style>\n",
       "<table border=\"1\" class=\"dataframe\">\n",
       "  <thead>\n",
       "    <tr style=\"text-align: right;\">\n",
       "      <th></th>\n",
       "      <th>pca_component 0</th>\n",
       "      <th>pca_component 1</th>\n",
       "      <th>pca_component 2</th>\n",
       "      <th>pca_component 3</th>\n",
       "      <th>pca_component 4</th>\n",
       "      <th>pca_component 5</th>\n",
       "      <th>pca_component 6</th>\n",
       "      <th>pca_component 7</th>\n",
       "      <th>pca_component 8</th>\n",
       "      <th>pca_component 9</th>\n",
       "      <th>pca_component 10</th>\n",
       "      <th>price</th>\n",
       "    </tr>\n",
       "  </thead>\n",
       "  <tbody>\n",
       "    <tr>\n",
       "      <th>0</th>\n",
       "      <td>-14.513107</td>\n",
       "      <td>-17.166755</td>\n",
       "      <td>7.448912</td>\n",
       "      <td>8.385946</td>\n",
       "      <td>4.413035</td>\n",
       "      <td>-2.332811</td>\n",
       "      <td>-0.376783</td>\n",
       "      <td>0.523872</td>\n",
       "      <td>-0.103869</td>\n",
       "      <td>0.015325</td>\n",
       "      <td>-0.028297</td>\n",
       "      <td>150.0</td>\n",
       "    </tr>\n",
       "    <tr>\n",
       "      <th>1</th>\n",
       "      <td>-39.594856</td>\n",
       "      <td>-15.168400</td>\n",
       "      <td>-19.851337</td>\n",
       "      <td>-8.586558</td>\n",
       "      <td>12.922231</td>\n",
       "      <td>0.131656</td>\n",
       "      <td>0.510727</td>\n",
       "      <td>-0.209630</td>\n",
       "      <td>-0.312548</td>\n",
       "      <td>-0.409084</td>\n",
       "      <td>0.931068</td>\n",
       "      <td>50.0</td>\n",
       "    </tr>\n",
       "    <tr>\n",
       "      <th>2</th>\n",
       "      <td>-23.743203</td>\n",
       "      <td>28.484512</td>\n",
       "      <td>11.102096</td>\n",
       "      <td>10.296590</td>\n",
       "      <td>1.059929</td>\n",
       "      <td>0.241203</td>\n",
       "      <td>0.521551</td>\n",
       "      <td>0.672580</td>\n",
       "      <td>-0.430174</td>\n",
       "      <td>0.115623</td>\n",
       "      <td>0.007825</td>\n",
       "      <td>100.0</td>\n",
       "    </tr>\n",
       "    <tr>\n",
       "      <th>3</th>\n",
       "      <td>41.337433</td>\n",
       "      <td>-16.711204</td>\n",
       "      <td>0.883100</td>\n",
       "      <td>-14.037136</td>\n",
       "      <td>3.172080</td>\n",
       "      <td>-1.526536</td>\n",
       "      <td>1.212748</td>\n",
       "      <td>-0.156595</td>\n",
       "      <td>0.092038</td>\n",
       "      <td>-0.044878</td>\n",
       "      <td>0.931142</td>\n",
       "      <td>38.0</td>\n",
       "    </tr>\n",
       "    <tr>\n",
       "      <th>4</th>\n",
       "      <td>-1.705202</td>\n",
       "      <td>27.522886</td>\n",
       "      <td>2.250264</td>\n",
       "      <td>6.853132</td>\n",
       "      <td>-10.564731</td>\n",
       "      <td>-1.799688</td>\n",
       "      <td>-0.572802</td>\n",
       "      <td>-0.705178</td>\n",
       "      <td>0.273202</td>\n",
       "      <td>-0.258609</td>\n",
       "      <td>-0.011885</td>\n",
       "      <td>57.0</td>\n",
       "    </tr>\n",
       "  </tbody>\n",
       "</table>\n",
       "</div>"
      ],
      "text/plain": [
       "   pca_component 0  pca_component 1  pca_component 2  pca_component 3  \\\n",
       "0       -14.513107       -17.166755         7.448912         8.385946   \n",
       "1       -39.594856       -15.168400       -19.851337        -8.586558   \n",
       "2       -23.743203        28.484512        11.102096        10.296590   \n",
       "3        41.337433       -16.711204         0.883100       -14.037136   \n",
       "4        -1.705202        27.522886         2.250264         6.853132   \n",
       "\n",
       "   pca_component 4  pca_component 5  pca_component 6  pca_component 7  \\\n",
       "0         4.413035        -2.332811        -0.376783         0.523872   \n",
       "1        12.922231         0.131656         0.510727        -0.209630   \n",
       "2         1.059929         0.241203         0.521551         0.672580   \n",
       "3         3.172080        -1.526536         1.212748        -0.156595   \n",
       "4       -10.564731        -1.799688        -0.572802        -0.705178   \n",
       "\n",
       "   pca_component 8  pca_component 9  pca_component 10  price  \n",
       "0        -0.103869         0.015325         -0.028297  150.0  \n",
       "1        -0.312548        -0.409084          0.931068   50.0  \n",
       "2        -0.430174         0.115623          0.007825  100.0  \n",
       "3         0.092038        -0.044878          0.931142   38.0  \n",
       "4         0.273202        -0.258609         -0.011885   57.0  "
      ]
     },
     "execution_count": 29,
     "metadata": {},
     "output_type": "execute_result"
    }
   ],
   "source": [
    "x_test_final = pca_final.transform(x_test)\n",
    "test_dataset = np.concatenate([x_test_final, y_test], axis=1)\n",
    "test_dataset = pd.DataFrame(test_dataset, columns=column_names_p)\n",
    "test_dataset.head()"
   ]
  },
  {
   "cell_type": "code",
   "execution_count": 30,
   "metadata": {
    "id": "M0Gppx7GOGlF"
   },
   "outputs": [],
   "source": [
    "test_dataset.to_csv(\"test5.csv\", header=True, index=True)"
   ]
  },
  {
   "cell_type": "code",
   "execution_count": null,
   "metadata": {},
   "outputs": [],
   "source": []
  }
 ],
 "metadata": {
  "colab": {
   "collapsed_sections": [],
   "name": "feature selection.ipynb",
   "provenance": [],
   "toc_visible": true
  },
  "kernelspec": {
   "display_name": "Python 3",
   "language": "python",
   "name": "python3"
  },
  "language_info": {
   "codemirror_mode": {
    "name": "ipython",
    "version": 3
   },
   "file_extension": ".py",
   "mimetype": "text/x-python",
   "name": "python",
   "nbconvert_exporter": "python",
   "pygments_lexer": "ipython3",
   "version": "3.7.3"
  }
 },
 "nbformat": 4,
 "nbformat_minor": 1
}
